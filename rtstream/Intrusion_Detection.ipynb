{
  "cells": [
    {
      "cell_type": "markdown",
      "metadata": {
        "id": "Fsebg6qWNsIQ"
      },
      "source": [
        "# 🏠 Smart Intruder Detection for Property Surveillance using VideoDB RTStream\n",
        "[![Open In Colab](https://colab.research.google.com/assets/colab-badge.svg)](https://colab.research.google.com/github/video-db/videodb-workshop/blob/main/rtstream/Intrusion_Detection.ipynb)\n",
        "## 📖 Storytime: Why This Matters\n",
        "\n",
        "Have you ever felt anxious leaving your home, shop, or property unattended?  \n",
        "**What if someone’s lurking around your property?**  \n",
        "**What if someone’s trying the door or peeking through windows?**  \n",
        "Sure — you could install IP cameras, but who has the time to watch them 24/7?\n",
        "\n",
        "**Good news — you don’t have to anymore.**\n",
        "\n",
        "With **VideoDB RTStream**, you can build a smart, AI-powered property surveillance system that actively monitors live video streams, detects suspicious activity, and immediately sends alerts for escalating security breaches — all without human supervision.\n",
        "\n",
        "---\n",
        "\n",
        "## 🚀 What You’ll Build in This Notebook\n",
        "\n",
        "In this notebook, we’ll build a layered intruder detection system with **three levels of security breach detection**:\n",
        "- **🔸 Level 1: Loitering near the property perimeter**\n",
        "- **🔸 Level 2: Attempting to check the door lock (tampering / intrusion attempt)**\n",
        "- **🔸 Level 3: Physically entering the property (highest breach)**\n",
        "\n",
        "You’ll learn how to:\n",
        "- 📺 Connect a property surveillance video stream to VideoDB\n",
        "- 🤖 Use AI to continuously analyze scenes for suspicious activity\n",
        "- Detect and differentiate **three levels of security threats**\n",
        "- 🚨 Trigger separate real-time alerts for each level to a webhook\n",
        "\n",
        "Let’s build it!"
      ]
    },
    {
      "cell_type": "markdown",
      "metadata": {
        "id": "tMOTjoKCNx4m"
      },
      "source": [
        "---\n",
        "\n",
        "## 📦 Step 1: Install Dependencies\n",
        "\n",
        "We’ll begin by installing the VideoDB SDK"
      ]
    },
    {
      "cell_type": "code",
      "execution_count": null,
      "metadata": {
        "colab": {
          "base_uri": "https://localhost:8080/"
        },
        "id": "VWIKa3mWNwSr",
        "outputId": "ab516051-3cf0-4aba-f502-83a157732866"
      },
      "outputs": [
        {
          "name": "stdout",
          "output_type": "stream",
          "text": [
            "  Preparing metadata (setup.py) ... \u001b[?25l\u001b[?25hdone\n",
            "  Building wheel for videodb (setup.py) ... \u001b[?25l\u001b[?25hdone\n"
          ]
        }
      ],
      "source": [
        "!pip install -q videodb"
      ]
    },
    {
      "cell_type": "markdown",
      "metadata": {
        "id": "ADeNXFVGN1g_"
      },
      "source": [
        "---\n",
        "## 📦 Step 2: Connect to VideoDB\n",
        "\n",
        "Let's connect to VideoDB's API using your credentials to prepare for stream monitoring.\n",
        "\n",
        "Please enter your `VIDEO_DB_API_KEY` in the input box that appears below after you run this cell.\n",
        "\n",
        "Your input will be masked.\n"
      ]
    },
    {
      "cell_type": "code",
      "execution_count": null,
      "metadata": {
        "colab": {
          "base_uri": "https://localhost:8080/"
        },
        "id": "HX-5_YF_N2mK",
        "outputId": "dcbfc051-8c74-4836-aa92-4b495a93cf95"
      },
      "outputs": [
        {
          "name": "stdout",
          "output_type": "stream",
          "text": [
            "Please enter your VideoDB API Key: ··········\n",
            "Connected to VideoDB securely!\n"
          ]
        }
      ],
      "source": [
        "import videodb\n",
        "import os\n",
        "from getpass import getpass\n",
        "\n",
        "api_key = getpass(\"Please enter your VideoDB API Key: \")\n",
        "\n",
        "os.environ[\"VIDEO_DB_API_KEY\"] = api_key\n",
        "\n",
        "conn = videodb.connect()\n",
        "coll = conn.get_collection()\n",
        "\n",
        "print(\"Connected to VideoDB securely!\")"
      ]
    },
    {
      "cell_type": "markdown",
      "metadata": {
        "id": "4zMEeRBaN7Zm"
      },
      "source": [
        "---\n",
        "\n",
        "## 📦 Step 3: Connect to the Property Surveillance RTSP Stream\n",
        "\n",
        "We’ll connect to the live video stream of your property’s security camera.\n",
        "\n",
        "In this demo, the stream is running at `rtsp://samples.rts.videodb.io:8554/intruder`.\n"
      ]
    },
    {
      "cell_type": "code",
      "execution_count": null,
      "metadata": {
        "colab": {
          "base_uri": "https://localhost:8080/"
        },
        "id": "DCXckXELOABN",
        "outputId": "dd7a27df-6d66-49b9-f918-92be75ef77ee"
      },
      "outputs": [
        {
          "name": "stdout",
          "output_type": "stream",
          "text": [
            "RTStream(id=rts-019710fa-9511-79c3-a924-e229e4815410, name=Property Security Stream, collection_id=None, created_at=None, sample_rate=30, status=connected)\n"
          ]
        }
      ],
      "source": [
        "rtsp_url = \"rtsp://samples.rts.videodb.io:8554/intruder\"\n",
        "intruder_stream = coll.connect_rtstream(\n",
        "    name=\"Property Security Stream\",\n",
        "    url=rtsp_url,\n",
        ")\n",
        "print(intruder_stream)"
      ]
    },
    {
      "cell_type": "markdown",
      "metadata": {
        "id": "Uek0S-lYiagX"
      },
      "source": [
        "#### Let us list all the rtstreams in our collection."
      ]
    },
    {
      "cell_type": "code",
      "execution_count": null,
      "metadata": {
        "colab": {
          "base_uri": "https://localhost:8080/"
        },
        "id": "_LOUfC9CieDc",
        "outputId": "2f6d3d99-bfed-421c-a629-eadde1a65108"
      },
      "outputs": [
        {
          "name": "stdout",
          "output_type": "stream",
          "text": [
            "RTStream:\n",
            "        ID            : rts-019711db-1086-7750-ba79-8f47a4fed603\n",
            "        Name          : Cricket Finals Stream\n",
            "        Collection ID : c-81fc6459-fe30-44ac-8c5b-ea0898c2e152\n",
            "        Created At    : 2025-05-27T13:07:38.758741\n",
            "        Sample Rate   : 30\n",
            "        Status        : stopped\n",
            "        \n",
            "--------------------------------------------------------------------------------\n",
            "RTStream:\n",
            "        ID            : rts-019711a0-0fde-7911-b282-25bc0b4ecf65\n",
            "        Name          : Baby Crib Monitor\n",
            "        Collection ID : c-81fc6459-fe30-44ac-8c5b-ea0898c2e152\n",
            "        Created At    : 2025-05-27T12:03:11.966358\n",
            "        Sample Rate   : 30\n",
            "        Status        : stopped\n",
            "        \n",
            "--------------------------------------------------------------------------------\n",
            "RTStream:\n",
            "        ID            : rts-019710fa-9511-79c3-a924-e229e4815410\n",
            "        Name          : Property Security Stream\n",
            "        Collection ID : c-81fc6459-fe30-44ac-8c5b-ea0898c2e152\n",
            "        Created At    : 2025-05-27T09:02:27.089279\n",
            "        Sample Rate   : 30\n",
            "        Status        : connected\n",
            "        \n",
            "--------------------------------------------------------------------------------\n"
          ]
        }
      ],
      "source": [
        "def list_rtstreams():\n",
        "    for rtstream in coll.list_rtstreams():\n",
        "        print(f\"\"\"RTStream:\n",
        "        ID            : {rtstream.id}\n",
        "        Name          : {rtstream.name}\n",
        "        Collection ID : {rtstream.collection_id}\n",
        "        Created At    : {rtstream.created_at}\n",
        "        Sample Rate   : {rtstream.sample_rate}\n",
        "        Status        : {rtstream.status}\n",
        "        \"\"\")\n",
        "        print(\"-\" * 80)\n",
        "\n",
        "list_rtstreams()"
      ]
    },
    {
      "cell_type": "markdown",
      "metadata": {
        "id": "m_GqDzuF_fmI"
      },
      "source": [
        "\n",
        "#### If you have already connected the stream, run the below cell with the **rtstream id** to reconnect."
      ]
    },
    {
      "cell_type": "code",
      "execution_count": null,
      "metadata": {
        "id": "qnOll9oS_gnJ"
      },
      "outputs": [],
      "source": [
        "# intruder_stream = coll.get_rtstream(\"\")"
      ]
    },
    {
      "cell_type": "code",
      "execution_count": null,
      "metadata": {
        "id": "gHAqL2LzBMT1"
      },
      "outputs": [],
      "source": [
        "# To stop the stream\n",
        "# intruder_stream.stop()"
      ]
    },
    {
      "cell_type": "code",
      "execution_count": null,
      "metadata": {
        "id": "1c0QNS-tBKpX"
      },
      "outputs": [],
      "source": [
        "# To start the stream\n",
        "# intruder_stream.start()"
      ]
    },
    {
      "cell_type": "markdown",
      "metadata": {
        "id": "KcQmjyuFOMZ-"
      },
      "source": [
        "---\n",
        "### 👀 Let us have a look at the camera feed"
      ]
    },
    {
      "cell_type": "markdown",
      "metadata": {
        "id": "soVJxcNOB3R-"
      },
      "source": [
        "\n",
        "#### 📺 Helper Function: Display Video Stream\n",
        "\n",
        "This cell contains a small utility function to help visualize the video streams with helpful information. You don't need to modify this code."
      ]
    },
    {
      "cell_type": "code",
      "execution_count": null,
      "metadata": {
        "id": "n138fEwKOSSF"
      },
      "outputs": [],
      "source": [
        "# To display the stream with relevant information\n",
        "\n",
        "from IPython.display import HTML\n",
        "import re\n",
        "from datetime import datetime\n",
        "from videodb import play_stream\n",
        "\n",
        "def display_stream(video_url, video_name=\"🎥 Camera Feed\"):\n",
        "\n",
        "    match = re.search(r'/(\\d{16})-(\\d{16})\\.m3u8', video_url)\n",
        "    if match:\n",
        "        start_ts = int(match.group(1)) / 1e6\n",
        "        end_ts = int(match.group(2)) / 1e6\n",
        "        start_time = datetime.utcfromtimestamp(start_ts).strftime('%Y-%m-%d %H:%M:%S')\n",
        "        end_time = datetime.utcfromtimestamp(end_ts).strftime('%Y-%m-%d %H:%M:%S')\n",
        "        time_range = f\"{start_time} → {end_time} UTC\"\n",
        "    else:\n",
        "        time_range = \"Time Unknown\"\n",
        "\n",
        "    video_player_html = play_stream(video_url)\n",
        "\n",
        "    return HTML(f\"\"\"\n",
        "    <div style=\"position:relative;width:640px;\">\n",
        "      {video_player_html._repr_html_() if hasattr(video_player_html, '_repr_html_') else video_player_html}\n",
        "      <div style=\"position:absolute;top:10px;left:10px;background:rgba(0,0,0,0.6);color:#fff;padding:6px 12px;border-radius:4px;font-size:13px;font-family:sans-serif;\">\n",
        "        <strong>{video_name}</strong><br>{time_range}\n",
        "      </div>\n",
        "    </div>\n",
        "    \"\"\")"
      ]
    },
    {
      "cell_type": "markdown",
      "metadata": {
        "id": "Y3ZVVG2xB8W4"
      },
      "source": [
        "\n",
        "#### 🔗 Get & Display Recent Stream\n",
        "\n",
        "This cell uses the helper function above to fetch and display the last few minutes of the stream."
      ]
    },
    {
      "cell_type": "code",
      "execution_count": null,
      "metadata": {
        "colab": {
          "base_uri": "https://localhost:8080/",
          "height": 422
        },
        "id": "GW2ZL4e7ONmP",
        "outputId": "fe92d06e-daff-4975-ce19-0c8f8d532fea"
      },
      "outputs": [
        {
          "data": {
            "text/html": [
              "\n",
              "    <div style=\"position:relative;width:640px;\">\n",
              "      \n",
              "        <iframe\n",
              "            width=\"800\"\n",
              "            height=\"400\"\n",
              "            src=\"https://console.videodb.io/player?url=https://rt.stream.videodb.io/manifests/rts-019710fa-9511-79c3-a924-e229e4815410/1748515198000000-1748515498000000.m3u8\"\n",
              "            frameborder=\"0\"\n",
              "            allowfullscreen\n",
              "            \n",
              "        ></iframe>\n",
              "        \n",
              "      <div style=\"position:absolute;top:10px;left:10px;background:rgba(0,0,0,0.6);color:#fff;padding:6px 12px;border-radius:4px;font-size:13px;font-family:sans-serif;\">\n",
              "        <strong>🚨 Private Property · Intruder Detection</strong><br>2025-05-29 10:39:58 → 2025-05-29 10:44:58 UTC\n",
              "      </div>\n",
              "    </div>\n",
              "    "
            ],
            "text/plain": [
              "<IPython.core.display.HTML object>"
            ]
          },
          "execution_count": 10,
          "metadata": {},
          "output_type": "execute_result"
        }
      ],
      "source": [
        "# To get last few minutes stream link\n",
        "import time\n",
        "\n",
        "def fetch_stream(rtstream):\n",
        "\n",
        "    now = int(time.time())\n",
        "    start = int(now - (5 * 60))\n",
        "    stream_url = rtstream.generate_stream(start, now)\n",
        "    return stream_url\n",
        "\n",
        "video_url = fetch_stream(intruder_stream)\n",
        "\n",
        "video_name = \"🚨 Private Property · Intruder Detection\"\n",
        "display_stream(video_url, video_name)"
      ]
    },
    {
      "cell_type": "markdown",
      "metadata": {
        "id": "m3gM9_nbObaH"
      },
      "source": [
        "---\n",
        "\n",
        "## 📦 Step 4: Index Scenes and Detect Suspicious Activity\n",
        "\n",
        "We’ll create a real-time scene index that periodically analyzes video frames and generates natural language descriptions of what’s happening on the property.\n",
        "\n",
        "The AI will look for:\n",
        "- People loitering\n",
        "- Approaching or physically interacting with the door/lock\n",
        "- Attempting to enter the property"
      ]
    },
    {
      "cell_type": "code",
      "execution_count": null,
      "metadata": {
        "colab": {
          "base_uri": "https://localhost:8080/"
        },
        "id": "I4IDVrPBOcaT",
        "outputId": "ecf074dc-3952-44d4-99ae-1d82965b1f70"
      },
      "outputs": [
        {
          "name": "stdout",
          "output_type": "stream",
          "text": [
            "Scene Index ID: 7a6b9e4dc0132ebe\n"
          ]
        }
      ],
      "source": [
        "from videodb import SceneExtractionType\n",
        "\n",
        "intruder_scene_index = intruder_stream.index_scenes(\n",
        "    extraction_type=SceneExtractionType.time_based,\n",
        "    extraction_config={\n",
        "        \"time\": 5,\n",
        "        \"frame_count\": 2,\n",
        "    },\n",
        "    prompt=\"Monitor the area around the house closely. Detect and classify human presence around the house as either loitering, interacting with the door/lock, or entering the house; otherwise, consider the area safe.\",\n",
        "    name=\"Intruder_Detection_Index\",\n",
        ")\n",
        "intruder_index_id = intruder_scene_index.rtstream_index_id\n",
        "print(\"Scene Index ID:\", intruder_index_id)\n"
      ]
    },
    {
      "cell_type": "markdown",
      "metadata": {
        "id": "f7R-LeKAioYI"
      },
      "source": [
        "#### Let us list the scene indexes created on our rtstream."
      ]
    },
    {
      "cell_type": "code",
      "execution_count": null,
      "metadata": {
        "colab": {
          "base_uri": "https://localhost:8080/"
        },
        "id": "MTHKJ6MCir--",
        "outputId": "97a74f3d-b3c5-4004-ffa5-25aec62def10"
      },
      "outputs": [
        {
          "name": "stdout",
          "output_type": "stream",
          "text": [
            "RTStreamSceneIndex:\n",
            "            Index ID       : 7a6b9e4dc0132ebe\n",
            "            RTStream ID    : rts-019710fa-9511-79c3-a924-e229e4815410\n",
            "            Name           : Intruder_Detection_Index\n",
            "            Status         : running\n",
            "            Config         : {'frame_count': '2', 'time': '5'}\n",
            "            Prompt         : Monitor the area around the house closely. Detect and classify human presence around the house as either loitering, interacting with the door/lock, or entering the house; otherwise, consider the area safe.\n",
            "        \n",
            "--------------------------------------------------------------------------------\n",
            "RTStreamSceneIndex:\n",
            "            Index ID       : caf71652aed1141c\n",
            "            RTStream ID    : rts-019710fa-9511-79c3-a924-e229e4815410\n",
            "            Name           : Intruder_Security_Index\n",
            "            Status         : stopped\n",
            "            Config         : {'frame_count': '3', 'time': '5'}\n",
            "            Prompt         : Monitor the area around the house closely. Detect and classify human presence around the house as either loitering, interacting with the door/lock, or entering the house; otherwise, consider the area safe.\n",
            "        \n",
            "--------------------------------------------------------------------------------\n"
          ]
        }
      ],
      "source": [
        "def list_rtstream_indexes(rtstream):\n",
        "    # List live stream indexes\n",
        "    rtstream_indexes = rtstream.list_scene_indexes()\n",
        "    for rtstream_index in rtstream_indexes:\n",
        "\n",
        "        print(f\"\"\"RTStreamSceneIndex:\n",
        "            Index ID       : {rtstream_index.rtstream_index_id}\n",
        "            RTStream ID    : {rtstream_index.rtstream_id}\n",
        "            Name           : {rtstream_index.name}\n",
        "            Status         : {rtstream_index.status}\n",
        "            Config         : {rtstream_index.extraction_config}\n",
        "            Prompt         : {rtstream_index.prompt}\n",
        "        \"\"\")\n",
        "        print(\"-\" * 80)\n",
        "\n",
        "list_rtstream_indexes(intruder_stream)"
      ]
    },
    {
      "cell_type": "markdown",
      "metadata": {
        "id": "in8K0RIhCjpu"
      },
      "source": [
        "\n",
        "#### If you have already created a scene index, run the below cell with your **scene index id** to reconnect."
      ]
    },
    {
      "cell_type": "code",
      "execution_count": null,
      "metadata": {
        "id": "WG2oQmwbCoC2"
      },
      "outputs": [],
      "source": [
        "# intruder_index_id = \"\"\n",
        "# intruder_scene_index = intruder_stream.get_scene_index(intruder_index_id)"
      ]
    },
    {
      "cell_type": "code",
      "execution_count": null,
      "metadata": {
        "id": "-o_Ov8G6Cz5a"
      },
      "outputs": [],
      "source": [
        "# To stop the index\n",
        "# intruder_scene_index.stop()"
      ]
    },
    {
      "cell_type": "code",
      "execution_count": null,
      "metadata": {
        "id": "yjaTDD3PCycw"
      },
      "outputs": [],
      "source": [
        "# To start the index\n",
        "# intruder_scene_index.start()"
      ]
    },
    {
      "cell_type": "markdown",
      "metadata": {
        "id": "7-N4193uOg7G"
      },
      "source": [
        "---\n",
        "### Let us see the generated indexes"
      ]
    },
    {
      "cell_type": "code",
      "execution_count": null,
      "metadata": {
        "colab": {
          "base_uri": "https://localhost:8080/"
        },
        "id": "VzzKcqWyOikc",
        "outputId": "611aef8b-5084-4350-c13e-0c868511be44"
      },
      "outputs": [
        {
          "name": "stdout",
          "output_type": "stream",
          "text": [
            "2025-05-27 20:25:06-2025-05-27 20:25:10 : Based on the image, I can see a person near the left side of the image. The person is near a lawn mower. It is difficult to determine the person's intent or activity with certainty. The person is not interacting with the door/lock or entering the house. Therefore, the person is loitering.\n",
            "--------------------------------------------------------------------------------\n",
            "2025-05-27 20:24:46-2025-05-27 20:24:52 : Based on the image, there is a human presence loitering in the distance.\n",
            "--------------------------------------------------------------------------------\n",
            "2025-05-27 20:24:39-2025-05-27 20:24:44 : Here's a breakdown of the situation based on the images provided:\n",
            "\n",
            "**Analysis:**\n",
            "\n",
            "*   **Human Presence Detected:** Yes, there are at least two individuals visible in the images. One is near the left side of the image, and another is in the background.\n",
            "*   **Classification:**\n",
            "    *   The individual on the left appears to be walking or loitering.\n",
            "    *   The individual in the background appears to be loitering.\n",
            "*   **Interaction with Door/Lock:** No interaction with the door or lock is visible in the images.\n",
            "*   **Entering the House:** No one is currently entering the house in the images.\n",
            "\n",
            "**Conclusion:**\n",
            "\n",
            "Based on the images, the area around the house is currently showing signs of loitering. Further monitoring is recommended to determine the intent of the individuals and whether their behavior escalates.\n",
            "--------------------------------------------------------------------------------\n",
            "2025-05-27 20:24:31-2025-05-27 20:24:37 : Here's the analysis of the images based on your request:\n",
            "\n",
            "**Image 1:**\n",
            "\n",
            "*   **Human Presence:** Yes, there is a human figure in the background.\n",
            "*   **Classification:** Loitering (The person is standing in the yard, not interacting with the door or entering the house).\n",
            "\n",
            "**Image 2:**\n",
            "\n",
            "*   **Human Presence:** Yes, there is a human figure in the background.\n",
            "*   **Classification:** Loitering (The person is walking in the yard, not interacting with the door or entering the house).\n",
            "\n",
            "**Overall Assessment:**\n",
            "\n",
            "The area around the house is currently showing signs of loitering.\n",
            "\n",
            "--------------------------------------------------------------------------------\n",
            "2025-05-27 20:24:23-2025-05-27 20:24:29 : Here's the analysis of the images:\n",
            "\n",
            "**Image 1:**\n",
            "\n",
            "*   **Detection:** A person is detected in the yard.\n",
            "*   **Classification:** The person is walking across the yard, not loitering, interacting with the door/lock, or entering the house.\n",
            "*   **Status:** Safe.\n",
            "\n",
            "**Image 2:**\n",
            "\n",
            "*   **Detection:** No person is detected in the yard.\n",
            "*   **Classification:** N/A\n",
            "*   **Status:** Safe.\n",
            "--------------------------------------------------------------------------------\n"
          ]
        }
      ],
      "source": [
        "import time\n",
        "from datetime import datetime\n",
        "from zoneinfo import ZoneInfo\n",
        "\n",
        "def _convert_to_ist(timestamp: float) -> str:\n",
        "    \"\"\"Convert UTC timestamp to IST (Asia/Kolkata) datetime string.\"\"\"\n",
        "    return (\n",
        "        datetime.fromtimestamp(timestamp)\n",
        "        .astimezone(ZoneInfo(\"Asia/Kolkata\"))\n",
        "        .strftime(\"%Y-%m-%d %H:%M:%S\")\n",
        "    )\n",
        "\n",
        "def get_scenes(rtstream, index_id):\n",
        "    # Print indexed scenes\n",
        "    rtstream_scene_index = rtstream.get_scene_index(index_id)\n",
        "    scenes = rtstream_scene_index.get_scenes(page_size=5)\n",
        "    # print(scenes[\"scenes\"][:2])\n",
        "    if scenes:\n",
        "        for scene in scenes.get(\"scenes\"):\n",
        "            start = _convert_to_ist(scene[\"start\"])\n",
        "            end = _convert_to_ist(scene[\"end\"])\n",
        "            description = scene[\"description\"]\n",
        "            print(f\"{start}-{end} : {description}\")\n",
        "            print(\"-\" * 80)\n",
        "    else:\n",
        "        print(\"Scenes not found for given index.\")\n",
        "\n",
        "get_scenes(intruder_stream , intruder_index_id)"
      ]
    },
    {
      "cell_type": "markdown",
      "metadata": {
        "id": "Sp9DKyYrOqVt"
      },
      "source": [
        "---\n",
        "## 🚨 Level 1 Breach: Loitering Near the Property\n",
        "\n",
        "We’ll start by creating an event to detect people **loitering or lingering around the property** without actually touching or interacting with it.\n",
        "\n",
        "Then, we’ll immediately attach an alert to this event, so you get notified in real time.\n",
        "\n",
        "\n"
      ]
    },
    {
      "cell_type": "markdown",
      "metadata": {
        "id": "Ilimj-VxjFbV"
      },
      "source": [
        "---\n",
        "#### First, let us set up the webhook url we are going to use in the alerts"
      ]
    },
    {
      "cell_type": "code",
      "execution_count": null,
      "metadata": {
        "id": "wb_-9Q5VjPsI"
      },
      "outputs": [],
      "source": [
        "# Enter link to your webhook url where you want alerts to go. You can create one simply on pipedream.\n",
        "webhook_url=\"\""
      ]
    },
    {
      "cell_type": "markdown",
      "metadata": {
        "id": "F_bBDstPOuzG"
      },
      "source": [
        "---\n",
        "\n",
        "### 📦 Create Event for Loitering Detection\n",
        "\n",
        "This event will flag when someone is spotted loitering near your property boundary.\n",
        "\n"
      ]
    },
    {
      "cell_type": "code",
      "execution_count": null,
      "metadata": {
        "colab": {
          "base_uri": "https://localhost:8080/"
        },
        "id": "PzadAArvOvHn",
        "outputId": "f067b863-01a6-4cb0-e3a6-e2454e8899d8"
      },
      "outputs": [
        {
          "name": "stdout",
          "output_type": "stream",
          "text": [
            "Loitering Event ID: 679ade6411306f35\n"
          ]
        }
      ],
      "source": [
        "loitering_event_id = conn.create_event(\n",
        "    event_prompt=\"Detect if a person is loitering near the house perimeter.\",\n",
        "    label=\"loitering_near_property\"\n",
        ")\n",
        "print(\"Loitering Event ID:\", loitering_event_id)\n"
      ]
    },
    {
      "cell_type": "markdown",
      "metadata": {
        "id": "VVK_LWHoOxjO"
      },
      "source": [
        "---\n",
        "\n",
        "### 📦 Create Alert for Level 1 Breach\n",
        "\n",
        "As soon as the AI detects a loitering event, it’ll send a webhook alert notification."
      ]
    },
    {
      "cell_type": "code",
      "execution_count": null,
      "metadata": {
        "colab": {
          "base_uri": "https://localhost:8080/"
        },
        "id": "8lbFnsy1OzEI",
        "outputId": "0492be1b-31ab-40ad-a218-579930875c26"
      },
      "outputs": [
        {
          "name": "stdout",
          "output_type": "stream",
          "text": [
            "Loitering Alert ID: c10272cfdf1bb7b1\n"
          ]
        }
      ],
      "source": [
        "if webhook_url:\n",
        "  loitering_alert_id = intruder_scene_index.create_alert(\n",
        "      loitering_event_id,\n",
        "      callback_url=webhook_url\n",
        "  )\n",
        "  print(\"Loitering Alert ID:\", loitering_alert_id)\n",
        "else:\n",
        "  print(\"Error: Please provide Webhook URL. Alert cannot be created without it.\")"
      ]
    },
    {
      "cell_type": "markdown",
      "metadata": {
        "id": "V7XyCb_iO07e"
      },
      "source": [
        "---\n",
        "\n",
        "## 🚨 Level 2 Breach: Door Checking or Lock Tampering\n",
        "\n",
        "Next, we’ll set up an event to detect when someone moves close to the front door and appears to check or tamper with the lock — a higher severity intrusion attempt.\n",
        "\n",
        "Then, we’ll link a dedicated alert to this event.\n",
        "\n",
        "\n"
      ]
    },
    {
      "cell_type": "markdown",
      "metadata": {
        "id": "4kc__9fKO4_1"
      },
      "source": [
        "---\n",
        "\n",
        "### 📦 Create Event for Intrusion Attempt\n",
        "\n",
        "This event will flag when a person approaches the property’s door and visibly interacts with it.\n",
        "\n"
      ]
    },
    {
      "cell_type": "code",
      "execution_count": null,
      "metadata": {
        "colab": {
          "base_uri": "https://localhost:8080/"
        },
        "id": "cPHYFJkxO33x",
        "outputId": "401bbe83-b38e-40a5-91f9-c800f4f313a9"
      },
      "outputs": [
        {
          "name": "stdout",
          "output_type": "stream",
          "text": [
            "Intrusion Attempt Event ID: 7bd0ccf7e53637ef\n"
          ]
        }
      ],
      "source": [
        "intrusion_event_id = conn.create_event(\n",
        "    event_prompt=\"Detect if a person is interacting with the door or visibly checking the lock.\",\n",
        "    label=\"intrusion_attempt\"\n",
        ")\n",
        "print(\"Intrusion Attempt Event ID:\", intrusion_event_id)"
      ]
    },
    {
      "cell_type": "markdown",
      "metadata": {
        "id": "vjWevnd5O76N"
      },
      "source": [
        "---\n",
        "\n",
        "### 📦 Create Alert for Level 2 Breach\n",
        "\n",
        "When AI detects this activity, an instant alert will be routed to your webhook."
      ]
    },
    {
      "cell_type": "code",
      "execution_count": null,
      "metadata": {
        "colab": {
          "base_uri": "https://localhost:8080/"
        },
        "id": "AqE8F8jYO9vW",
        "outputId": "f64400de-fc58-4ff4-e8db-268208564feb"
      },
      "outputs": [
        {
          "name": "stdout",
          "output_type": "stream",
          "text": [
            "Intrusion Alert ID: 441c80e43b16fbf5\n"
          ]
        }
      ],
      "source": [
        "if webhook_url:\n",
        "  intrusion_alert_id = intruder_scene_index.create_alert(\n",
        "      intrusion_event_id,\n",
        "      callback_url=webhook_url\n",
        "  )\n",
        "  print(\"Intrusion Alert ID:\", intrusion_alert_id)\n",
        "else:\n",
        "  print(\"Error: Please provide Webhook URL. Alert cannot be created without it.\")"
      ]
    },
    {
      "cell_type": "markdown",
      "metadata": {
        "id": "64QtYHT8O_fG"
      },
      "source": [
        "---\n",
        "\n",
        "## 🚨 Level 3 Breach: Unauthorized Property Entry\n",
        "\n",
        "Lastly, we’ll define an event to catch the most serious scenario — **someone entering the property**.\n",
        "\n",
        "Then, we’ll configure a real-time alert for it.\n",
        "\n",
        "\n"
      ]
    },
    {
      "cell_type": "markdown",
      "metadata": {
        "id": "CzSqR3CnPDwW"
      },
      "source": [
        "---\n",
        "\n",
        "### 📦 Create Event for Property Entry\n",
        "\n",
        "This event triggers when AI spots someone crossing into the property, opening a door, or entering the house.\n",
        "\n"
      ]
    },
    {
      "cell_type": "code",
      "execution_count": null,
      "metadata": {
        "colab": {
          "base_uri": "https://localhost:8080/"
        },
        "id": "4SGBukMAPEDi",
        "outputId": "95fc3858-e655-4470-8a11-7bd9bdb115a9"
      },
      "outputs": [
        {
          "name": "stdout",
          "output_type": "stream",
          "text": [
            "Property Entry Event ID: 796434851654377e\n"
          ]
        }
      ],
      "source": [
        "entry_event_id = conn.create_event(\n",
        "    event_prompt=\"Detect if a person enters the house or crosses the property boundary unlawfully.\",\n",
        "    label=\"property_entry\"\n",
        ")\n",
        "print(\"Property Entry Event ID:\", entry_event_id)\n"
      ]
    },
    {
      "cell_type": "markdown",
      "metadata": {
        "id": "5ifh9JI_PGBe"
      },
      "source": [
        "---\n",
        "\n",
        "### 📦 Create Alert for Level 3 Breach\n",
        "\n",
        "The AI will send an immediate webhook alert for this highest-severity breach."
      ]
    },
    {
      "cell_type": "code",
      "execution_count": null,
      "metadata": {
        "colab": {
          "base_uri": "https://localhost:8080/"
        },
        "id": "wa-Om6R4PHHy",
        "outputId": "4817f3a4-cce5-484a-9d5e-bc5e41ba263b"
      },
      "outputs": [
        {
          "name": "stdout",
          "output_type": "stream",
          "text": [
            "Property Entry Alert ID: 5d5bd37c77de2607\n"
          ]
        }
      ],
      "source": [
        "if webhook_url:\n",
        "  entry_alert_id = intruder_scene_index.create_alert(\n",
        "      entry_event_id,\n",
        "      callback_url=webhook_url\n",
        "  )\n",
        "  print(\"Property Entry Alert ID:\", entry_alert_id)\n",
        "else:\n",
        "  print(\"Error: Please provide Webhook URL. Alert cannot be created without it.\")"
      ]
    },
    {
      "cell_type": "markdown",
      "metadata": {
        "id": "HX-EL8oGPIxG"
      },
      "source": [
        "---\n",
        "### Lets see the events and alerts we have set up"
      ]
    },
    {
      "cell_type": "code",
      "execution_count": null,
      "metadata": {
        "colab": {
          "base_uri": "https://localhost:8080/"
        },
        "id": "QJcsScd8PKDj",
        "outputId": "64e856a4-3327-44c1-a9cc-71d876dda859"
      },
      "outputs": [
        {
          "name": "stdout",
          "output_type": "stream",
          "text": [
            "🔔 RTStream Alert:\n",
            "    Alert ID      : 441c80e43b16fbf5\n",
            "    Event ID      : 7bd0ccf7e53637ef\n",
            "    Label         : intrusion_attempt\n",
            "    Prompt        : Detect if a person is interacting with the door or visibly checking the lock.\n",
            "    Status        : enabled\n",
            "        \n",
            "--------------------------------------------------------------------------------\n",
            "🔔 RTStream Alert:\n",
            "    Alert ID      : 5d5bd37c77de2607\n",
            "    Event ID      : 796434851654377e\n",
            "    Label         : property_entry\n",
            "    Prompt        : Detect if a person enters the house or crosses the property boundary unlawfully.\n",
            "    Status        : enabled\n",
            "        \n",
            "--------------------------------------------------------------------------------\n",
            "🔔 RTStream Alert:\n",
            "    Alert ID      : c10272cfdf1bb7b1\n",
            "    Event ID      : 679ade6411306f35\n",
            "    Label         : loitering_near_property\n",
            "    Prompt        : Detect if a person is loitering near the house perimeter.\n",
            "    Status        : enabled\n",
            "        \n",
            "--------------------------------------------------------------------------------\n"
          ]
        }
      ],
      "source": [
        "def list_rtstream_alerts(rtstream, index_id):\n",
        "    \"\"\"\n",
        "    Prints a list of alerts associated with a given scene index.\n",
        "    \"\"\"\n",
        "    rtstream_scene_index = rtstream.get_scene_index(index_id)\n",
        "    alerts = rtstream_scene_index.list_alerts()\n",
        "\n",
        "    for alert in alerts:\n",
        "        print(f\"\"\"🔔 RTStream Alert:\n",
        "    Alert ID      : {alert['alert_id']}\n",
        "    Event ID      : {alert['event_id']}\n",
        "    Label         : {alert['label']}\n",
        "    Prompt        : {alert['prompt']}\n",
        "    Status        : {alert['status']}\n",
        "        \"\"\")\n",
        "        print(\"-\" * 80)\n",
        "\n",
        "list_rtstream_alerts(intruder_stream, intruder_index_id)\n"
      ]
    },
    {
      "cell_type": "markdown",
      "metadata": {
        "id": "j8MBrY0lPYxm"
      },
      "source": [
        "---\n",
        "\n",
        "## 📡 Example Alert Payload\n",
        "\n",
        "A **Level 1: Loitering Around** alert received on the webhook:\n",
        "\n",
        "```json\n",
        "{\n",
        "  \"event_id\": \"event-679ade6411306f35\",\n",
        "  \"label\": \"loitering_near_property\",\n",
        "  \"confidence\": 0.75,\n",
        "  \"explanation\": \"A person is detected loitering near the house perimeter, matching the alert context. Confidence is high due to the person's presence in the distance, although the specific activity is not definitively confirmed.\",\n",
        "  \"timestamp\": \"2025-05-27T14:58:34.908641+00:00\",\n",
        "  \"start_time\": \"2025-05-27T20:28:26.061836+05:30\",\n",
        "  \"end_time\": \"2025-05-27T20:28:30.089070+05:30\",\n",
        "  \"stream_url\": \"https://rt.stream.videodb.io/manifests/rts-019710fa-9511-79c3-a924-e229e4815410/1748357906000000-1748357910000000.m3u8\"\n",
        "}\n",
        "```\n",
        "\n",
        "✅ Similar alerts will be triggered for Level 2 and Level 3 security breaches.\n"
      ]
    },
    {
      "cell_type": "markdown",
      "metadata": {
        "id": "NfsfAjeulCuJ"
      },
      "source": [
        "---\n",
        "### Let us have a look at the stream_url received in the alert."
      ]
    },
    {
      "cell_type": "code",
      "execution_count": null,
      "metadata": {
        "colab": {
          "base_uri": "https://localhost:8080/",
          "height": 422
        },
        "id": "2IsLJaL1kCqh",
        "outputId": "d552c6ef-b16a-4cfe-c329-02a03e449ad5"
      },
      "outputs": [
        {
          "data": {
            "text/html": [
              "\n",
              "    <div style=\"position:relative;width:640px;\">\n",
              "      \n",
              "        <iframe\n",
              "            width=\"800\"\n",
              "            height=\"400\"\n",
              "            src=\"https://console.videodb.io/player?url=https://rt.stream.videodb.io/manifests/rts-019710fa-9511-79c3-a924-e229e4815410/1748480575000000-1748480580000000.m3u8\"\n",
              "            frameborder=\"0\"\n",
              "            allowfullscreen\n",
              "            \n",
              "        ></iframe>\n",
              "        \n",
              "      <div style=\"position:absolute;top:10px;left:10px;background:rgba(0,0,0,0.6);color:#fff;padding:6px 12px;border-radius:4px;font-size:13px;font-family:sans-serif;\">\n",
              "        <strong>🚨 Private Property · loitering_near_property</strong><br>2025-05-29 01:02:55 → 2025-05-29 01:03:00 UTC\n",
              "      </div>\n",
              "    </div>\n",
              "    "
            ],
            "text/plain": [
              "<IPython.core.display.HTML object>"
            ]
          },
          "execution_count": 7,
          "metadata": {},
          "output_type": "execute_result"
        }
      ],
      "source": [
        "alert_stream_url = \"https://rt.stream.videodb.io/manifests/rts-019710fa-9511-79c3-a924-e229e4815410/1748480575000000-1748480580000000.m3u8\"\n",
        "video_name = \"🚨 Private Property · loitering_near_property\"\n",
        "\n",
        "display_stream(alert_stream_url,video_name)"
      ]
    },
    {
      "cell_type": "markdown",
      "metadata": {
        "id": "FZmnpmIe8o3b"
      },
      "source": [
        "---\n",
        "-  Let us disable the alerts now."
      ]
    },
    {
      "cell_type": "code",
      "execution_count": null,
      "metadata": {
        "id": "psQzO5wz8uTx"
      },
      "outputs": [],
      "source": [
        "intruder_scene_index.disable_alert(loitering_alert_id)\n",
        "intruder_scene_index.disable_alert(intrusion_alert_id)\n",
        "intruder_scene_index.disable_alert(entry_alert_id)"
      ]
    },
    {
      "cell_type": "markdown",
      "metadata": {
        "id": "OhsfaDwP8p8L"
      },
      "source": [
        "- To enable the alert again"
      ]
    },
    {
      "cell_type": "code",
      "execution_count": null,
      "metadata": {
        "id": "MiN78lXu8upz"
      },
      "outputs": [],
      "source": [
        "intruder_scene_index.enable_alert(loitering_alert_id)\n",
        "intruder_scene_index.enable_alert(intrusion_alert_id)\n",
        "intruder_scene_index.enable_alert(entry_alert_id)"
      ]
    },
    {
      "cell_type": "markdown",
      "metadata": {
        "id": "7SSNYn8b-qsT"
      },
      "source": [
        "- Now we can stop the stream"
      ]
    },
    {
      "cell_type": "code",
      "execution_count": null,
      "metadata": {
        "id": "zweOPCnR-qRQ"
      },
      "outputs": [],
      "source": [
        "intruder_stream.stop()"
      ]
    },
    {
      "cell_type": "markdown",
      "metadata": {
        "id": "69EbvxIOPdn-"
      },
      "source": [
        "---\n",
        "\n",
        "## 🌙 Wrapping Up: Smarter Property Security Without Stress\n",
        "\n",
        "In this notebook, we built a **layered AI-powered video surveillance system** to protect your property in real time.\n",
        "\n",
        "With this in place, property owners can leave home without anxiety, knowing they’ll be immediately notified if anyone is:\n",
        "- **Loitering nearby**\n",
        "- **Interacting with the door**\n",
        "- **Or breaking in**\n",
        "\n",
        "---\n",
        "\n",
        "## 🔍 What Else Could We Secure?\n",
        "\n",
        "This layered security system isn’t limited to homes. It can just as easily protect:\n",
        "- 🏬 **Retail stores from shoplifters**\n",
        "- 🏢 **Warehouse perimeters and restricted areas**\n",
        "- 🛡️ **Military bases and government installations**\n",
        "- 🏫 **Schools and public buildings**\n",
        "\n",
        "**What would *you* secure next?**"
      ]
    }
  ],
  "metadata": {
    "colab": {
      "provenance": []
    },
    "kernelspec": {
      "display_name": "Python 3",
      "name": "python3"
    },
    "language_info": {
      "name": "python"
    }
  },
  "nbformat": 4,
  "nbformat_minor": 0
}
