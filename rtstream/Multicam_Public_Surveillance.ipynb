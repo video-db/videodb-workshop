{
  "cells": [
    {
      "cell_type": "markdown",
      "id": "0480a1f9",
      "metadata": {
        "id": "0480a1f9"
      },
      "source": [
        "## 🏙️ Multi-Camera Public Surveillance with VideoDB RTStream\n",
        "\n",
        "[![Open In Colab](https://colab.research.google.com/assets/colab-badge.svg)](https://colab.research.google.com/github/video-db/videodb-workshop/blob/main/rtstream/Multicam_Public_Surveillance.ipynb)\n",
        "\n",
        "<img src=\"https://i.imgur.com/Hzamclh.jpg\" alt=\"Smart City Monitoring\" width=\"400\"/>\n",
        "\n",
        "*Transforming urban surveillance through intelligent AI-powered monitoring*\n",
        "\n",
        "\n",
        "---\n",
        "\n",
        "### 🎯 The Challenge: Smart City Monitoring\n",
        "\n",
        "Modern cities face growing challenges in ensuring public safety. From crowded metros to busy intersections, monitoring many locations in real-time is tough.  \n",
        "\n",
        "Traditional systems rely on humans watching multiple screens — costly and error-prone.  \n",
        "**What if AI could monitor all feeds, detect incidents instantly, and alert authorities automatically?**\n",
        "\n",
        "\n",
        "The Goal → Automate monitoring with AI:\n",
        "- Detect incidents in real time  \n",
        "- Trigger instant alerts  \n",
        "- Provide multi-angle evidence"
      ]
    },
    {
      "cell_type": "markdown",
      "id": "3a810fdc",
      "metadata": {
        "id": "3a810fdc"
      },
      "source": [
        "### 🚀 Enter VideoDB RTStream\n",
        "**VideoDB RTStream** brings AI-powered intelligence to multi-camera systems.  \n",
        "In this demo, a **7-camera surveillance network** can:  \n",
        "- Monitor multiple zones at once  \n",
        "- Analyze pedestrian behavior in real-time  \n",
        "- Trigger smart alerts for unusual activity  \n",
        "- Provide synchronized multi-angle evidence"
      ]
    },
    {
      "cell_type": "markdown",
      "id": "6debf04f",
      "metadata": {
        "id": "6debf04f"
      },
      "source": [
        "### 📊  Dataset: WILDTRACK\n",
        "\n",
        "We use the **WILDTRACK dataset** (EPFL Computer Vision Lab):  \n",
        "- **7 cameras**, overlapping FOVs  \n",
        "- **HD 1080p @ 60 fps** with precise calibration  \n",
        "- **Real pedestrian activity** from ETH Zurich  \n",
        "\n",
        "👉 For this notebook, we optimize to **720p @ 30 fps** for smoother real-time streaming."
      ]
    },
    {
      "cell_type": "markdown",
      "id": "8189c4be",
      "metadata": {
        "id": "8189c4be"
      },
      "source": [
        "### 🎥 What You'll Build\n",
        "\n",
        "By the end of this notebook, you’ll:  \n",
        "- Connect & manage **7 synchronized streams**  \n",
        "- Run **AI-powered scene analysis**  \n",
        "- Set up **intelligent event detection & alerts**  \n",
        "- Create **multi-camera evidence assets** for investigations\n",
        "\n",
        "\n",
        "*This demo shows how AI turns raw surveillance feeds into actionable intelligence.*"
      ]
    },
    {
      "cell_type": "markdown",
      "id": "5c31541f",
      "metadata": {
        "id": "5c31541f"
      },
      "source": [
        "---\n",
        "### 📦 Step 1:  Install Dependencies\n",
        "\n",
        "First, let's install the VideoDB SDK and additional packages needed for multi-camera processing.\n",
        "\n"
      ]
    },
    {
      "cell_type": "code",
      "execution_count": null,
      "id": "67b0b4ad",
      "metadata": {
        "id": "67b0b4ad"
      },
      "outputs": [],
      "source": [
        "%pip -q install videodb"
      ]
    },
    {
      "cell_type": "markdown",
      "id": "0b991eb3",
      "metadata": {
        "id": "0b991eb3"
      },
      "source": [
        "---\n",
        "### 🔗 Step 2: Connect to VideoDB\n",
        "\n",
        "Next, let’s establish a connection to **VideoDB** so we can manage multi-camera streams seamlessly.\n"
      ]
    },
    {
      "cell_type": "code",
      "execution_count": null,
      "id": "503c50f0",
      "metadata": {
        "colab": {
          "base_uri": "https://localhost:8080/"
        },
        "id": "503c50f0",
        "outputId": "48b2d5d7-93d0-4778-aaaa-42aaad701f00"
      },
      "outputs": [
        {
          "name": "stdout",
          "output_type": "stream",
          "text": [
            "Connected to VideoDB securely!\n"
          ]
        }
      ],
      "source": [
        "import videodb\n",
        "import os\n",
        "from getpass import getpass\n",
        "\n",
        "api_key = getpass(\"Please enter your VideoDB API Key: \")\n",
        "\n",
        "os.environ[\"VIDEO_DB_API_KEY\"] = api_key\n",
        "\n",
        "conn = videodb.connect()\n",
        "coll = conn.get_collection()\n",
        "\n",
        "print(\"Connected to VideoDB securely!\")"
      ]
    },
    {
      "cell_type": "markdown",
      "id": "ed90a8b8",
      "metadata": {
        "id": "ed90a8b8"
      },
      "source": [
        "---\n",
        "### 🎥 Step 3: Configure Multi-Camera Streams\n",
        "\n",
        "Now, we'll set up our multi-camera surveillance system. For this demonstration, we're monitoring key public spaces across a city with **seven strategically placed cameras** to ensure public safety and operational efficiency.\n"
      ]
    },
    {
      "cell_type": "code",
      "execution_count": null,
      "id": "c94b21f0",
      "metadata": {
        "colab": {
          "base_uri": "https://localhost:8080/"
        },
        "id": "c94b21f0",
        "outputId": "0bacd36d-12e9-40a6-ed7b-6177375c745a"
      },
      "outputs": [
        {
          "name": "stdout",
          "output_type": "stream",
          "text": [
            "🏟️  Setting up: 🏙️ City Public Square Surveillance\n",
            "📹 Camera count: 7\n",
            "\n",
            "📋 Camera Layout:\n",
            "  CAM1: Plaza Overview (High Angle - East)\n",
            "  CAM2: Main Walkway Cam (Walkway - Close Up)\n",
            "  CAM3: Stairway Junction (Stairs - Junction)\n",
            "  CAM4: Central Plaza Cam (Center Plaza - Mid Angle)\n",
            "  CAM5: Building Entrance Cam (Building Steps - Eye Level)\n",
            "  CAM6: Wide Plaza View (Wide Angle - West)\n",
            "  CAM7: Ground-Level Cross View (Ground Level - Center)\n"
          ]
        }
      ],
      "source": [
        "# Multi-camera configuration for public surveillance\n",
        "CAMERA_CONFIG = {\n",
        "    \"setting_name\": \"🏙️ City Public Square Surveillance\",\n",
        "    \"cameras\": {\n",
        "        \"cam1\": {\n",
        "            \"name\": \"Plaza Overview\" ,\n",
        "            \"rtsp_url\": \"rtsp://samples.rts.videodb.io:8554/pub-cam1\",\n",
        "            \"position\": \"High Angle - East\",\n",
        "            \"description\": \"Provides a wide-angle overview of the plaza from a high vantage point, monitoring general crowd flow.\"\n",
        "        },\n",
        "        \"cam2\": {\n",
        "            \"name\": \"Main Walkway Cam\",\n",
        "            \"rtsp_url\": \"rtsp://samples.rts.videodb.io:8554/pub-cam2\",\n",
        "            \"position\": \"Walkway - Close Up\",\n",
        "            \"description\": \"Focuses on the main pedestrian walkway, capturing close-up details of foot traffic.\"\n",
        "        },\n",
        "        \"cam3\": {\n",
        "            \"name\": \"Stairway Junction\",\n",
        "            \"rtsp_url\": \"rtsp://samples.rts.videodb.io:8554/pub-cam3\",\n",
        "            \"position\": \"Stairs - Junction\",\n",
        "            \"description\": \"Monitors the area where the main plaza meets the stairs, a key junction point.\"\n",
        "        },\n",
        "        \"cam4\": {\n",
        "            \"name\": \"Central Plaza Cam\",\n",
        "            \"rtsp_url\": \"rtsp://samples.rts.videodb.io:8554/pub-cam4\",\n",
        "            \"position\": \"Center Plaza - Mid Angle\",\n",
        "            \"description\": \"Offers a comprehensive view of the central area of the plaza.\"\n",
        "        },\n",
        "        \"cam5\": {\n",
        "            \"name\": \"Building Entrance Cam\",\n",
        "            \"rtsp_url\": \"rtsp://samples.rts.videodb.io:8554/pub-cam5\",\n",
        "            \"position\": \"Building Steps - Eye Level\",\n",
        "            \"description\": \"Monitors the steps leading up to the main building entrance.\"\n",
        "        },\n",
        "        \"cam6\": {\n",
        "            \"name\": \"Wide Plaza View\",\n",
        "            \"rtsp_url\": \"rtsp://samples.rts.videodb.io:8554/pub-cam6\",\n",
        "            \"position\": \"Wide Angle - West\",\n",
        "            \"description\": \"Captures a wide shot of the plaza, including the building facade and surrounding areas.\"\n",
        "        },\n",
        "        \"cam7\": {\n",
        "            \"name\": \"Ground-Level Cross View\",\n",
        "            \"rtsp_url\": \"rtsp://samples.rts.videodb.io:8554/pub-cam7\",\n",
        "            \"position\": \"Ground Level - Center\",\n",
        "            \"description\": \"Provides a ground-level view across the plaza, tracking movement between different areas.\"\n",
        "        }\n",
        "    }\n",
        "}\n",
        "\n",
        "print(f\"🏟️  Setting up: {CAMERA_CONFIG['setting_name']}\")\n",
        "print(f\"📹 Camera count: {len(CAMERA_CONFIG['cameras'])}\")\n",
        "print(\"\\n📋 Camera Layout:\")\n",
        "for cam_id, cam_info in CAMERA_CONFIG['cameras'].items():\n",
        "    print(f\"  {cam_id.upper()}: {cam_info['name']} ({cam_info['position']})\")\n"
      ]
    },
    {
      "cell_type": "markdown",
      "id": "yHluoz6nVodL",
      "metadata": {
        "id": "yHluoz6nVodL"
      },
      "source": [
        "#### 🎥 Live Preview of Raw Streams"
      ]
    },
    {
      "cell_type": "code",
      "execution_count": null,
      "id": "ES-XPSeG_hrx",
      "metadata": {
        "colab": {
          "background_save": true,
          "base_uri": "https://localhost:8080/"
        },
        "id": "ES-XPSeG_hrx",
        "outputId": "f7638f04-0704-4b58-dc99-000f0ad95a97"
      },
      "outputs": [
        {
          "name": "stdout",
          "output_type": "stream",
          "text": [
            "🎥 Connecting to all cameras...\n",
            "\n"
          ]
        }
      ],
      "source": [
        "import os\n",
        "from concurrent.futures import ThreadPoolExecutor, as_completed\n",
        "from IPython.display import Video, display\n",
        "\n",
        "def connect_and_export_stream(rtsp_url, cam_name, duration=5, output_file=\"clip.mp4\"):\n",
        "    if os.path.exists(output_file): os.remove(output_file)\n",
        "    os.system(\n",
        "        f'ffmpeg -loglevel error -hide_banner -y -rtsp_transport tcp -i \"{rtsp_url}\" -t {duration} -c copy \"{output_file}\"'\n",
        "    )\n",
        "    if os.path.exists(output_file):\n",
        "        return cam_name, Video(output_file, embed=True, width=600)\n",
        "    else:\n",
        "        return cam_name, None\n",
        "\n",
        "CLIP_DURATION = 10 #Set the Duration here for the clip time\n",
        "\n",
        "print(\"🎥 Connecting to all cameras...\\n\")\n",
        "futures = []\n",
        "with ThreadPoolExecutor() as executor:\n",
        "    for cam_id, cam_info in CAMERA_CONFIG[\"cameras\"].items():\n",
        "        out_file = f\"{cam_id}_clip.mp4\"\n",
        "        futures.append(\n",
        "            executor.submit(connect_and_export_stream, cam_info[\"rtsp_url\"], cam_info[\"name\"], CLIP_DURATION, out_file)\n",
        "        )\n",
        "\n",
        "    for future in as_completed(futures):\n",
        "        cam_name, clip = future.result()\n",
        "        if clip:\n",
        "            print(f\"✅ {cam_name} ready:\")\n",
        "            display(clip)\n",
        "        else:\n",
        "            print(f\"❌ Failed to capture {cam_name}\")\n"
      ]
    },
    {
      "cell_type": "markdown",
      "id": "842cced0",
      "metadata": {
        "id": "842cced0"
      },
      "source": [
        "---\n",
        "### 🎯 Step 4: Connect All Camera Streams\n",
        "\n",
        "Now, let’s connect all **four camera streams** to **VideoDB RTStream** and run them in sync.\n"
      ]
    },
    {
      "cell_type": "markdown",
      "id": "c08a4222",
      "metadata": {
        "id": "c08a4222"
      },
      "source": [
        "*Get all streams*"
      ]
    },
    {
      "cell_type": "code",
      "execution_count": null,
      "id": "ee004661",
      "metadata": {
        "colab": {
          "base_uri": "https://localhost:8080/"
        },
        "id": "ee004661",
        "outputId": "21116c06-4068-464a-9bf1-39d114941877"
      },
      "outputs": [
        {
          "name": "stdout",
          "output_type": "stream",
          "text": [
            "🔌 Connecting to all camera streams (reusing existing where possible)...\n",
            "\n"
          ]
        }
      ],
      "source": [
        "# Connect all cameras while reusing existing streams if they already exist\n",
        "connected_streams = {}\n",
        "print(\"🔌 Connecting to all camera streams (reusing existing where possible)...\\n\")\n",
        "\n",
        "# Pre-fetch existing streams once to minimize API calls\n",
        "try:\n",
        "    existing_streams = {getattr(s, \"name\", \"\"): s for s in coll.list_rtstreams()}\n",
        "except Exception as e:\n",
        "    print(f\"⚠️  Could not list existing streams: {e}\")\n",
        "    existing_streams = {}"
      ]
    },
    {
      "cell_type": "markdown",
      "id": "620e7c0c",
      "metadata": {
        "id": "620e7c0c"
      },
      "source": [
        "*Using existing streams if available*"
      ]
    },
    {
      "cell_type": "code",
      "execution_count": null,
      "id": "f9eb46fb",
      "metadata": {
        "colab": {
          "base_uri": "https://localhost:8080/"
        },
        "id": "f9eb46fb",
        "outputId": "12899541-5014-4df1-d404-afa5d0bc8490"
      },
      "outputs": [
        {
          "name": "stdout",
          "output_type": "stream",
          "text": [
            "📹 CAM1: Using existing stream '🏙️ City Public Square Surveillance - Plaza Overview' (rts-0199346c-f5f6-7031-a794-198651733c3f)\n",
            "   ▶️ Started existing stream: rts-0199346c-f5f6-7031-a794-198651733c3f and URL: rtsp://samples.rts.videodb.io:8554/pub-cam1\n",
            "📹 CAM2: Using existing stream '🏙️ City Public Square Surveillance - Main Walkway Cam' (rts-0199346c-f720-7341-b813-ee7fb9ea4aa1)\n",
            "   ▶️ Started existing stream: rts-0199346c-f720-7341-b813-ee7fb9ea4aa1 and URL: rtsp://samples.rts.videodb.io:8554/pub-cam2\n",
            "📹 CAM3: Using existing stream '🏙️ City Public Square Surveillance - Stairway Junction' (rts-0199346c-f7ba-7033-ac76-3507ea9b1089)\n",
            "   ▶️ Started existing stream: rts-0199346c-f7ba-7033-ac76-3507ea9b1089 and URL: rtsp://samples.rts.videodb.io:8554/pub-cam3\n",
            "📹 CAM4: Using existing stream '🏙️ City Public Square Surveillance - Central Plaza Cam' (rts-0199346c-f854-7eb2-b40c-bac41b5dd7ab)\n",
            "   ▶️ Started existing stream: rts-0199346c-f854-7eb2-b40c-bac41b5dd7ab and URL: rtsp://samples.rts.videodb.io:8554/pub-cam4\n",
            "📹 CAM5: Creating new stream '🏙️ City Public Square Surveillance - Building Entrance Cam'...\n",
            "   ✅ Connected: rts-01993492-a8ec-7ee0-8f0a-66ae69adb9f2 with URL: rtsp://samples.rts.videodb.io:8554/pub-cam5\n",
            "📹 CAM6: Creating new stream '🏙️ City Public Square Surveillance - Wide Plaza View'...\n",
            "   ✅ Connected: rts-01993492-aa3e-7920-95eb-31c1fb731f4d with URL: rtsp://samples.rts.videodb.io:8554/pub-cam6\n",
            "📹 CAM7: Creating new stream '🏙️ City Public Square Surveillance - Ground-Level Cross View'...\n",
            "   ✅ Connected: rts-01993492-ab3b-7203-89e9-4b2b842fb4c5 with URL: rtsp://samples.rts.videodb.io:8554/pub-cam7\n",
            "\n",
            "🎯 Connection Summary: 7/7 cameras ready\n",
            "🚀 Multi-camera system ready for scene indexing!\n"
          ]
        }
      ],
      "source": [
        "for cam_id, cam_info in CAMERA_CONFIG[\"cameras\"].items():\n",
        "    name = f\"{CAMERA_CONFIG['setting_name']} - {cam_info['name']}\"\n",
        "    existing = existing_streams.get(name)\n",
        "\n",
        "    try:\n",
        "        if existing:\n",
        "            print(f\"📹 {cam_id.upper()}: Using existing stream '{name}' ({existing.id})\")\n",
        "            if getattr(existing, \"status\", None) != \"connected\":\n",
        "                try:\n",
        "                    existing.start()\n",
        "                    print(f\"   ▶️ Started existing stream: {existing.id} and URL: {cam_info['rtsp_url']}\")\n",
        "                except Exception as se:\n",
        "                    print(f\"   ⚠️ Could not start existing stream: {se}\")\n",
        "            connected_streams[cam_id] = {\"stream\": existing, \"info\": cam_info, \"status\": \"connected\"}\n",
        "        else:\n",
        "            print(f\"📹 {cam_id.upper()}: Creating new stream '{name}'...\")\n",
        "            stream = coll.connect_rtstream(name=name, url=cam_info[\"rtsp_url\"])\n",
        "            print(f\"   ✅ Connected: {stream.id} with URL: {cam_info['rtsp_url']}\")\n",
        "            connected_streams[cam_id] = {\"stream\": stream, \"info\": cam_info, \"status\": \"connected\"}\n",
        "\n",
        "    except Exception as e:\n",
        "        print(f\"   ❌ {cam_id.upper()} failed: {e}\")\n",
        "        connected_streams[cam_id] = {\"stream\": None, \"info\": cam_info, \"status\": \"failed\", \"error\": str(e)}\n",
        "\n",
        "# Summary\n",
        "success = sum(1 for s in connected_streams.values() if s[\"status\"] == \"connected\")\n",
        "print(f\"\\n🎯 Connection Summary: {success}/{len(CAMERA_CONFIG['cameras'])} cameras ready\")\n",
        "print(\"🚀 Multi-camera system ready for scene indexing!\" if success else \"⚠️ No cameras ready. Check RTSP URLs/credentials.\")\n"
      ]
    },
    {
      "cell_type": "markdown",
      "id": "3f9748fa",
      "metadata": {
        "id": "3f9748fa"
      },
      "source": [
        "---\n",
        "### 🗂️ Step 5: Set Up Scene Indexing\n",
        "\n",
        "Now we’ll build **scene indexes** for each camera stream, enabling AI-powered analysis across all viewpoints.\n"
      ]
    },
    {
      "cell_type": "markdown",
      "id": "b0dbea37",
      "metadata": {
        "id": "b0dbea37"
      },
      "source": [
        "*a. Index Config*"
      ]
    },
    {
      "cell_type": "code",
      "execution_count": null,
      "id": "eff2d2c3",
      "metadata": {
        "id": "eff2d2c3"
      },
      "outputs": [],
      "source": [
        "from videodb import SceneExtractionType\n",
        "\n",
        "# Should be generic for indexing\n",
        "\n",
        "# Scene indexing configuration\n",
        "SCENE_INDEX_CONFIG = {\n",
        "    \"extraction_type\": SceneExtractionType.time_based,\n",
        "    \"extraction_config\": {\n",
        "        \"time\": 15,  # Analyze every 15 seconds\n",
        "        \"frame_count\": 1\n",
        "    },\n",
        "    \"prompt\": \"\"\"Analyze this public surveillance footage and identify key activities. Describe:\n",
        "    1. Individuals or groups with notable items (e.g., Suspicious People Gatherings, People with weired lugguage)\n",
        "    2. Crowd behavior (e.g., people gathering in large groups, sudden dispersal, running).\n",
        "    3. Vehicle activity (e.g., cars stopping in unusual places, prolonged idling, vans or trucks).\n",
        "    4. Unusual object detection (e.g., unattended bags, boxes left in public spaces).\n",
        "    5. General patterns of movement and any deviations from the norm.\n",
        "\n",
        "    Be specific about the appearance of individuals and the location of events within this camera's view.\"\"\"\n",
        "}"
      ]
    },
    {
      "cell_type": "markdown",
      "id": "7278ba3d",
      "metadata": {
        "id": "7278ba3d"
      },
      "source": [
        "*b. Setup Index*"
      ]
    },
    {
      "cell_type": "code",
      "execution_count": null,
      "id": "7c51e279",
      "metadata": {
        "colab": {
          "base_uri": "https://localhost:8080/"
        },
        "id": "7c51e279",
        "outputId": "2d972b0e-885c-4404-8ff0-7d7c3fb3a8b1"
      },
      "outputs": [
        {
          "name": "stdout",
          "output_type": "stream",
          "text": [
            "📑 CAM1 (Plaza Overview):\n",
            "   • Public_Square_Surveillance1_CAM1_Index (ID: 75e34af6516a72c8, Status: running)\n",
            "📑 CAM2 (Main Walkway Cam):\n",
            "   • Public_Square_Surveillance1_CAM2_Index (ID: d64732ea82c526d5, Status: running)\n",
            "📑 CAM3 (Stairway Junction):\n",
            "   • Public_Square_Surveillance1_CAM3_Index (ID: 8276f034438e631b, Status: running)\n",
            "📑 CAM4 (Central Plaza Cam):\n",
            "   • Public_Square_Surveillance1_CAM4_Index (ID: d77035b3d68d94df, Status: running)\n",
            "📑 CAM5: No indexes found\n",
            "📑 CAM6: No indexes found\n",
            "📑 CAM7: No indexes found\n"
          ]
        }
      ],
      "source": [
        "# 🔍 List existing scene indexes for connected cameras\n",
        "for cam_id, cam_data in connected_streams.items():\n",
        "    if cam_data[\"status\"] != \"connected\":\n",
        "        print(f\"⏭️ {cam_id.upper()}: Stream not connected\")\n",
        "        continue\n",
        "\n",
        "    try:\n",
        "        indexes = cam_data[\"stream\"].list_scene_indexes()\n",
        "        if indexes:\n",
        "            print(f\"📑 {cam_id.upper()} ({cam_data['info']['name']}):\")\n",
        "            for idx in indexes:\n",
        "                print(f\"   • {idx.name} (ID: {idx.rtstream_index_id}, Status: {getattr(idx, 'status', 'unknown')})\")\n",
        "        else:\n",
        "            print(f\"📑 {cam_id.upper()}: No indexes found\")\n",
        "    except Exception as e:\n",
        "        print(f\"⚠️ {cam_id.upper()}: Failed to list indexes ({e})\")"
      ]
    },
    {
      "cell_type": "code",
      "execution_count": null,
      "id": "f7645ba0",
      "metadata": {
        "colab": {
          "base_uri": "https://localhost:8080/"
        },
        "id": "f7645ba0",
        "outputId": "d52ac0ce-6a5e-4011-92f3-555b420d396c"
      },
      "outputs": [
        {
          "name": "stdout",
          "output_type": "stream",
          "text": [
            "🔧 Setting up scene indexes...\n",
            "\n",
            "📊 CAM1: Using existing index 'Public_Square_Surveillance1_CAM1_Index' (75e34af6516a72c8)\n",
            "📊 CAM2: Using existing index 'Public_Square_Surveillance1_CAM2_Index' (d64732ea82c526d5)\n",
            "📊 CAM3: Using existing index 'Public_Square_Surveillance1_CAM3_Index' (8276f034438e631b)\n",
            "📊 CAM4: Using existing index 'Public_Square_Surveillance1_CAM4_Index' (d77035b3d68d94df)\n",
            "📊 CAM5: Creating new index 'Public_Square_Surveillance1_CAM5_Index'...\n",
            "   ✅ Index created: ea818056aa10495f\n",
            "📊 CAM6: Creating new index 'Public_Square_Surveillance1_CAM6_Index'...\n",
            "   ✅ Index created: 3ae1aa10fb69e67f\n",
            "📊 CAM7: Creating new index 'Public_Square_Surveillance1_CAM7_Index'...\n",
            "   ✅ Index created: ab557d9e8888caa7\n",
            "\n",
            "🎯 Scene Indexing Summary: 7/7 active\n",
            "🔍 AI analysis running (every 15s)\n"
          ]
        }
      ],
      "source": [
        "# ⚙️ Setup or reuse scene indexes\n",
        "scene_indexes = {}\n",
        "print(\"🔧 Setting up scene indexes...\\n\")\n",
        "\n",
        "for cam_id, cam_data in connected_streams.items():\n",
        "    if cam_data[\"status\"] != \"connected\":\n",
        "        continue\n",
        "\n",
        "    stream = cam_data[\"stream\"]\n",
        "    name = f\"Public_Square_Surveillance1_{cam_id.upper()}_Index\"\n",
        "\n",
        "    try:\n",
        "        # Check if an index with this name exists\n",
        "        existing = next((idx for idx in stream.list_scene_indexes() if getattr(idx, \"name\", \"\") == name), None)\n",
        "\n",
        "        if existing:\n",
        "            print(f\"📊 {cam_id.upper()}: Using existing index '{name}' ({existing.rtstream_index_id})\")\n",
        "            if getattr(existing, \"status\", None) not in (\"running\", \"active\", \"connected\"):\n",
        "                try:\n",
        "                    existing.start()\n",
        "                    print(f\"   ▶️ Started index: {existing.rtstream_index_id}\")\n",
        "                except Exception as se:\n",
        "                    print(f\"   ⚠️ Could not start index: {se}\")\n",
        "            scene_indexes[cam_id] = {\"index\": existing, \"index_id\": existing.rtstream_index_id, \"status\": \"active\"}\n",
        "        else:\n",
        "            print(f\"📊 {cam_id.upper()}: Creating new index '{name}'...\")\n",
        "            new_idx = stream.index_scenes(\n",
        "                extraction_type=SCENE_INDEX_CONFIG[\"extraction_type\"],\n",
        "                extraction_config=SCENE_INDEX_CONFIG[\"extraction_config\"],\n",
        "                prompt=SCENE_INDEX_CONFIG[\"prompt\"],\n",
        "                name=name,\n",
        "            )\n",
        "            scene_indexes[cam_id] = {\"index\": new_idx, \"index_id\": new_idx.rtstream_index_id, \"status\": \"active\"}\n",
        "            print(f\"   ✅ Index created: {new_idx.rtstream_index_id}\")\n",
        "\n",
        "    except Exception as e:\n",
        "        print(f\"❌ {cam_id.upper()}: Failed to setup index ({e})\")\n",
        "        scene_indexes[cam_id] = {\"index\": None, \"index_id\": None, \"status\": \"failed\", \"error\": str(e)}\n",
        "\n",
        "# Summary\n",
        "active = sum(1 for idx in scene_indexes.values() if idx[\"status\"] == \"active\")\n",
        "print(f\"\\n🎯 Scene Indexing Summary: {active}/{len(connected_streams)} active\")\n",
        "print(\"🔍 AI analysis running (every 15s)\" if active else \"⚠️ No indexes active. Check streams and retry.\")"
      ]
    },
    {
      "cell_type": "markdown",
      "id": "413cdf5d",
      "metadata": {
        "id": "413cdf5d"
      },
      "source": [
        "---\n",
        "## 🚨 Phase 2: Set and Receive Alerts\n",
        "\n",
        "In this phase, we’ll configure alert rules and handle incoming alerts from the multi-camera streams."
      ]
    },
    {
      "cell_type": "markdown",
      "id": "7445a33b",
      "metadata": {
        "id": "7445a33b"
      },
      "source": [
        "### ⚙️ Step 1: Configure and setup events"
      ]
    },
    {
      "cell_type": "markdown",
      "id": "52be5d2e",
      "metadata": {
        "id": "52be5d2e"
      },
      "source": [
        "*Alert Config & Events*"
      ]
    },
    {
      "cell_type": "code",
      "execution_count": null,
      "id": "af4de49f",
      "metadata": {
        "colab": {
          "base_uri": "https://localhost:8080/"
        },
        "id": "af4de49f",
        "outputId": "444ace55-3de6-4eeb-c528-c5cf72201011"
      },
      "outputs": [
        {
          "name": "stdout",
          "output_type": "stream",
          "text": [
            "📑 Existing events found:\n",
            "   • timeout_called (0bb5f68981208827)\n",
            "   • person_with_trolley (0c9831d3a5d702b3)\n",
            "   • large_crowd_formation (1a5585203e9374d1)\n",
            "   • suspicious_loitering (3307388de055afbe)\n",
            "   • basket scored (49977929774f8cd7)\n",
            "   • player foul (53409a9e89f66846)\n",
            "   • basket_scored (6c08568f54b59644)\n",
            "   • unattended_luggage (87a452a83bc362ad)\n",
            "   • timeout called (902fdd5571bacf30)\n",
            "   • woman_in_red_coat (afe2776cf3f4608c)\n",
            "   • player_foul (cab9b3430d908e31)\n"
          ]
        }
      ],
      "source": [
        "# Define surveillance events\n",
        "EVENTS_CONFIG = [\n",
        "    {\n",
        "        \"label\": \"unattended_luggage\",\n",
        "        \"prompt\": \"Detect any luggage, backpacks, or packages left unattended for more than a minute.\",\n",
        "        \"description\": \"Unattended luggage detected\"\n",
        "    },\n",
        "    {\n",
        "        \"label\": \"large_crowd_formation\",\n",
        "        \"prompt\": \"Identify scenes where a large group of people (more than 4) gathers quickly in a concentrated area.\",\n",
        "        \"description\": \"Large crowd forming\"\n",
        "    },\n",
        "    {\n",
        "        \"label\": \"person_with_trolley\",\n",
        "        \"prompt\": \"Detect any person walking with a trolley bag or rolling suitcase.\",\n",
        "        \"description\": \"Person with trolley bag\"\n",
        "    },\n",
        "    {\n",
        "        \"label\": \"woman_in_red_coat\",\n",
        "        \"prompt\": \"Identify any woman wearing a distinct red coat or jacket.\",\n",
        "        \"description\": \"Woman in red coat spotted\"\n",
        "    },\n",
        "    {\n",
        "        \"label\": \"suspicious_loitering\",\n",
        "        \"prompt\": \"Detect individuals or small groups loitering in the same spot for an extended period without clear purpose.\",\n",
        "        \"description\": \"Suspicious loitering detected\"\n",
        "    }\n",
        "]\n",
        "\n",
        "# 🔍 List existing events in VideoDB\n",
        "existing_events_by_label = {}\n",
        "try:\n",
        "    for evt in conn.list_events():\n",
        "        lbl = evt.get(\"label\")\n",
        "        eid = evt.get(\"event_id\")\n",
        "        if lbl and eid:\n",
        "            existing_events_by_label[lbl] = eid\n",
        "    if existing_events_by_label:\n",
        "        print(\"📑 Existing events found:\")\n",
        "        for lbl, eid in existing_events_by_label.items():\n",
        "            print(f\"   • {lbl} ({eid})\")\n",
        "    else:\n",
        "        print(\"📑 No existing events found.\")\n",
        "except Exception as e:\n",
        "    print(f\"⚠️ Could not list existing events: {e}\")\n"
      ]
    },
    {
      "cell_type": "code",
      "execution_count": null,
      "id": "58d501d8",
      "metadata": {
        "colab": {
          "base_uri": "https://localhost:8080/"
        },
        "id": "58d501d8",
        "outputId": "5f191c6b-45b7-4fa2-ec0e-78e72c222648"
      },
      "outputs": [
        {
          "name": "stdout",
          "output_type": "stream",
          "text": [
            "\n",
            "🎯 Setting up cross-camera event detection...\n",
            "\n",
            "📎 Using existing event: unattended_luggage (87a452a83bc362ad)\n",
            "📎 Using existing event: large_crowd_formation (1a5585203e9374d1)\n",
            "📎 Using existing event: person_with_trolley (0c9831d3a5d702b3)\n",
            "📎 Using existing event: woman_in_red_coat (afe2776cf3f4608c)\n",
            "📎 Using existing event: suspicious_loitering (3307388de055afbe)\n",
            "\n",
            "🎯 Events ready: 5 existing, 0 created (5/5)\n",
            "🚀 Event detection system ready! Monitoring for:\n",
            "   • unattended_luggage: Unattended luggage detected\n",
            "   • large_crowd_formation: Large crowd forming\n",
            "   • person_with_trolley: Person with trolley bag\n",
            "   • woman_in_red_coat: Woman in red coat spotted\n",
            "   • suspicious_loitering: Suspicious loitering detected\n"
          ]
        }
      ],
      "source": [
        "# 🚀 Create or reuse events in VideoDB\n",
        "created_events = {}\n",
        "print(\"\\n🎯 Setting up cross-camera event detection...\\n\")\n",
        "\n",
        "for cfg in EVENTS_CONFIG:\n",
        "    label = cfg[\"label\"]\n",
        "\n",
        "    if label in existing_events_by_label:\n",
        "        event_id = existing_events_by_label[label]\n",
        "        created_events[label] = {\"event_id\": event_id, \"config\": cfg, \"status\": \"existing\"}\n",
        "        print(f\"📎 Using existing event: {label} ({event_id})\")\n",
        "        continue\n",
        "\n",
        "    try:\n",
        "        print(f\"📝 Creating event: {label}...\")\n",
        "        event_id = conn.create_event(event_prompt=cfg[\"prompt\"], label=label)\n",
        "        created_events[label] = {\"event_id\": event_id, \"config\": cfg, \"status\": \"created\"}\n",
        "        print(f\"   ✅ Created: {event_id}\")\n",
        "    except Exception as e:\n",
        "        print(f\"   ❌ Failed: {e}\")\n",
        "        created_events[label] = {\"event_id\": None, \"config\": cfg, \"status\": \"failed\", \"error\": str(e)}\n",
        "\n",
        "# 📊 Summary\n",
        "created = sum(1 for e in created_events.values() if e[\"status\"] == \"created\")\n",
        "existing = sum(1 for e in created_events.values() if e[\"status\"] == \"existing\")\n",
        "print(f\"\\n🎯 Events ready: {existing} existing, {created} created ({existing+created}/{len(EVENTS_CONFIG)})\")\n",
        "\n",
        "if existing + created:\n",
        "    print(\"🚀 Event detection system ready! Monitoring for:\")\n",
        "    for lbl, evt in created_events.items():\n",
        "        if evt[\"status\"] in (\"created\", \"existing\"):\n",
        "            print(f\"   • {lbl}: {evt['config']['description']}\")\n",
        "else:\n",
        "    print(\"⚠️ No events ready. Check configuration and retry.\")\n"
      ]
    },
    {
      "cell_type": "markdown",
      "id": "b913d231",
      "metadata": {
        "id": "b913d231"
      },
      "source": [
        "---\n",
        "### 🌐 Step 2: Configure Webhook & Callback"
      ]
    },
    {
      "cell_type": "markdown",
      "id": "100c576e",
      "metadata": {
        "id": "100c576e"
      },
      "source": [
        "*a. install pyngrok*"
      ]
    },
    {
      "cell_type": "code",
      "execution_count": null,
      "id": "defe99fb",
      "metadata": {
        "colab": {
          "base_uri": "https://localhost:8080/"
        },
        "id": "defe99fb",
        "outputId": "7715b524-c7c5-4972-8fe8-bd5205f163c1"
      },
      "outputs": [
        {
          "name": "stdout",
          "output_type": "stream",
          "text": [
            "Requirement already satisfied: pyngrok in /usr/local/lib/python3.12/dist-packages (7.3.0)\n",
            "Requirement already satisfied: PyYAML>=5.1 in /usr/local/lib/python3.12/dist-packages (from pyngrok) (6.0.2)\n",
            "Requirement already satisfied: flask in /usr/local/lib/python3.12/dist-packages (3.1.2)\n",
            "Requirement already satisfied: blinker>=1.9.0 in /usr/local/lib/python3.12/dist-packages (from flask) (1.9.0)\n",
            "Requirement already satisfied: click>=8.1.3 in /usr/local/lib/python3.12/dist-packages (from flask) (8.2.1)\n",
            "Requirement already satisfied: itsdangerous>=2.2.0 in /usr/local/lib/python3.12/dist-packages (from flask) (2.2.0)\n",
            "Requirement already satisfied: jinja2>=3.1.2 in /usr/local/lib/python3.12/dist-packages (from flask) (3.1.6)\n",
            "Requirement already satisfied: markupsafe>=2.1.1 in /usr/local/lib/python3.12/dist-packages (from flask) (3.0.2)\n",
            "Requirement already satisfied: werkzeug>=3.1.0 in /usr/local/lib/python3.12/dist-packages (from flask) (3.1.3)\n"
          ]
        }
      ],
      "source": [
        "!pip install pyngrok\n",
        "!pip install flask"
      ]
    },
    {
      "cell_type": "markdown",
      "id": "a15c4ee8",
      "metadata": {
        "id": "a15c4ee8"
      },
      "source": [
        "*b. Expose a Public Webhook URL (ngrok or fallback)*"
      ]
    },
    {
      "cell_type": "code",
      "execution_count": null,
      "id": "d1b18cea",
      "metadata": {
        "colab": {
          "base_uri": "https://localhost:8080/"
        },
        "id": "d1b18cea",
        "outputId": "c2026d8d-bbac-4d39-bb43-5018091b3522"
      },
      "outputs": [
        {
          "name": "stdout",
          "output_type": "stream",
          "text": [
            "🌍 Public webhook URL: https://9904b2f1d7e2.ngrok-free.app/webhook\n",
            "✅ Callback URL configured: https://9904b2f1d7e2.ngrok-free.app/webhook\n"
          ]
        }
      ],
      "source": [
        "import os\n",
        "import socket\n",
        "from pyngrok import ngrok\n",
        "from google.colab import userdata\n",
        "\n",
        "def choose_port(start=5001, tries=5):\n",
        "    \"\"\"Pick an available local port (default: 5001–5005).\"\"\"\n",
        "    for p in range(start, start + tries):\n",
        "        with socket.socket(socket.AF_INET, socket.SOCK_STREAM) as s:\n",
        "            try:\n",
        "                s.bind((\"0.0.0.0\", p))\n",
        "                return p\n",
        "            except OSError:\n",
        "                continue\n",
        "    return start\n",
        "\n",
        "try:\n",
        "    # Authenticate ngrok if token available\n",
        "    # token = os.getenv(\"NGROK_AUTHTOKEN\", \"\").strip()\n",
        "    token = userdata.get('ngrok_auth')\n",
        "    if token:\n",
        "        ngrok.set_auth_token(token)\n",
        "\n",
        "    WEBHOOK_PORT = choose_port()\n",
        "    tunnel = ngrok.connect(WEBHOOK_PORT)\n",
        "    PUBLIC_WEBHOOK_URL = f\"{tunnel.public_url}/webhook\"\n",
        "    print(f\"🌍 Public webhook URL: {PUBLIC_WEBHOOK_URL}\")\n",
        "except Exception as e:\n",
        "    PUBLIC_WEBHOOK_URL = \"\"\n",
        "    print(f\"⚠️ ngrok tunnel not started: {e}\")\n",
        "    print(\"➡️  Set `WEBHOOK_URL` manually if using external service (Zapier, Pipedream, etc.).\")\n",
        "\n",
        "# Unified callback (used when creating alerts)\n",
        "ALERT_CALLBACK_URL = PUBLIC_WEBHOOK_URL or \"\"\n",
        "if ALERT_CALLBACK_URL:\n",
        "    print(f\"✅ Callback URL configured: {ALERT_CALLBACK_URL}\")\n",
        "else:\n",
        "    print(\"⚠️ No callback URL configured — alerts won’t trigger notifications.\")\n"
      ]
    },
    {
      "cell_type": "markdown",
      "id": "e60ddcc0",
      "metadata": {
        "id": "e60ddcc0"
      },
      "source": [
        "*c. Webhook Receiver (Flask server)*"
      ]
    },
    {
      "cell_type": "code",
      "execution_count": null,
      "id": "4c28d6dd",
      "metadata": {
        "colab": {
          "base_uri": "https://localhost:8080/"
        },
        "id": "4c28d6dd",
        "outputId": "042da0da-d3b0-4968-f55d-ac761539f226"
      },
      "outputs": [
        {
          "name": "stdout",
          "output_type": "stream",
          "text": [
            "🚀 Webhook server running at http://localhost:5001/webhook\n",
            " * Serving Flask app '__main__'\n",
            " * Debug mode: off\n"
          ]
        }
      ],
      "source": [
        "import time\n",
        "import threading\n",
        "from flask import Flask, request, jsonify\n",
        "\n",
        "# In-memory store for webhook calls\n",
        "webhook_data = globals().get(\"webhook_data\", [])\n",
        "webhook_meta = globals().get(\"webhook_meta\", {\"started_at\": time.time(), \"count\": 0})\n",
        "\n",
        "app = Flask(__name__)\n",
        "\n",
        "@app.route(\"/webhook\", methods=[\"POST\"])\n",
        "def webhook():\n",
        "    payload = request.get_json(silent=True) or {}\n",
        "    webhook_meta[\"count\"] += 1\n",
        "    webhook_data.append({\n",
        "        \"received_at\": time.time(),\n",
        "        \"headers\": dict(request.headers),\n",
        "        \"data\": payload\n",
        "    })\n",
        "    webhook_data[:] = webhook_data[-500:]  # keep last 500 only\n",
        "    print(f\"📩 Webhook #{webhook_meta['count']} received: {payload}\")\n",
        "    return jsonify({\"status\": \"ok\"})\n",
        "\n",
        "def run_webhook():\n",
        "    app.run(host=\"0.0.0.0\", port=WEBHOOK_PORT, debug=False, use_reloader=False)\n",
        "\n",
        "# Start/reuse thread safely\n",
        "webhook_thread = globals().get(\"webhook_thread\")\n",
        "if not webhook_thread or not webhook_thread.is_alive():\n",
        "    webhook_thread = threading.Thread(target=run_webhook, daemon=True)\n",
        "    webhook_thread.start()\n",
        "    globals()[\"webhook_thread\"] = webhook_thread\n",
        "    print(f\"🚀 Webhook server running at http://localhost:{WEBHOOK_PORT}/webhook\")\n",
        "else:\n",
        "    print(f\"✅ Webhook server already running at http://localhost:{WEBHOOK_PORT}/webhook\")\n"
      ]
    },
    {
      "cell_type": "markdown",
      "id": "fc75f617",
      "metadata": {
        "id": "fc75f617"
      },
      "source": [
        "---\n",
        "### 🚨 Step 3: Multi-Camera Alert System\n",
        "\n",
        "We’ll now set up an **intelligent alerting pipeline** that continuously monitors all connected cameras.  \n",
        "Whenever a basketball event is detected, the system will trigger a **real-time notification** enriched with **multi-angle evidence clips** for better context."
      ]
    },
    {
      "cell_type": "markdown",
      "id": "7fd399f1",
      "metadata": {
        "id": "7fd399f1"
      },
      "source": [
        "*a. Callback & Setup*"
      ]
    },
    {
      "cell_type": "code",
      "execution_count": null,
      "id": "5c3a25f4",
      "metadata": {
        "colab": {
          "base_uri": "https://localhost:8080/"
        },
        "id": "5c3a25f4",
        "outputId": "49f289c3-7a42-4306-8226-4f69abc17b0c"
      },
      "outputs": [
        {
          "name": "stdout",
          "output_type": "stream",
          "text": [
            "🚨 Setting up alerts (reuse existing where possible)\n",
            "\n"
          ]
        }
      ],
      "source": [
        "# 🚨 Step 3A: Prepare callback + alert storage\n",
        "\n",
        "# Use callback URL from earlier cells\n",
        "callback_url = globals().get(\"ALERT_CALLBACK_URL\", \"\")\n",
        "if not callback_url:\n",
        "    print(\"⚠️ No callback URL configured. Alerts will be created but won't send notifications.\")\n",
        "\n",
        "# Container for alerts per camera\n",
        "created_alerts = {}\n",
        "print(\"🚨 Setting up alerts (reuse existing where possible)\\n\")\n"
      ]
    },
    {
      "cell_type": "markdown",
      "id": "9cac7efd",
      "metadata": {
        "id": "9cac7efd"
      },
      "source": [
        "*b. Create or Reuse Alerts*"
      ]
    },
    {
      "cell_type": "code",
      "execution_count": null,
      "id": "14e7b352",
      "metadata": {
        "colab": {
          "base_uri": "https://localhost:8080/"
        },
        "id": "14e7b352",
        "outputId": "e1c62271-8344-431e-f2bc-b139199de7bd"
      },
      "outputs": [
        {
          "name": "stdout",
          "output_type": "stream",
          "text": [
            "📹 CAM1: Plaza Overview\n",
            "   📎 Using existing alert for 'unattended_luggage': 040bb9cbac61956c\n",
            "   📎 Using existing alert for 'large_crowd_formation': 69173b12c4d4fe74\n",
            "   📎 Using existing alert for 'person_with_trolley': 36dcec103d80d324\n",
            "   📎 Using existing alert for 'woman_in_red_coat': 2af505f6bcca2716\n",
            "   📎 Using existing alert for 'suspicious_loitering': 86ab7803b41dab87\n",
            "📹 CAM2: Main Walkway Cam\n",
            "   📎 Using existing alert for 'unattended_luggage': d907756b1d5ca1a6\n",
            "   📎 Using existing alert for 'large_crowd_formation': 74114e5bb33a688a\n",
            "   📎 Using existing alert for 'person_with_trolley': 65468edea695e727\n",
            "   📎 Using existing alert for 'woman_in_red_coat': 7518c8e83d03fc84\n",
            "   📎 Using existing alert for 'suspicious_loitering': dfeebae9823eb22c\n",
            "📹 CAM3: Stairway Junction\n",
            "   📎 Using existing alert for 'unattended_luggage': d18468fac1f3a9c1\n",
            "   📎 Using existing alert for 'large_crowd_formation': a2e4b507510597a4\n",
            "   📎 Using existing alert for 'person_with_trolley': 8e620aa7d4257127\n",
            "   📎 Using existing alert for 'woman_in_red_coat': fb0503165717edfb\n",
            "   📎 Using existing alert for 'suspicious_loitering': d332312d90423a0a\n",
            "📹 CAM4: Central Plaza Cam\n",
            "   📎 Using existing alert for 'unattended_luggage': 599498ecfd109572\n",
            "   📎 Using existing alert for 'large_crowd_formation': e317992181c176ad\n",
            "   📎 Using existing alert for 'person_with_trolley': e4f94c94986ce196\n",
            "   📎 Using existing alert for 'woman_in_red_coat': 2630033bf1d13208\n",
            "   📎 Using existing alert for 'suspicious_loitering': 465a2ea9e6c31f30\n",
            "📹 CAM5: Building Entrance Cam\n",
            "   ✅ Created alert for 'unattended_luggage': 6efc76b66887435d\n",
            "   ✅ Created alert for 'large_crowd_formation': 11b4507f72787cb2\n",
            "   ✅ Created alert for 'person_with_trolley': 5182e972ba16b30f\n",
            "   ✅ Created alert for 'woman_in_red_coat': 701f2e447ece68fd\n",
            "   ✅ Created alert for 'suspicious_loitering': 4d8b9748dd08ec85\n",
            "📹 CAM6: Wide Plaza View\n",
            "   ✅ Created alert for 'unattended_luggage': 050d4bf992af4425\n",
            "   ✅ Created alert for 'large_crowd_formation': b6a7042c1936e18c\n",
            "   ✅ Created alert for 'person_with_trolley': feb8e5fdefd006e9\n",
            "   ✅ Created alert for 'woman_in_red_coat': 7ef4321d5b2647c8\n",
            "   ✅ Created alert for 'suspicious_loitering': 20d7eb2857cca8c9\n",
            "📹 CAM7: Ground-Level Cross View\n",
            "   ✅ Created alert for 'unattended_luggage': 2c9ad8755c145097\n",
            "   ✅ Created alert for 'large_crowd_formation': afefccab139b51a0\n",
            "   ✅ Created alert for 'person_with_trolley': 56a4f53fbcfa5308\n",
            "   ✅ Created alert for 'woman_in_red_coat': d8305ff47ca66915\n",
            "   ✅ Created alert for 'suspicious_loitering': fab4d68330aac68c\n"
          ]
        }
      ],
      "source": [
        "for cam_id, idx_data in scene_indexes.items():\n",
        "    if idx_data.get(\"status\") != \"active\" or not idx_data.get(\"index\"):\n",
        "        print(f\"⏭️ {cam_id.upper()}: Index not active → skipping alerts\")\n",
        "        continue\n",
        "\n",
        "    idx = idx_data[\"index\"]\n",
        "    cam_name = connected_streams[cam_id][\"info\"][\"name\"]\n",
        "    created_alerts[cam_id] = {}\n",
        "\n",
        "    # Try to list existing alerts for this index\n",
        "    existing_alerts = {}\n",
        "    try:\n",
        "        for a in idx.list_alerts():\n",
        "            label = a[\"label\"]\n",
        "            aid = a[\"alert_id\"]\n",
        "            if label and aid:\n",
        "                existing_alerts[label] = a\n",
        "    except Exception as e:\n",
        "        print(f\"   ⚠️ {cam_id.upper()}: Could not list existing alerts: {e}\")\n",
        "\n",
        "    print(f\"📹 {cam_id.upper()}: {cam_name}\")\n",
        "\n",
        "    # For each defined event → create/reuse alerts\n",
        "    for label, evt in created_events.items():\n",
        "        if evt.get(\"status\") not in (\"existing\", \"created\") or not evt.get(\"event_id\"):\n",
        "            continue\n",
        "\n",
        "        if label in existing_alerts:  # Reuse\n",
        "            if a[\"status\"] == \"disabled\":\n",
        "                idx.enable_alert(a[\"alert_id\"])\n",
        "            a = existing_alerts[label]\n",
        "            aid = a[\"alert_id\"]\n",
        "            created_alerts[cam_id][label] = {\"alert_id\": aid, \"event_id\": evt[\"event_id\"], \"status\": \"existing\"}\n",
        "            print(f\"   📎 Using existing alert for '{label}': {aid}\")\n",
        "\n",
        "        else:  # Create new\n",
        "            try:\n",
        "                aid = idx.create_alert(evt[\"event_id\"], callback_url=callback_url or None)\n",
        "                status = \"active\" if callback_url else \"created_no_webhook\"\n",
        "                created_alerts[cam_id][label] = {\"alert_id\": aid, \"event_id\": evt[\"event_id\"], \"status\": status}\n",
        "                msg = f\"   ✅ Created alert for '{label}': {aid}\" if callback_url else f\"   ⚠️ Created alert for '{label}' (no webhook)\"\n",
        "                print(msg)\n",
        "            except Exception as e:\n",
        "                created_alerts[cam_id][label] = {\"alert_id\": None, \"event_id\": evt[\"event_id\"], \"status\": \"failed\", \"error\": str(e)}\n",
        "                print(f\"   ❌ Failed to create alert for '{label}': {e}\")"
      ]
    },
    {
      "cell_type": "code",
      "execution_count": null,
      "id": "90ecb643",
      "metadata": {
        "colab": {
          "base_uri": "https://localhost:8080/"
        },
        "id": "90ecb643",
        "outputId": "918a0daa-7846-461a-bb33-ca0334a25f50"
      },
      "outputs": [
        {
          "name": "stdout",
          "output_type": "stream",
          "text": [
            "\n",
            "🎯 Alert System Summary: 35/35 alerts ready\n",
            "📬 Alerts will POST to: https://9904b2f1d7e2.ngrok-free.app/webhook\n"
          ]
        }
      ],
      "source": [
        "# 📊 Alert system summary\n",
        "num_total = sum(len(alerts) for alerts in created_alerts.values())\n",
        "num_ready = sum(\n",
        "    1 for cam_alerts in created_alerts.values()\n",
        "    for a in cam_alerts.values()\n",
        "    if a[\"status\"] in (\"active\", \"existing\", \"created_no_webhook\")\n",
        ")\n",
        "\n",
        "print(f\"\\n🎯 Alert System Summary: {num_ready}/{num_total} alerts ready\")\n",
        "if num_ready:\n",
        "    print(f\"📬 Alerts will POST to: {callback_url or '❌ (no webhook set)'}\")\n",
        "else:\n",
        "    print(\"⚠️ No alerts ready. Check indexes, events, and callback URL.\")\n"
      ]
    },
    {
      "cell_type": "markdown",
      "id": "6ef17e5d",
      "metadata": {
        "id": "6ef17e5d"
      },
      "source": [
        "---\n",
        "## 📡 Phase 3: Alerts & Data Processing\n",
        "\n",
        "With alerts now streaming in from all cameras, this phase focuses on **capturing, processing, and analyzing** those incoming events.  \n",
        "We’ll store webhook data in-memory, extract useful context, and prepare it for downstream workflows like dashboards, notifications, or automated actions."
      ]
    },
    {
      "cell_type": "code",
      "execution_count": null,
      "id": "7c02e8ae",
      "metadata": {
        "colab": {
          "base_uri": "https://localhost:8080/"
        },
        "id": "7c02e8ae",
        "outputId": "8dca20b5-bc1a-436e-db58-cf2c19ae281c"
      },
      "outputs": [
        {
          "data": {
            "text/plain": [
              "6"
            ]
          },
          "execution_count": 43,
          "metadata": {},
          "output_type": "execute_result"
        }
      ],
      "source": [
        "len(webhook_data)"
      ]
    },
    {
      "cell_type": "code",
      "execution_count": null,
      "id": "dc2f9e47",
      "metadata": {
        "colab": {
          "base_uri": "https://localhost:8080/"
        },
        "id": "dc2f9e47",
        "outputId": "9f5ee0be-9e4b-4534-b572-e8266668a79f"
      },
      "outputs": [
        {
          "data": {
            "text/plain": [
              "[{'received_at': 1757523735.8817182,\n",
              "  'headers': {'Host': '9904b2f1d7e2.ngrok-free.app',\n",
              "   'User-Agent': 'Python/3.12 aiohttp/3.11.11',\n",
              "   'Content-Length': '866',\n",
              "   'Accept': '*/*',\n",
              "   'Accept-Encoding': 'gzip, deflate',\n",
              "   'Content-Type': 'application/json',\n",
              "   'X-Forwarded-For': '34.228.137.199',\n",
              "   'X-Forwarded-Host': '9904b2f1d7e2.ngrok-free.app',\n",
              "   'X-Forwarded-Proto': 'https'},\n",
              "  'data': {'event_id': 'event-0c9831d3a5d702b3',\n",
              "   'label': 'person_with_trolley',\n",
              "   'confidence': 0.95,\n",
              "   'explanation': \"The scene analysis explicitly states: 'A female is seen pulling a black, standard-sized rolling suitcase,' which directly matches the alert context for detecting a person with a trolley bag or rolling suitcase.\",\n",
              "   'timestamp': '2025-09-10T17:02:15.811085+00:00',\n",
              "   'start_time': '2025-09-10T22:31:50.886736+05:30',\n",
              "   'end_time': '2025-09-10T22:32:05.886736+05:30',\n",
              "   'stream_url': 'https://videodb-rt-streaming-service-us-east-1.s3.us-east-1.amazonaws.com/manifests/rts-01993492-ab3b-7203-89e9-4b2b842fb4c5/1757523710000000-1757523726000000.m3u8',\n",
              "   'player_url': 'https://console.videodb.io/player?url=https://videodb-rt-streaming-service-us-east-1.s3.us-east-1.amazonaws.com/manifests/rts-01993492-ab3b-7203-89e9-4b2b842fb4c5/1757523710000000-1757523726000000.m3u8'}}]"
            ]
          },
          "execution_count": 36,
          "metadata": {},
          "output_type": "execute_result"
        }
      ],
      "source": [
        "webhook_data[-1:]"
      ]
    },
    {
      "cell_type": "markdown",
      "id": "c999e496",
      "metadata": {
        "id": "c999e496"
      },
      "source": [
        "---\n",
        "### 🎯 Step 1: Choose the Event\n",
        "\n",
        "From the list of recent alerts, select a specific **basketball event** you’d like to explore further.  \n",
        "This choice will be used to extract the event window (with multiple camera angles) for deeper analysis.\n"
      ]
    },
    {
      "cell_type": "code",
      "execution_count": null,
      "id": "e4a2eaa6",
      "metadata": {
        "colab": {
          "base_uri": "https://localhost:8080/"
        },
        "id": "e4a2eaa6",
        "outputId": "e7fe261e-2081-4743-eb14-d804981ef3aa"
      },
      "outputs": [
        {
          "name": "stdout",
          "output_type": "stream",
          "text": [
            "\n",
            "📋 Recent Alerts (last 10):\n",
            "\n",
            "1. 🎯 person_with_trolley | ✅ 0.95 | 📝 The scene analysis explicitly states: 'A female is seen pulling a black, standard-sized rolling suit...\n",
            "2. 🎯 person_with_trolley | ✅ 0.95 | 📝 A man with a rolling suitcase was explicitly identified in the mid-left section of the plaza, which ...\n",
            "3. 🎯 suspicious_loitering | ✅ 0.8 | 📝 An 'Isolated Standing Person with Shoulder Bag' is noted as standing 'relatively still and somewhat ...\n",
            "4. 🎯 person_with_trolley | ✅ 1.0 | 📝 A male individual was observed pulling a black, standard-sized rolling suitcase, which directly matc...\n",
            "5. 🎯 person_with_trolley | ✅ 1.0 | 📝 A person pulling a black, standard-sized rolling suitcase was identified on the left side of the pav...\n",
            "6. 🎯 person_with_trolley | ✅ 0.95 | 📝 The scene analysis explicitly mentions 'A man in a dark jacket and light pants is standing still, lo...\n",
            "\n",
            "👉 Select an alert (1–6): 5\n",
            "\n",
            "✅ Selected: person_with_trolley (Confidence: 1.0)\n"
          ]
        }
      ],
      "source": [
        "# 📡 View & select recent alerts (last 10)\n",
        "\n",
        "# Keep only the last 10 webhook events\n",
        "recent_alerts = webhook_data[:10] if webhook_data else []\n",
        "\n",
        "if not recent_alerts:\n",
        "    print(\"⚠️ No alerts received yet.\")\n",
        "else:\n",
        "    # Normalize alerts into a compact list\n",
        "    cleaned_alerts = []\n",
        "    for item in recent_alerts:\n",
        "        data = item.get(\"data\", {})\n",
        "        cleaned_alerts.append({\n",
        "            \"label\": data.get(\"label\", \"N/A\"),\n",
        "            \"confidence\": data.get(\"confidence\", \"N/A\"),\n",
        "            \"explanation\": (data.get(\"explanation\") or \"\")[:100]+\"...\",\n",
        "            \"timestamp\": data.get(\"timestamp\", \"N/A\"),\n",
        "            \"start_time\": data.get(\"start_time\", \"N/A\"),\n",
        "            \"end_time\": data.get(\"end_time\", \"N/A\"),\n",
        "            \"stream_url\": data.get(\"stream_url\", \"N/A\"),\n",
        "            \"player_url\": data.get(\"player_url\", \"N/A\"),\n",
        "            \"event_id\": data.get(\"event_id\", \"N/A\"),\n",
        "        })\n",
        "\n",
        "    # Display to user\n",
        "    print(\"\\n📋 Recent Alerts (last 10):\\n\")\n",
        "    for i, alert in enumerate(cleaned_alerts, 1):\n",
        "        print(f\"{i}. 🎯 {alert['label']} | \"\n",
        "              f\"✅ {alert['confidence']} | 📝 {alert['explanation']}\")\n",
        "\n",
        "    # Interactive selection\n",
        "    try:\n",
        "        choice = int(input(\"\\n👉 Select an alert (1–{0}): \".format(len(cleaned_alerts))).strip())\n",
        "        if 1 <= choice <= len(cleaned_alerts):\n",
        "            selected = cleaned_alerts[choice - 1]\n",
        "            print(f\"\\n✅ Selected: {selected['label']} \"\n",
        "                  f\"(Confidence: {selected['confidence']})\")\n",
        "        else:\n",
        "            print(\"⚠️ Invalid selection. Please choose a valid alert number.\")\n",
        "    except (ValueError, EOFError):\n",
        "        print(\"⚠️ No valid input received. Skipping selection.\")\n"
      ]
    },
    {
      "cell_type": "markdown",
      "id": "61e26a45",
      "metadata": {
        "id": "61e26a45"
      },
      "source": [
        "---\n",
        "###  🎥 Step 2: Retrieve Multi-Camera Feeds for the Same Timestamp\n",
        "\n",
        "Once an event is selected, we’ll fetch the **synchronized video segments** from all connected cameras.  \n",
        "This ensures you get a **multi-angle replay** of the same moment in time, making analysis more accurate and contextual."
      ]
    },
    {
      "cell_type": "markdown",
      "id": "ea9ff451",
      "metadata": {
        "id": "ea9ff451"
      },
      "source": [
        "*a. Parse the timeline*"
      ]
    },
    {
      "cell_type": "code",
      "execution_count": null,
      "id": "49581d68",
      "metadata": {
        "colab": {
          "base_uri": "https://localhost:8080/"
        },
        "id": "49581d68",
        "outputId": "18b22c32-bbf9-490a-d985-af6c41eeafa5"
      },
      "outputs": [
        {
          "name": "stdout",
          "output_type": "stream",
          "text": [
            "⏱️ Time window: 1757523700 → 1757523736 (with ±10s padding)\n"
          ]
        }
      ],
      "source": [
        "import re\n",
        "from datetime import datetime, timezone\n",
        "\n",
        "# ⚙️ Config: symmetric padding around the alert window\n",
        "OFFSET_SECONDS = 10\n",
        "\n",
        "# 🔎 Regex to extract timestamps from HLS stream URLs\n",
        "_STREAM_RE = re.compile(r\"/(\\d{16})-(\\d{16})\\.m3u8\")\n",
        "\n",
        "def parse_stream_times(url: str):\n",
        "    \"\"\"Extract start/end timestamps (in seconds) from stream URL.\"\"\"\n",
        "    if not url:\n",
        "        return None, None\n",
        "    match = _STREAM_RE.search(url)\n",
        "    if not match:\n",
        "        return None, None\n",
        "    return int(match[1]) / 1e6, int(match[2]) / 1e6\n",
        "\n",
        "def parse_iso_ts(ts: str):\n",
        "    \"\"\"Convert ISO timestamp string to epoch seconds.\"\"\"\n",
        "    if not ts:\n",
        "        return None\n",
        "    dt = datetime.fromisoformat(ts)\n",
        "    if dt.tzinfo is None:\n",
        "        dt = dt.replace(tzinfo=timezone.utc)\n",
        "    return int(dt.timestamp())\n",
        "\n",
        "# 📦 Extract payload from selection\n",
        "if not selected:\n",
        "    raise RuntimeError(\"❌ No event data found in webhook payload.\")\n",
        "\n",
        "label       = selected.get(\"label\", \"unknown\")\n",
        "confidence  = selected.get(\"confidence\", \"N/A\")\n",
        "explanation = selected.get(\"explanation\", \"\")\n",
        "stream_url  = selected.get(\"stream_url\", \"\")\n",
        "player_url  = selected.get(\"player_url\", \"\")\n",
        "event_id    = selected.get(\"event_id\", \"\")\n",
        "timestamp   = selected.get(\"timestamp\", \"\")\n",
        "\n",
        "# 🕒 Resolve event time window\n",
        "start_s, end_s = parse_stream_times(stream_url)\n",
        "\n",
        "if not (start_s and end_s):\n",
        "    start_s = parse_iso_ts(selected.get(\"start_time\"))\n",
        "    end_s   = parse_iso_ts(selected.get(\"end_time\"))\n",
        "\n",
        "if not (start_s and end_s):\n",
        "    raise RuntimeError(\"❌ Could not determine alert time window from payload.\")\n",
        "\n",
        "# Apply symmetric offset\n",
        "start_adj = max(0, int(start_s) - OFFSET_SECONDS)\n",
        "end_adj   = int(end_s) + OFFSET_SECONDS\n",
        "\n",
        "print(f\"⏱️ Time window: {start_adj} → {end_adj} (with ±{OFFSET_SECONDS}s padding)\")\n"
      ]
    },
    {
      "cell_type": "markdown",
      "id": "4c52a6b5",
      "metadata": {
        "id": "4c52a6b5"
      },
      "source": [
        "*b. Generating all streams*"
      ]
    },
    {
      "cell_type": "code",
      "execution_count": null,
      "id": "9b2b2232",
      "metadata": {
        "colab": {
          "base_uri": "https://localhost:8080/"
        },
        "id": "9b2b2232",
        "outputId": "48e59ea8-5193-4ee9-ad5f-23fc63af06e9"
      },
      "outputs": [
        {
          "name": "stdout",
          "output_type": "stream",
          "text": [
            "\n",
            "======================================================================\n",
            "🚨 PROCESSING ALERT: PERSON_WITH_TROLLEY\n",
            "======================================================================\n",
            "📊 Confidence: 0.95\n",
            "🆔 Event ID: event-0c9831d3a5d702b3\n",
            "⏰ Detected at: 2025-09-10T17:02:15.811085+00:00\n",
            "\n",
            "🎥 Original Alert Stream: https://console.videodb.io/player?url=https://videodb-rt-streaming-service-us-east-1.s3.us-east-1.amazonaws.com/manifests/rts-01993492-ab3b-7203-89e9-4b2b842fb4c5/1757523710000000-1757523726000000.m3u8\n"
          ]
        }
      ],
      "source": [
        "# Display alert details\n",
        "print(\"\\n\" + \"=\"*70)\n",
        "print(f\"🚨 PROCESSING ALERT: {label.upper()}\")\n",
        "print(\"=\"*70)\n",
        "print(f\"📊 Confidence: {confidence}\")\n",
        "print(f\"🆔 Event ID: {event_id}\")\n",
        "print(f\"⏰ Detected at: {timestamp}\")\n",
        "# print(f\"📝 Explanation: {explanation}\")\n",
        "# print(f\"\\n🕐 TIME WINDOW:\")\n",
        "# print(f\"   Original: {datetime.fromtimestamp(int(start_s), timezone.utc)} → {datetime.fromtimestamp(int(end_s), timezone.utc)} UTC\")\n",
        "# print(f\"   With ±{OFFSET_SECONDS}s: {datetime.fromtimestamp(start_adj, timezone.utc)} → {datetime.fromtimestamp(end_adj, timezone.utc)} UTC\")\n",
        "print(f\"\\n🎥 Original Alert Stream: {player_url or stream_url}\")\n",
        "\n",
        "# Generate synchronized streams for all connected cameras\n",
        "if not globals().get(\"connected_streams\"):\n",
        "    raise RuntimeError(\"connected_streams not found. Run the connection step first.\")\n"
      ]
    },
    {
      "cell_type": "code",
      "execution_count": null,
      "id": "35ee6efc",
      "metadata": {
        "colab": {
          "base_uri": "https://localhost:8080/"
        },
        "id": "35ee6efc",
        "outputId": "bca0c7f8-6897-42eb-cd17-efb7b9192b7d"
      },
      "outputs": [
        {
          "name": "stdout",
          "output_type": "stream",
          "text": [
            "\n",
            "📹 MULTI-CAMERA SYNCHRONIZED STREAMS:\n",
            "----------------------------------------------------------------------\n",
            "✅ CAM1 - Plaza Overview:\n",
            "✅ CAM2 - Main Walkway Cam:\n",
            "✅ CAM3 - Stairway Junction:\n",
            "✅ CAM4 - Central Plaza Cam:\n",
            "✅ CAM5 - Building Entrance Cam:\n",
            "✅ CAM6 - Wide Plaza View:\n",
            "✅ CAM7 - Ground-Level Cross View:\n",
            "\n",
            "🎯 SUMMARY: Generated 7 synchronized camera streams\n"
          ]
        }
      ],
      "source": [
        "from videodb import play_stream\n",
        "\n",
        "multi_camera_streams = {}\n",
        "print(\"\\n📹 MULTI-CAMERA SYNCHRONIZED STREAMS:\")\n",
        "print(\"-\"*70)\n",
        "\n",
        "for cam_id, cam_data in connected_streams.items():\n",
        "    if cam_data.get(\"status\") != \"connected\" or not cam_data.get(\"stream\"):\n",
        "        print(f\"⏭️ {cam_id.upper()} - {cam_data['info']['name']}: Not connected\")\n",
        "        continue\n",
        "\n",
        "    try:\n",
        "        url = cam_data[\"stream\"].generate_stream(start_adj, end_adj)\n",
        "        player = play_stream(url)\n",
        "        multi_camera_streams[cam_id] = {\n",
        "            \"camera_name\": cam_data[\"info\"][\"name\"],\n",
        "            \"stream_url\": url,\n",
        "            \"player_url\": player,\n",
        "        }\n",
        "        print(f\"✅ {cam_id.upper()} - {cam_data['info']['name']}:\")\n",
        "        # print(f\"   📺 {player}\")\n",
        "        # print(url)\n",
        "\n",
        "    except Exception as e:\n",
        "        print(f\"❌ {cam_id.upper()} - {cam_data['info']['name']}: Failed ({e})\")\n",
        "\n",
        "print(f\"\\n🎯 SUMMARY: Generated {len(multi_camera_streams)} synchronized camera streams\")\n",
        "# print(\"💡 Use 'multi_camera_streams' dict for multi-view rendering or timeline composition\")\n",
        "\n",
        "camera_feeds = [ feed[\"player_url\"] for feed in multi_camera_streams.values() ]"
      ]
    },
    {
      "cell_type": "code",
      "execution_count": null,
      "id": "68YDD6HIkW_Z",
      "metadata": {
        "colab": {
          "base_uri": "https://localhost:8080/",
          "height": 421
        },
        "id": "68YDD6HIkW_Z",
        "outputId": "fc71bf5d-321e-4fd7-b957-10822e4dffe8"
      },
      "outputs": [
        {
          "data": {
            "text/html": [
              "\n",
              "        <iframe\n",
              "            width=\"800\"\n",
              "            height=\"400\"\n",
              "            src=\"https://console.videodb.io/player?url=https://videodb-rt-streaming-service-us-east-1.s3.us-east-1.amazonaws.com/manifests/rts-0199346c-f5f6-7031-a794-198651733c3f/1757523700000000-1757523736000000.m3u8\"\n",
              "            frameborder=\"0\"\n",
              "            allowfullscreen\n",
              "            \n",
              "        ></iframe>\n",
              "        "
            ],
            "text/plain": [
              "<IPython.lib.display.IFrame at 0x7fe95fa58f80>"
            ]
          },
          "execution_count": 42,
          "metadata": {},
          "output_type": "execute_result"
        }
      ],
      "source": [
        "camera_feeds[0]"
      ]
    },
    {
      "cell_type": "code",
      "execution_count": null,
      "id": "LkMAeV0Uf8HF",
      "metadata": {
        "id": "LkMAeV0Uf8HF"
      },
      "outputs": [],
      "source": []
    },
    {
      "cell_type": "code",
      "execution_count": null,
      "id": "t_CVyTjef8fc",
      "metadata": {
        "id": "t_CVyTjef8fc"
      },
      "outputs": [],
      "source": []
    },
    {
      "cell_type": "markdown",
      "id": "69a158e0",
      "metadata": {
        "id": "69a158e0"
      },
      "source": [
        "---\n",
        "### 🧹 Finally: Clean Up Resources\n",
        "\n",
        "To properly manage resources, this final step allows you to **disconnect all active camera streams**. This is crucial for preventing orphaned processes and ensuring the system is ready for its next use.\n"
      ]
    },
    {
      "cell_type": "code",
      "execution_count": null,
      "id": "9a2c86ce",
      "metadata": {
        "colab": {
          "base_uri": "https://localhost:8080/"
        },
        "id": "9a2c86ce",
        "outputId": "5965160a-8d76-4b68-edd6-bfe3bf2a4277"
      },
      "outputs": [
        {
          "name": "stdout",
          "output_type": "stream",
          "text": [
            "❓ Stop all 7 active streams? (y/n): y\n",
            "\n",
            "🔌 Disconnecting all streams...\n",
            "   ✅ Stopped stream: Plaza Overview\n",
            "   ✅ Stopped stream: Main Walkway Cam\n",
            "   ✅ Stopped stream: Stairway Junction\n",
            "   ✅ Stopped stream: Central Plaza Cam\n",
            "   ✅ Stopped stream: Building Entrance Cam\n",
            "   ✅ Stopped stream: Wide Plaza View\n",
            "   ✅ Stopped stream: Ground-Level Cross View\n",
            "\n",
            "🧹 All streams have been disconnected.\n"
          ]
        }
      ],
      "source": [
        "# Confirm before stopping all streams\n",
        "active_streams = [s for s in connected_streams.values() if s.get(\"status\") == \"connected\" and s.get(\"stream\")]\n",
        "if not active_streams:\n",
        "    print(\"✅ All streams are already disconnected.\")\n",
        "else:\n",
        "    try:\n",
        "        confirm = input(f\"❓ Stop all {len(active_streams)} active streams? (y/n): \").strip().lower()\n",
        "        if confirm == 'y':\n",
        "            print(\"\\n🔌 Disconnecting all streams...\")\n",
        "            for cam_data in active_streams:\n",
        "                try:\n",
        "                    cam_data[\"stream\"].stop()\n",
        "                    cam_name = cam_data[\"info\"][\"name\"]\n",
        "                    print(f\"   ✅ Stopped stream: {cam_name}\")\n",
        "                except Exception as e:\n",
        "                    print(f\"   ❌ Failed to stop stream {cam_name}: {e}\")\n",
        "            print(\"\\n🧹 All streams have been disconnected.\")\n",
        "        else:\n",
        "            print(\"\\n👍 Streams will remain active.\")\n",
        "    except (ValueError, EOFError):\n",
        "        print(\"\\n⚠️ No valid input received. Streams will remain active.\")"
      ]
    },
    {
      "cell_type": "code",
      "execution_count": null,
      "id": "414eea29",
      "metadata": {
        "id": "414eea29"
      },
      "outputs": [],
      "source": []
    }
  ],
  "metadata": {
    "colab": {
      "provenance": []
    },
    "kaggle": {
      "accelerator": "nvidiaTeslaT4",
      "dataSources": [
        {
          "datasetId": 8228445,
          "sourceId": 12999101,
          "sourceType": "datasetVersion"
        }
      ],
      "dockerImageVersionId": 31090,
      "isGpuEnabled": true,
      "isInternetEnabled": true,
      "language": "python",
      "sourceType": "notebook"
    },
    "kernelspec": {
      "display_name": "Python 3",
      "name": "python3"
    },
    "language_info": {
      "codemirror_mode": {
        "name": "ipython",
        "version": 3
      },
      "file_extension": ".py",
      "mimetype": "text/x-python",
      "name": "python",
      "nbconvert_exporter": "python",
      "pygments_lexer": "ipython3",
      "version": "3.11.13"
    }
  },
  "nbformat": 4,
  "nbformat_minor": 5
}
