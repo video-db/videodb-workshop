{
  "cells": [
    {
      "cell_type": "markdown",
      "metadata": {
        "id": "bQ-SNX5X7BvK"
      },
      "source": [
        "# ⚡️ QuickStart: VideoDB\n",
        "\n",
        "<a href=\"https://colab.research.google.com/github/video-db/videodb-workshop/blob/main/quickstart/VideoDB_Quickstart.ipynb\" target=\"_parent\"><img src=\"https://colab.research.google.com/assets/colab-badge.svg\" alt=\"Open In Colab\"/></a>\n",
        "\n",
        "This notebook is designed to help you get started with [VideoDB](https://videodb.io)."
      ]
    },
    {
      "cell_type": "markdown",
      "metadata": {
        "id": "sZd2BL8w7BvO"
      },
      "source": [
        "<div style=\"height:40px;\"></div>\n",
        "\n",
        "### Setup\n",
        "---  "
      ]
    },
    {
      "cell_type": "markdown",
      "metadata": {
        "id": "17cobGON7BvP"
      },
      "source": [
        "\n",
        "#### 🔧 Install VideoDB in your environment\n",
        "\n",
        "VideoDB is available as [python package 📦](https://pypi.org/project/videodb)  "
      ]
    },
    {
      "cell_type": "code",
      "execution_count": 3,
      "metadata": {
        "id": "inlacFp67BvQ"
      },
      "outputs": [],
      "source": [
        "!pip -q install videodb"
      ]
    },
    {
      "cell_type": "markdown",
      "metadata": {
        "id": "rCLG0zyt7BvR"
      },
      "source": [
        "##### 🔗 Setting Up a connection to db\n",
        "To connect to VideoDB, simply create a `Connection` object.\n",
        "\n",
        "This can be done by either providing your VideoDB API key directly to the constructor or by setting the `VIDEO_DB_API_KEY` environment variable with your API key.\n",
        "\n",
        ">💡\n",
        ">Get your API key from [VideoDB Console](https://console.videodb.io/?ref=github-workshop-sf). ( Free for first 50 uploads, No credit card required ) 🎉."
      ]
    },
    {
      "cell_type": "code",
      "execution_count": 4,
      "metadata": {
        "colab": {
          "base_uri": "https://localhost:8080/"
        },
        "id": "4Unpgj8P7BvR",
        "outputId": "e529f332-2207-468e-ced1-5c879426aaa6"
      },
      "outputs": [
        {
          "name": "stdout",
          "output_type": "stream",
          "text": [
            "Please enter your VideoDB API Key: ··········\n"
          ]
        }
      ],
      "source": [
        "import os\n",
        "from getpass import getpass\n",
        "\n",
        "videodb_api_key = getpass(\"Please enter your VideoDB API Key: \")\n",
        "\n",
        "os.environ[\"VIDEO_DB_API_KEY\"] = videodb_api_key\n",
        "\n",
        "from videodb import connect\n",
        "conn = connect()"
      ]
    },
    {
      "cell_type": "markdown",
      "metadata": {
        "id": "nfBbX0gr7BvS"
      },
      "source": [
        "<div style=\"height:40px;\"></div>\n",
        "\n",
        "### Working with a single Video\n",
        "---"
      ]
    },
    {
      "cell_type": "markdown",
      "metadata": {
        "id": "5oEsdYNg7BvT"
      },
      "source": [
        "<div style=\"height:10px;\"></div>\n",
        "\n",
        "#### ⬆️ Upload a video\n",
        "Now that you have established a connection to VideoDB, you can now upload your videos using `conn.upload()`.\n",
        "\n",
        "You can upload your media by a public `url` or from your `file_path`\n",
        "\n",
        "`upload` returns a `Video` Object, which can be used to access video methods."
      ]
    },
    {
      "cell_type": "code",
      "execution_count": null,
      "metadata": {
        "id": "hfL1vHMz7BvT"
      },
      "outputs": [],
      "source": [
        "#Upload a video by url\n",
        "video = conn.upload(url=\"https://www.youtube.com/watch?v=wU0PYcCsL6o\")"
      ]
    },
    {
      "cell_type": "markdown",
      "metadata": {
        "id": "-f2v-Q4m7BvU"
      },
      "source": [
        "<div style=\"background-color: #ffffcc; color: black; padding: 10px; border-radius: 5px;\">\n",
        "VideoDB simplifies your upload by supporting links from Youtube, S3 or any Public URL with video\n",
        "</div>"
      ]
    },
    {
      "cell_type": "markdown",
      "metadata": {
        "id": "8BMobuoT7BvU"
      },
      "source": [
        "<div style=\"height:15px;\"></div>\n",
        "\n",
        "#### 📺 View your video\n",
        "\n",
        "Your video is instantly available for viewing 720p resolution ⚡️\n",
        "\n",
        "* Generate a streamable url for video using `video.generate_stream()`\n",
        "* Preview the video using Video.play(). This will open the video in your default browser/notebook.\n",
        "\n",
        "<div style=\"background-color: #ffffcc; color: black; padding: 10px; border-radius: 5px;\">\n",
        "    <strong>Note:</strong>if you are viewing this notebook on github, you won't be able to see iframe player, because of security restrictions. <br>\n",
        "    Please open the printed link of player in your browser</div>\n"
      ]
    },
    {
      "cell_type": "code",
      "execution_count": null,
      "metadata": {
        "id": "FN0-2jyA7BvU",
        "outputId": "9b982856-090c-4146-cbce-3b70afe1895c"
      },
      "outputs": [
        {
          "data": {
            "text/plain": [
              "'https://console.videodb.io/player?url=https://stream.videodb.io/v3/published/manifests/0645b883-5e48-4136-a5bc-f046b3a166a2.m3u8'"
            ]
          },
          "execution_count": 6,
          "metadata": {},
          "output_type": "execute_result"
        }
      ],
      "source": [
        "video.generate_stream()\n",
        "video.play()"
      ]
    },
    {
      "cell_type": "markdown",
      "metadata": {
        "id": "qj_vCx4P7BvV"
      },
      "source": [
        "#### ✂️ Get Specific Sections of videos\n",
        "\n",
        "You can easily clip specific sections of a video by passing timeline  of start and end sections. It accepts seconds.   \n",
        "For example Here’s we are streaming only first 10 seconds and then 120 to 140 second of uploaded video"
      ]
    },
    {
      "cell_type": "code",
      "execution_count": null,
      "metadata": {
        "id": "812vvePq7BvW",
        "outputId": "3a5f305c-05c1-41ee-9e59-4f2434b4f59a"
      },
      "outputs": [
        {
          "data": {
            "text/plain": [
              "'https://console.videodb.io/player?url=https://stream.videodb.io/v3/published/manifests/d0a049ff-be6e-41f7-826e-4a6e411f7bab.m3u8'"
            ]
          },
          "execution_count": 7,
          "metadata": {},
          "output_type": "execute_result"
        }
      ],
      "source": [
        "stream_link = video.generate_stream(timeline=[[0,10], [120,140]])\n",
        "play_stream(stream_link)"
      ]
    },
    {
      "cell_type": "markdown",
      "metadata": {
        "id": "RM9G3e8Q7BvW"
      },
      "source": [
        "<div style=\"height:15px;\"></div>\n",
        "\n",
        "#### 🔍 Indexing  a Video\n",
        "\n",
        "To search bits inside a video, you  have to first index the video. This can be done by a invoking the index function on the video object. VideoDB offers two type of indexes currently.\n",
        "\n",
        "1. `index_spoken_words`: Indexes spoken words in the video. It automatically generate the transcript and makes it ready for search.  20+ languages are supported. Checkout [Language Support](https://docs.videodb.io/language-support-79) to know more.\n",
        "\n",
        "2. `index_scenes`: Indexes visual information and events of the video. Perfect for finding scenes, activities, objects, emotions in the video. Refer [Scene Index Documentation](https://docs.videodb.io/scene-index-documentation-80) for details.\n",
        "   \n",
        "<div style=\"background-color: #ffffcc; color: black; padding: 10px; border-radius: 5px;\">\n",
        "    <strong>Note:</strong>Index may take time for longer videos</div>"
      ]
    },
    {
      "cell_type": "code",
      "execution_count": null,
      "metadata": {
        "id": "PI7UdWOi7BvW",
        "outputId": "4afbf749-53f2-4a57-f57f-126ac1742546"
      },
      "outputs": [
        {
          "name": "stderr",
          "output_type": "stream",
          "text": [
            "100%|████████████████████████████████████████████████████████████████████████████████████████████████████| 100/100 [00:18<00:00,  5.40it/s]                                                                           \n"
          ]
        }
      ],
      "source": [
        "#index spoken content of the video.\n",
        "video.index_spoken_words()"
      ]
    },
    {
      "cell_type": "code",
      "execution_count": null,
      "metadata": {
        "id": "sm3o0gas7BvW",
        "outputId": "87e66784-d0fa-4196-d67e-0b10e00a65e8"
      },
      "outputs": [
        {
          "name": "stdout",
          "output_type": "stream",
          "text": [
            "[{'description': \"This stunning scene captures the majestic beauty of a snow-covered mountain peak piercing through a clear blue sky. The jagged ridgeline glistens under the sunlight, displaying a breathtaking expanse of pure white. Surrounding peaks and ridges stretch across the horizon, some shrouded in mist and clouds, adding depth to the expansive, tranquil landscape. The stark contrast between the bright snow, dark rocky outcrops, and the azure sky creates a dramatic and awe-inspiring view. The serenity and grandeur of this high-altitude environment evoke a sense of wonder and contemplation, showcasing nature's pristine and rugged beauty in its purest form.\", 'end': 5.8, 'start': 0.0}, {'description': \"A man rides a bicycle on a bustling city street, surrounded by towering high-rise buildings. He's in motion, his posture leaning slightly forward as if to accelerate. Pedestrians walk along the sidewalks, some carrying bags or talking on their phones. The weather appears mild, with the cyclist wearing casual clothes suitable for a pleasant day. Traffic signs and streetlights indicate it is a busy urban area. The buildings vary in architectural styles, from modern glass towers to older, more ornate structures. The scene captures a typical day in a lively, possibly metropolitan, street setting.\", 'end': 10.24, 'start': 5.8}, {'description': \"The image captures a breathtaking mountainous landscape during daylight. The sun, partially obscured by towering peaks, casts gentle rays over the tranquil scene. At the center, a calm lake mirrors the surrounding rugged cliffs and forested slopes. The rocky terrain in the foreground is dotted with scattered stones and patches of moss, leading to the water's edge. Tall trees border the lake on one side, contributing to the pristine wilderness feel. The atmosphere is serene, evoking a sense of solitude and connection with nature. This picturesque setting invites exploration and reflection amidst the grandeur of the natural world.\", 'end': 17.2, 'start': 10.24}, {'description': 'The scene depicts a crowded street market at night, bustling with activity. Numerous stalls illuminate the area with colorful lights, showcasing various items. To the right, a stall displays traditional Mexican street food, with signs reading \"Taco,\" \"QUESADILLA,\" \"BURRITOS,\" and \"MEXICAN FOOD.\" The vendor, wearing a striped apron, interacts with customers, cooking on a hot griddle. A young girl stands nearby in a gray hoodie, capturing the moment on her phone. Patrons eagerly await their orders, adding to the vibrant, lively atmosphere. The scene captures the essence of a thriving, nocturnal street food culture.', 'end': 17.92, 'start': 17.2}, {'description': 'A majestic, snow-covered mountain peak stands prominently against a dramatic sky. Enveloping the peak is an expanse of pristine, white snow, reflecting a subtle, soft light. In the distance, other dark, shadowy mountains loom, partially obscured by dense, swirling clouds. The sky itself is an ominous blend of greys and purples, hinting at an incoming storm. The scene is tranquil yet imposing, with stark contrasts between the white snow and the dark, menacing sky. Overall, it conveys a sense of isolation, raw natural beauty, and the awe-inspiring power of the mountainous landscape amidst harsh weather conditions.', 'end': 20.32, 'start': 17.92}, {'description': \"Two young people are captured in a tender moment, with the one on the left resting their head affectionately on the other's shoulder. The person on the right gazes into the distance with a contemplative expression. Both are dressed in black, with a blurred background that suggests an outdoor setting, possibly near water or a coastal area. The warm lighting bathes the scene in soft, natural hues, creating an intimate and serene atmosphere. Their close physical proximity and expressions convey a sense of comfort, trust, and emotional connection between them, adding depth and warmth to the scene.\", 'end': 21.2, 'start': 20.32}, {'description': \"Two boys pose happily on a sandy beach with foamy waves rolling in the background. Both are shirtless and sporting swim trunks—one in blue and the other in white. They stand closely, side by side, with their arms draped around each other's shoulders, exuding a sense of camaraderie and friendship. In the background, the ocean is lively with several visible swimmers enjoying the water. The sky is mostly clear, hinting at a warm and sunny day. The overall atmosphere suggests fun, relaxation, and the joy of shared experiences by the seaside.\", 'end': 21.96, 'start': 21.2}, {'description': \"The image captures a serene outdoor café setting under a large, majestic tree providing ample shade. The tree branches spread wide, creating a canopy above. The café seating consists of wooden tables and chairs arranged neatly, some occupied by patrons engaged in conversation or enjoying a drink. There's a cobblestone path leading through the area, enhancing its quaint charm. In the background, a small building with a colorful facade adds to the picturesque ambiance. Decorative lanterns hang from the branches, suggesting a cozy atmosphere, perfect for day or evening relaxation in this delightful, tranquil space.\", 'end': 23.28, 'start': 21.96}, {'description': \"Beneath the ocean's surface, vibrant marine life thrives in an underwater seascape. The scene features lush green kelp swaying with the currents, anchored to rocky formations scattered with patches of red and pink coral. The water, illuminated with natural light from above, casts a serene blue hue, creating a mesmerizing, tranquil environment. Fish dart in and out of the vegetation, adding bursts of motion and color. The undulating kelp forest and the interplay of natural elements make for a dynamic and harmonious aquatic ecosystem, bustling with life and creating a captivating underwater world that's both lively and serene.\", 'end': 24.52, 'start': 23.28}, {'description': 'A vibrant underwater scene shows a thriving kelp forest. The dense, greenish-brown kelp sways gently with the ocean currents, creating a dynamic and mesmerizing dance. Patches of sunlight penetrate the water, casting a serene blue hue throughout the scene. Amidst the seaweed, various fish swim gracefully, adding bursts of color and movement to the serene aquatic landscape. The interplay of light and shadow creates a calming yet lively atmosphere, showcasing the diverse and delicate ecosystem of the ocean depths. The scene exudes tranquility, highlighting the beauty and complexity of marine life beneath the waves.', 'end': 27.24, 'start': 24.52}, {'description': 'A shepherd dog stands attentively on a grassy hill, overlooking a scenic, mountainous landscape. In the background, lush green hills rise against a partly cloudy blue sky, creating a picturesque, serene environment. Near the dog, a herd of sheep grazes peacefully, scattered across the hillside. The dog, with its alert posture and focused expression, appears to be dutifully watching over the flock, ensuring their safety. Wildflowers are scattered among the grass, adding vibrant touches of color to the verdant scene. This idyllic countryside setting exudes tranquility and natural beauty, epitomizing the harmonious relationship between the shepherd dog and its flock.', 'end': 27.88, 'start': 27.24}, {'description': \"A breathtaking mountainous landscape unfolds under a partially cloudy sky, casting shadows over the rocky terrain. Sharp peaks and green valleys create a dramatic contrast, with patches of greenery clinging to the slopes. The rugged mountains stretch far into the distance, disappearing into a misty haze. The clouds are dense, yet intermittent patches of blue sky peek through, hinting at the weather's constant flux. The scene is serene and majestic, capturing the raw beauty and untamed nature of the highlands. The vastness of the landscape evokes a sense of awe and tranquility, inviting exploration and introspection.\", 'end': 30.28, 'start': 27.88}, {'description': 'A bustling indoor market with a colorful assortment of vegetables, fruits, and other goods. Shoppers in casual attire browse and select items, while vendors stand behind their stalls, engaging in conversations and transactions. The market is well-lit, creating a warm and inviting atmosphere. Stalls are organized neatly, with produce arranged in attractive displays. The floor is clean, and signs hanging above indicate different sections or prices. The overall ambience is lively and animated, reflecting a scene rich with community interaction and commerce. Background noise of chatter and movement suggests an active, thriving marketplace.', 'end': 31.32, 'start': 30.28}, {'description': \"Sunlit cliffs draped in vibrant wildflowers overlook an expansive coastal scene. The hillside blooms predominantly with white daisies and occasional yellow flowers swaying in the breeze. Below, the coastline stretches with white-capped waves gently lapping against the sandy shore. The sea's deep blue contrasts with the lush greenery of the rolling hills and forested backdrop. Small, scattered houses dot the distant land, merging tranquility with rustic life. The horizon, slightly obscured by gentle mist, accentuates the serene and infinite feel of the location, inviting one to bask in its untouched natural splendor and oceanic grandeur.\", 'end': 33.76, 'start': 31.32}, {'description': 'The scene captures a night in a bustling urban area bathed in the glow of neon lights. A small dining establishment is seen under an awning, with patrons dining outdoors. Nearby, a street vendor has set up shop under a red canopy, offering an array of items for sale. A food delivery rider, in a yellow jacket, waits by a parked motorcycle. Storefronts with illuminated signs line the streets, reflecting in the puddles on the wet pavement. People, dressed in casual attire, walk by, adding to the vibrant atmosphere of the city night, filled with energy and movement.', 'end': 35.12, 'start': 33.76}, {'description': 'A hiker clad in red traverses a lush meadow, laden with vibrant green grass. The person carries a heavy backpack and uses trekking poles for support. Majestic mountains, partially shrouded in mist and dense with trees, rise in the background. The scene exudes a serene wilderness ambiance, with fallen logs and rugged terrain enhancing its natural beauty. The cloudy sky suggests recent or impending rain, imparting an aura of tranquility and solitude to the environment. This pristine landscape, untouched by civilization, reflects the raw and pristine splendor of nature, inviting exploration and admiration.', 'end': 38.92, 'start': 35.12}, {'description': 'An adventurer strides confidently along a rugged, rocky outcrop wearing light-colored pants and a dark shirt. A hefty backpack is slung over one shoulder, indicating an intense hike. Surrounding him are towering evergreen trees, their branches extending towards the misty sky. The background reveals majestic, gray, granite mountains partially veiled by thick, rolling fog, creating a mystical atmosphere. Patches of green vegetation dot the rocky terrain, adding contrast to the harsh landscape. The scene conveys a sense of solitude, determination, and awe-inspiring beauty as the hiker ventures deeper into the wild, untouched wilderness.', 'end': 40.76, 'start': 38.92}, {'description': 'The image depicts a busy city street, likely Times Square, with towering billboards and advertising screens on both sides. It is slightly dark, suggesting dawn or dusk, with dim lights illuminating the area. A lone pedestrian stands on the sidewalk, wearing dark clothing, facing away from the camera. Taxis and other vehicles blur past, indicating motion and a bustling atmosphere. Surrounding high-rise buildings showcase various colorful advertisements and digital displays, contributing to the vibrant yet somewhat subdued ambiance. The overall scene captures the lively and constant energy typical of an urban environment, even during the quieter hours.', 'end': 42.96, 'start': 40.76}, {'description': 'A bustling urban scene unfolds in what appears to be Times Square, New York City. Bright, towering billboards advertise well-known brands like Disney and Maxell. Yellow taxis dominate the streets, along with a few pedestrians walking along the sidewalks. The sky seems clear, allowing the vibrant displays to shine even more. The energy and movement are palpable, with the mix of modern architecture and colorful advertisements encapsulating the essence of city life. Neon and LED lights splash vibrant hues across the scene, creating an iconic and lively atmosphere typical of this famous intersection.', 'end': 43.68, 'start': 42.96}, {'description': 'The scene depicts a bustling city intersection, likely Times Square in New York City. Vibrant billboards and advertisements surround the area, showcasing brands like Disney and Maxell. The streets are filled with a blend of blurred figures, indicating movement and energy. Skyscrapers tower in the background, emphasizing the urban environment. Plant containers line a paved pedestrian pathway, and traffic lanes with arrows guide vehicles. The motion blur captures the dynamic and fast-paced nature of the city, with people and cars constantly on the move. The overall atmosphere is lively, crowded, and quintessentially metropolitan.', 'end': 44.92, 'start': 43.68}, {'description': 'A man sits alone on a transport chair in the middle of a bustling city street surrounded by tall buildings with numerous large, colorful advertisements. Notable signs promote brands such as Disney and Maxell. The cityscape is bright, with daylight highlighting the scene. Traffic and pedestrians blur around the solitary figure, suggesting motion and a fast-paced urban environment. The road markings, including arrows and directional signs, indicate this is a busy area, likely a central business district or a popular tourist location. Plant-lined barriers separate the lanes, adding a touch of greenery to the busy concrete jungle.', 'end': 46.24, 'start': 44.92}, {'description': \"In a bustling urban scene, a person sits alone on a small island in the middle of a busy street, facing a sea of blurred yellow taxis, buses, and cars. Tall buildings loom on both sides, adorned with colorful, glowing advertisements and billboards promoting various brands, including Disney and Maxell. Pedestrians on the sidewalks navigate the lively environment. The atmosphere is dynamic and chaotic, capturing the essence of city life. Bright lights and fast-moving traffic create a sense of constant motion and energy, contrasting with the solitary figure's stillness in the midst of urban hustle and bustle.\", 'end': 47.08, 'start': 46.24}, {'description': \"The image depicts a person sitting alone on a stool in the middle of a broad, heavily trafficked city street, likely Times Square in New York City. The surroundings are bustling with colorful, illuminated advertisements, billboards, and signage from various well-known brands and entertainment companies. Skyscrapers tower on either side, and the scene seems to capture the dynamic nature of the city with blurred motion images of pedestrians and vehicles indicating movement. Despite the usual hustle and bustle, the central figure appears contemplative and isolated. This juxtaposition highlights a moment of calm amidst the city's perpetual motion and noise.\", 'end': 48.64, 'start': 47.08}, {'description': 'In this bustling cityscape scene, the iconic streets are adorned with vibrant billboards and advertisements, creating a lively atmosphere. Yellow taxis are prominent, with two visible on the left side, adding to the urban setting’s hustle. A lone figure sits on a small stool in the center of the road, possibly performing or simply observing the surroundings. Tall buildings tower in the background, showcasing the architectural grandeur of the city. The sidewalks are filled with people, contributing to the lively and dynamic nature of the place. Overall, the image captures the essence of a busy metropolitan hub.', 'end': 49.96, 'start': 48.64}, {'description': 'In this vibrant scene, a crowd of people is gathered in an indoor event space, illuminated by blue and purple lights, creating a lively and festive atmosphere. The attendees are predominantly young, dressed casually, and are engaged in various activities: some are dancing, others are chatting or capturing moments with their smartphones. The venue is spacious, with high ceilings and dark walls that contrast with the colorful lighting. Music equipment and large screens are visible, indicating a live performance or DJ set. The mood is energetic, with everyone enjoying the dynamic, music-filled environment.', 'end': 50.92, 'start': 49.96}, {'description': \"In the image, there is an extreme close-up of a human eye. The eye displays rich, dark brown hues with a prominent glossy reflection in the pupil. The light source reflects almost like a small, bright white dot. The surrounding skin appears slightly textured with fine lines, indicative of natural skin texture. The upper eyelid is partially visible, casting a mild shadow, while the lower eyelid shows subtle detailing. The ambiance appears intimate and intense, capturing the essence of an observant and contemplative gaze. The entire scene highlights the eye's intricate details and complex emotions conveyed through the gaze.\", 'end': 55.52, 'start': 50.92}, {'description': 'An extreme close-up captures a compelling image of a human eye. The iris, a rich brown color, hints at a sense of curiosity and intensity. Light reflects off the glossy surface of the eye, creating a small, bright highlight that contrasts against the darker pupil. The surrounding skin, with its fine lines and slight sheen, indicates a moment of interest or contemplation. Tiny, intricate details of eyelashes frame the eye, adding to the intimate and intense nature of the shot. The scene encapsulates the depth and emotion conveyed through a single, powerful gaze.', 'end': 56.76, 'start': 55.52}, {'description': 'A crowd of people is participating in a colorful event. Many are dressed in vibrant clothes and accessories, like whimsical hats and costumes, giving a festival vibe. The scene is lively, with individuals walking, mingling, and enjoying the festivities. Some are holding umbrellas, hinting at either minimizing heat or unexpected weather. Background elements include a large, knight-themed carnival float which is prominently displayed, along with decorative banners and flags. The overall mood exudes joy and celebration, reflecting the communal spirit and diversity of the gathering, making it a lively, engaging spectacle filled with a sense of camaraderie and excitement.', 'end': 57.52, 'start': 56.76}, {'description': \"A thick blanket of mist and snow envelops a rugged mountainside, rendering the distant landscape nearly invisible. Tall, dark evergreens stand out against the grayish-white background, their outlines softened by the heavy snowfall. As the snowflakes cascade gently but persistently, the scene exudes a serene and tranquil yet eerie atmosphere. The indistinct, fading shapes of other tree-covered peaks emerge and disappear within the fog, creating a sense of depth and mystery. The overall mood is one of cold quietude, where nature's beauty is shrouded in a wintry veil, accentuating the isolation and calm of this secluded, snowy haven.\", 'end': 62.72, 'start': 57.52}, {'description': \"A breathtaking panorama showcases towering snow-covered mountain peaks against a strikingly clear blue sky. Expansive sheets of clouds blanket the lower regions, obscuring the valleys below, merging seamlessly with the snowy slopes. The mountains stand majestically, their rugged profiles etched against the horizon, creating a sense of immense scale and grandeur. The serene environment exudes tranquility and the untouched purity of nature. The overall impression is one of sublime beauty and solitude, capturing the awe-inspiring essence of high-altitude landscapes. The breathtaking view invites contemplation and embodies the majestic grandeur of the world's great mountain ranges.\", 'end': 68.92, 'start': 62.72}, {'description': 'A stunning panorama of towering, snow-covered mountains stretches across the horizon under a partly cloudy sky. Wisps of clouds meander through the rugged terrain, enhancing the majestic peaks that dominate the background. Below, a serene, partially frozen lake mirrors the surrounding beauty, contrasting with dark rocky slopes. Patches of snow and ice accentuate the pristine wilderness, while various peaks and ridges display the dramatic and varied topography. The scene exudes tranquility, embodying the untouched splendor of a remote mountainous landscape. Soft blue hues in the sky and the intricate textures of the earth create a captivating and ethereal atmosphere.', 'end': 74.36, 'start': 68.92}, {'description': 'A serene scene is captured in a picturesque park. At the forefront, two people enjoy a leisurely swing on a charming bench swing, surrounded by meticulously maintained green lawns. Flanking the path are tall, leafy trees, casting dappled shadows that create a tranquil ambiance. The clear blue sky overhead adds to the calmness. In the background, stately lamp posts line the winding path that leads deeper into the park. This peaceful environment invites relaxation and escape from daily hustle, offering a perfect spot for conversation, reading, or simply soaking in nature’s beauty on a sunny day.', 'end': 75.36, 'start': 74.36}, {'description': \"The scene captures a magnificent, serene view of fluffy white clouds bathed in the golden light of the setting sun. The sun, shining brightly, casts a radiant glow across the sky, creating a breathtaking contrast between the warm hues of the sunlight and the cool, soft clouds. The cloudscape stretches endlessly, evoking a sense of tranquility and wonder. Above a shrouded landscape, the sun's rays create a brilliant lens flare, adding to the ethereal beauty of the moment. The sky appears boundless and infinite, encapsulating the serene, timeless essence of nature's splendor from a high-altitude perspective.\", 'end': 97.28, 'start': 75.36}, {'description': \"In this vivid, exhilarating scene, we experience the view from inside a breaking ocean wave. There's a tunnel-like vision, with the water curving overhead, forming a perfect barrel. The sunlight filters through the translucent wave, casting a magical glow and highlighting the vibrant hues of blue and green. Beyond the wave, we catch a glimpse of distant coastline, shrouded in warmth from the setting sun. The moment captures the raw power and serene beauty of the ocean, evoking a sense of adventure, freedom, and the timeless allure of surfing right at the heart of nature’s dynamic playground.\", 'end': 101.0, 'start': 97.28}, {'description': \"In this captivating scene, a kayaker maneuvers through a narrow, dark canyon with towering rock walls. Dressed in a yellow waterproof jacket and helmet, the kayaker's red kayak contrasts sharply against the deep blue water. A paddle blade visible on the left helps to navigate the turbulent stream. Beams of sunlight pierce through the chasm, creating a mystical ambiance. The kayaker raises a hand upwards, perhaps in awe or to shield against the light. The moment captures the thrill and raw beauty of nature, emphasizing the adventurer’s spirit and connection with the environment in this serene yet dramatic setting.\", 'end': 101.6, 'start': 101.0}, {'description': \"A solitary climber, dressed in red and blue winter gear, ascends a steep, snowy mountain slope. They navigate the rugged terrain with precision, a pack slung over their back and equipment in hand. Jagged rocks protrude through the thick blanket of snow, adding to the treacherous nature of the climb. In the background, a stunning panorama of snow-covered peaks stretches into the horizon, enveloped by a misty layer of clouds. The sky is a serene blue, contrasting with the icy landscape below, emphasizing the climber's isolation and determination in this high-altitude adventure. The scene exudes raw natural beauty and human perseverance.\", 'end': 103.44, 'start': 101.6}, {'description': 'In this serene scene, we see three friends sitting at a table outdoors. One friend has long, dark hair and a colorful shirt, while another sports curly hair and a casual outfit. They are all engaged in a lively conversation. Two of them raise their drinks, clinking glasses in a toast. The third friend, with short hair, smiles broadly, displaying joy. The background reveals green foliage, giving the setting a cozy, natural ambiance. Sunlight filters through the leaves, casting a warm, pleasant glow. There is a sense of relaxation and camaraderie, highlighting a moment of shared happiness and friendship.', 'end': 104.12, 'start': 103.44}, {'description': 'A man performs an impressive stunt high in the sky, affixed upside-down to a horizontal board with a breathtaking expansive vista beneath him. The landscape is rugged and desolate, with varied terrain stretching into the distance under a clear blue sky, dotted with streaks of clouds at a higher altitude. The man wears a black vest and white pants, maintaining a controlled posture despite the inverted position. He appears to be engaged in a daring skydiving maneuver, showcasing skills indicative of extreme sports enthusiasts seeking adrenaline rush and adventure amidst breathtaking, open-air panoramas.', 'end': 104.72, 'start': 104.12}, {'description': \"A pilot is aboard a military aircraft, flying high above the landscape. Wearing a bright orange helmet with reflective aviator sunglasses, the pilot looks calmly to the side while gripping a microphone attached to their helmet. The reflection in the sunglasses shows the clear blue sky and the aircraft's wing. Contrails from other planes streak across the sky, indicating formation flying. The scenery below is slightly visible, showing land and water. The lighting suggests a clear, sunny day, enhancing the visibility and clarity of both the pilot and the aircraft. The scene conveys a sense of adventure and precision.\", 'end': 105.8, 'start': 104.72}, {'description': \"A motorcycle is travelling down a tree-lined road at sunset. The image, likely from the rider's perspective, shows an empty road winding into the horizon, flanked by dense forests on both sides. Sunlight breaks through the trees, casting long shadows across the asphalt. The golden light accentuates the vibrant colors of the foliage, creating a warm, almost magical atmosphere. The road is smoothly paved, with clean yellow lines in the center. The scene embodies a sense of freedom, adventure, and serenity, capturing the thrill of an open-road journey amidst nature’s picturesque beauty.\", 'end': 106.44, 'start': 105.8}, {'description': \"The scene captures the perspective of riding a motorcycle down a two-lane road, flanked by towering trees and bathed in warm, golden light from the setting sun. The straight road ahead is illuminated intensely, creating an almost mystical effect where the sun's rays pierce through the foliage. The asphalt is smooth, bordered by dry grass and shadows cast by the trees. Mirrors on the motorcycle handlebar reflect snapshots of the surrounding forest. The sense of motion and speed is palpable, evoking a feeling of freedom and adventure, with the sunlit path symbolizing the journey ahead.\", 'end': 107.04, 'start': 106.44}, {'description': 'A motorcyclist rides down a serene, tree-lined road. The sun is setting ahead, casting a warm golden glow over the scene and painting the sky in hues of orange and pink. The view from behind the handlebars captures the open road, flanked by tall trees whose leaves shimmer in the sunlight. The road is empty and smooth, offering a sense of tranquility and freedom. The surrounding landscape appears rustic and natural, with patches of dry grass and shadows from the trees. The atmosphere evokes an adventurous spirit and the beauty of an evening ride through nature.', 'end': 107.64, 'start': 107.04}, {'description': \"In a vast, inky black sky, the full moon dominates, radiating a soft, ethereal glow. Its luminescent, silvery surface is marked with grayish, shadowy craters and dark maria, showcasing a beautiful celestial mosaic. The crisp, clear details of the lunar features are stark against the stark black backdrop, giving the scene a sense of quiet solitude and serene stillness. The moon's gentle, tranquil light envelops the surrounding darkness, offering a tranquil view of Earth's natural satellite. This scene evokes a sense of awe and wonder, a moment of peaceful reflection under the silent, watchful gaze of the glowing moon.\", 'end': 114.44, 'start': 107.64}, {'description': 'The image depicts a serene, night-time forest scene with tall, leafless trees stretching upwards towards a mesmerizing, star-filled sky. The trees, dark silhouettes against the azure backdrop, frame the stunning celestial display. Countless stars and perhaps a hint of the Milky Way illuminate the night, evoking a sense of infinite wonder and tranquility. The absence of leaves accentuates the stark contrast between the branches and the bright, twinkling stars. The scene is both tranquil and evocative, highlighting the ethereal beauty of nature and the cosmos, creating a profound sense of peace and connection with the universe above.', 'end': 119.12, 'start': 114.44}, {'description': 'The image depicts a dense, foggy scene where heavy mist engulfs the landscape. Through the thick, gray fog, faint outlines of tree canopies are barely visible, hinting at a forested area. The fog creates a mysterious and eerie atmosphere, obscuring details and adding an element of suspense. The diffused light struggles to penetrate the haze, rendering the scene dim and shadowy. The verdant trees appear dark and indistinct in the background, enhancing the sense of depth and enigma. The overall ambiance is tranquil yet foreboding, invoking a feeling of isolation and silence within the shrouded wilderness.', 'end': 122.4, 'start': 119.12}, {'description': \"A misty landscape stretches out, with rolling fog carpeting the undulating hills. The dense fog obscures much of the view, leaving only the tips of forested hills visible, emerging like islands in a sea of clouds. The atmosphere is serene and mystical, the soft white haze blending seamlessly with the gentle slopes. In the distance, a range of silhouetted mountains rise above the fog, their contours faintly discernible against the overcast sky. The muted colors contribute to the tranquil scene, evoking a sense of calm and quiet contemplation amidst nature's ethereal beauty.\", 'end': 129.4, 'start': 122.4}, {'description': 'A dense forest enveloped by mist stretches across the scene. Tall trees, their tops barely emerging from the fog, create an ethereal, almost mystical atmosphere. The green canopy blends seamlessly with the thick white fog, rendering the forest’s depths mysterious and unseen. In the background, hilly terrain, also shrouded in mist, recedes into the horizon. The sky above is pale blue, suggesting early morning or late afternoon light. The overall effect is tranquil and otherworldly, invoking a sense of calm and introspection. Nature is untouched and serene, hinting at the secrets hidden within the veiled woods.', 'end': 135.68, 'start': 129.4}, {'description': 'A solitary figure stands on a mountainside against a dramatically clouded, luminous sky. The person is silhouetted, gazing towards rows of mountains unfolding into the distance. The scene is bathed in twilight hues, with the higher peaks catching the last golden rays of the setting sun. The person wears a backpack and a hat, suggesting they are a hiker or an adventurer. The image exudes a sense of peace, introspection, and connection with nature. The vast, open landscape and the small, lone figure create a powerful contrast, emphasizing human vulnerability amid the grandeur of the natural world.', 'end': 138.08, 'start': 135.68}, {'description': \"A breathtaking mountainous landscape unfolds, featuring towering, rugged cliffs and slopes speckled with patches of greenery. A river winds through the deep valley, its waters sparkling under the sunlight. Sharp rock formations dominate the scene, their sheer faces hinting at geological wonders. The distant mountains are partially veiled in mist, adding a mystical quality to the vista. Snowy peaks peek out in the background, contrasting against the dark rock textures of the foreground. The environment appears untouched, showcasing nature's raw beauty and majesty. It's a serene and captivating view, evoking a sense of awe and tranquility in the heart of wilderness.\", 'end': 139.52, 'start': 138.08}, {'description': 'The scene depicts a spectacular mountainous landscape with a majestic waterfall cascading down steep, rocky cliffs. The area is characterized by towering granite peaks and rugged terrain, partially covered with patches of green vegetation and remnants of snow, suggesting a high-altitude location. The waterfall originates from a melting snowcap, its water forcefully carving a path through the valley below. The powerful flow of water glistens under the sunlight, creating a dynamic contrast with the surrounding rugged cliffs. The vast expanse of untouched natural beauty evokes a sense of awe and tranquility, highlighting the raw power and serenity of the natural world.', 'end': 140.28, 'start': 139.52}, {'description': 'In this dynamic landscape, a powerful waterfall cascades down a rugged rock face, the water gleaming white as it rushes relentlessly. The surrounding terrain is steep and rocky, with substantial geological formations displaying layers of exposed stone. The area hints at a high-altitude environment with patches of snow still visible, indicating a cooler climate. The sheer force of the water contrasts with the stoic nature of the ancient rocks, creating a dramatic scene of natural beauty. The interplay of water and rock embodies the timeless battle between the elements, a snapshot of the relentless power of nature.', 'end': 144.16, 'start': 140.28}, {'description': 'A stunning aerial view captures a waterfall cascading down between steep, rocky cliffs. As the water plunges, it creates a misty spray that enhances the dramatic atmosphere. Surrounding the waterfall, lush greenery clings to the rugged terrain, contrasting beautifully with the grey and brown tones of the rocks. In the background, a dense forest and rolling hills add depth to the landscape, offering glimpses of vibrant green fields. The scene evokes a sense of natural grandeur and untouched beauty, highlighting the raw power of the waterfall and the serene majesty of the encompassing wilderness.', 'end': 147.24, 'start': 144.16}, {'description': \"In a cozy room, a young person sits at a wooden table engrossed in reading a book. They wear a light blue hoodie and rest their head gently on their hand. The table is cluttered with a laptop, notes, and a potted plant, hinting at a space dedicated to study or work. A floor lamp with a warm yellow light illuminates the area, creating a serene atmosphere. Behind the individual are light-colored curtains partially covering a large window, through which soft daylight streams in, enhancing the room's calm and inviting ambiance. The overall scene exudes focus and tranquility.\", 'end': 151.56, 'start': 147.24}, {'description': 'The image features a lively group of people, each displaying expressions of joy. Their animated faces suggest laughter or enthusiastic conversation. The lighting is dim but warm, creating a cozy atmosphere. Some individuals are reaching out or gesturing energetically, indicating excitement or engagement in the moment. Their clothing is predominantly yellow, hinting at possibly being part of a team or workforce. The background is slightly blurred, focusing attention on their interactions. The setting seems to be indoors, possibly in a casual or communal space. Overall, the scene exudes a sense of camaraderie and shared happiness.', 'end': 152.16, 'start': 151.56}, {'description': 'In a lively outdoor setting, a diverse group of five young friends gathers closely together. They appear joyful, smiling and laughing as they take a selfie with a smartphone. The scene is bathed in natural sunlight, with trees and greenery providing a lush backdrop. Everyone is casually dressed, suggesting a relaxed, leisurely outing. One person in the group holds a drink, adding to the festive, carefree atmosphere. The outdoor furniture and tables hint at a park or café setting, contributing to the convivial mood. The camaraderie and happiness among the friends are palpable in this vibrant, heartwarming moment.', 'end': 153.32, 'start': 152.16}, {'description': \"A young child is surfing, lying on their stomach on a large, bright yellow surfboard. The sun is shining, illuminating their blonde hair and the blue sky filled with scattered clouds. The backdrop shows the vast ocean, with waves crashing gently around the surfer. Water droplets splash around, and the light creates a shimmering effect on the surfboard and surrounding water. The child appears focused and adventurous, experiencing the thrill of riding the waves. The photo captures the exuberance and joy of childhood in an adventurous outdoor setting, highlighting the beauty and dynamics of engaging with nature's elements.\", 'end': 154.08, 'start': 153.32}, {'description': \"A person is captured mid-air, engaging in a thrilling skydiving adventure. Wearing a backpack presumed to be a parachute, they lean slightly forward against a backdrop of brilliant blue sky transitioning into clouds below. The figure is dressed in casual attire, shorts, and a T-shirt, exuding a sense of freedom and exhilaration. The sun casts a gentle light, creating a striking contrast between the deep blue sky and the lighter clouds. The person's arm extends outward, embracing the rush and excitement of the fall, embodying a moment of pure adrenaline and liberation high above the earth.\", 'end': 154.96, 'start': 154.08}, {'description': 'A bustling street market scene unfolds with vibrant colors and diverse goods. Wooden stalls line the streets, offering fresh produce, handmade crafts, and textiles. Customers examine items, engaging in animated conversations with vendors. A variety of fruits and vegetables display a vivid array of reds, yellows, and greens. Under the canopy of umbrellas, people walk by, some carrying bags full of purchases. Background buildings show a mix of architectural styles. The atmosphere buzzes with energy, the aroma of street food wafting through the air. This lively environment reflects the rich culture and community spirit of the market.', 'end': 155.76, 'start': 154.96}, {'description': \"In the image, a young boy grins joyfully, dressed in traditional white attire, including a wrapped headscarf. The background is blurred but seems to showcase grand architecture with arched doorways and domed rooftops, suggestive of an Islamic or Middle Eastern setting. The bright light suggests a sunny day, illuminating the white structures, creating a serene and peaceful ambiance. The reflections on the polished ground add to the overall brightness and purity of the scene. The boy's smile and playful demeanor suggest he is experiencing a moment of happiness and freedom in this beautiful, culturally rich environment.\", 'end': 156.84, 'start': 155.76}, {'description': 'In a rustic village setting, a group of children joyfully run down a dusty path, their faces lit up with happiness. They are wearing casual clothes, some in bright colors. An older girl leads the group, her stride confident. Off to the side, a woman watches with a smile. The scene is vibrant and lively, with modest houses and laundry hanging in the background. An old car is parked on the right side, and various items like buckets and clotheslines indicate daily life activities. The overall atmosphere is one of community spirit and simple, carefree joy.', 'end': 158.32, 'start': 156.84}, {'description': 'A child runs through a narrow, sunlit alleyway tightly bordered by weathered structures. The left side features a light beige wall showing signs of age, while the right side has a rusty red, corrugated metal sheet adjacent to a window with protective bars. The ground below is dirt or concrete, and the overall ambiance is bustling yet confined. The alley is crowded with objects and obstacles, such as a yellow plastic bucket and a wooden barrier, reflecting an environment of makeshift residential setup. The light and shadows interplay vividly, adding dynamic depth to the scene, evoking a sense of urgency.', 'end': 158.92, 'start': 158.32}, {'description': 'In front of a building, a joyful scene unfolds. Two people are seen sharing a warm embrace, smiling broadly. The building has an architectural design with vertical columns and a revolving door. Several other individuals are around, walking in different directions, possibly exiting or entering the building. One person in the background wears a light trench coat and hat, seemingly focused on his stride. The atmosphere appears lively and bustling, with the golden light suggesting either dawn or dusk. The interaction between the hugging pair is the focal point, radiating happiness and camaraderie in an urban setting.', 'end': 159.72, 'start': 158.92}, {'description': 'Four beachgoers are seen in an adventurous setting on a sandy stretch near the edge of the water, likely excited by the enormous waves towering in the background. Three individuals carry surfboards as they move towards the water, appearing ready to take on the large, powerful surf. All are in swimwear, hinting at a warm, sunny day. On the right, another person is hunched over, potentially digging or searching in the sand. The scene captures an energetic spirit and natural beauty, highlighting the compelling contrast between human activity and the immense, dynamic ocean waves.', 'end': 161.64, 'start': 159.72}, {'description': 'In this captivating scene of early morning in a dense forest, towering trees stand shrouded in a mysterious, ethereal mist. The light of the rising sun filters through the thick canopy, casting beams of golden light and creating a serene, almost mystical atmosphere. The mist clings to the trees and the undergrowth, blurring the outlines of branches and foliage, adding a dreamlike quality to the landscape. The stillness of the scene suggests a moment frozen in time, embodying the tranquil beauty and untouched purity of nature’s wonders as night transitions into day.', 'end': 172.12, 'start': 161.64}, {'description': 'A serene beach scene features a light blue sky with scattered, fluffy white clouds. Gentle waves lap against the sandy shore, which has a few beachgoers, some lounging under umbrellas. A blue surfboard is propped up near the waterline, and footprints dot the wet sand. In the distance, a small boat glides across the calm sea. A lifeguard tower stands to the left, overseeing the tranquil setting with a red flag fluttering gently. Palm trees sway lightly in the breeze, adding to the idyllic atmosphere. Seagulls can be seen flying towards the horizon, completing the peaceful coastal tableau.', 'end': 173.76, 'start': 172.12}, {'description': 'A dense fog envelops a forest, obscuring the lower parts of the tall pine trees which stand against a light blue sky. The mist rises and swirls, creating an ethereal, almost dream-like atmosphere. Visibility is limited, giving the scene an air of mystery and solitude. The green tops of the pine trees are faintly visible through the fog, adding a layer of texture to the otherwise monochromatic palette. The sun appears to be rising or setting, casting a soft, diffused light which gently illuminates the mist, enhancing the overall peaceful and serene ambiance of the scene.', 'end': 176.6, 'start': 173.76}, {'description': \"Thick fog envelops a dense forest, creating a mystical and serene atmosphere. Towering evergreen trees pierce through the mist, their dark green needles contrasting with the pale shroud. The fog's blanket appears almost tangible, softening the sharp edges of the forest and lending an air of quiet tranquility. The scene feels remote and untouched, as if time has slowed within this hidden enclave of nature. The lack of visible wildlife or human presence enhances the sense of solitude and peace. Overall, the forest in the fog exudes a calm, mystical beauty, inviting introspection and a deep breath of fresh air.\", 'end': 179.76, 'start': 176.6}, {'description': 'In the image, a peaceful landscape unfolds under a vast, soft-toned sky with gentle cloud patterns. A wide expanse of vivid green fields stretches across the foreground, meeting the calm, reflective waters of a serene lake at mid-ground. Beyond the lake, a series of low-lying hills or mountains form a distant horizon, adding depth to the scene. The lighting suggests early morning or late afternoon, casting a warm, subtle glow over the entire view. The tranquil setting evokes a sense of calmness and natural beauty, highlighting the harmonious contrast between land, water, and sky.', 'end': 186.4, 'start': 179.76}, {'description': 'The scene depicts a serene view of a lake surrounded by abundant greenery. The calm water reflects the lush trees and cloudy sky, creating a mirror-like effect. A solitary wooden boat is stationed at the shore, emphasizing the tranquil nature of the place. The boat is weathered, suggesting frequent usage. There is a wooden pier extending into the lake, perfect for observing the surroundings or fishing. The ambiance is peaceful, ideal for relaxation or meditation, with the rustic boat and dock adding charm to the natural setting. Birds can be glimpsed vaguely in the distance above the treetops.', 'end': 187.08, 'start': 186.4}, {'description': \"The image vividly depicts a close-up of an eye, almost entirely filling the frame. The surrounding area is shrouded in darkness, emphasizing the eye's intricate details. The iris has various shades, creating a captivating mosaic around the dark pupil. The sclera appears lighter, contrasting with the dark ambiance. The reflection hints at a light source, adding depth. The overall mood is intense and mysterious, emanating a sense of intrigue. The visual focus on the eye, amidst the encompassing darkness, suggests an eerie or suspenseful theme, capturing the viewer's attention with its enigmatic allure.\", 'end': 187.8, 'start': 187.08}, {'description': 'The image resembles a close-up view of a human eye, specifically focusing on the iris and pupil. The pupil, appearing as a dark circular area, is surrounded by the multicolored iris, which displays a spectrum of colors including brown, green, blue, and red. Light appears to be reflecting off the surface, creating subtle glare and enhancing the vividness of the colors. The overall effect is an intriguing blend of natural textures and dynamic hues, with fine detailed patterns visible in the iris. Blurred edges contribute to a sense of depth and focus, emphasizing the central pupil.', 'end': 190.08, 'start': 187.8}, {'description': 'The image displays a black screen with white text indicating editing credits. \"Edited by TRAGEDYANDHOPE\" is prominently featured in bold, capital letters. Beneath this, there are two lines in smaller text: \"Facebook/TragedyandHopeProductions\" and \"TragedyandHopeProductions.org.\" The overall presentation is minimalistic, focusing on the essential editorial information while directing viewers to social media and a website associated with Tragedy and Hope Productions. The design is straightforward, ensuring that the information is clear and easily readable against the dark background, emphasizing the contributions of the editing team.', 'end': 218.44, 'start': 190.08}]\n"
          ]
        }
      ],
      "source": [
        "# index visual information in video frames, You can change the prompt according to your usecase.\n",
        "# You can index a video multiple times with different prompts.\n",
        "index_id = video.index_scenes(\n",
        "    prompt=\"Describe the scene in strictly 100 words\"\n",
        ")\n",
        "# Wait to Indexing to finish\n",
        "scene_index = video.get_scene_index(index_id)\n",
        "scene_index"
      ]
    },
    {
      "cell_type": "markdown",
      "metadata": {
        "id": "tA-LOEjA7BvX"
      },
      "source": [
        "<div style=\"height:15px;\"></div>\n",
        "\n",
        "### Search inside a video:  \n",
        "  \n",
        "Search can peformed on indexed video using `video.search()` While searching you have options to choose the type of search and index. VideoDB offers following types of search :\n",
        "\n",
        "`SearchType.semantic`  Perfect for question answer kind of queries. This is also the default type of search.\n",
        "\n",
        "`SearchType.keyword`  It matches the exact occurrence of word or sentence you pass in the query parameter of the search function. keyword search is only available to use with single videos.\n",
        "\n",
        "`IndexType.scene` It search the visual information of the video, Index the video using  index_scenes  function.\n",
        "\n",
        "`IndexType.spoken_word` It search the spoken information of the video,  Index the video using  index_spoken_words  function."
      ]
    },
    {
      "cell_type": "code",
      "execution_count": null,
      "metadata": {
        "id": "AM5HZgyu7BvX",
        "outputId": "dbd9212f-595d-49c0-a596-d596b3b4150a"
      },
      "outputs": [
        {
          "data": {
            "text/plain": [
              "'https://console.videodb.io/player?url=https://stream.videodb.io/v3/published/manifests/de284dc9-1aa9-440b-b407-b8fc5aa07273.m3u8'"
            ]
          },
          "execution_count": 13,
          "metadata": {},
          "output_type": "execute_result"
        }
      ],
      "source": [
        "from videodb import SearchType, IndexType\n",
        "\n",
        "result = video.search(query=\"what's the dream?\", search_type=SearchType.semantic, index_type=IndexType.spoken_word)\n",
        "result.play()"
      ]
    },
    {
      "cell_type": "code",
      "execution_count": null,
      "metadata": {
        "id": "_P4r9BOo7BvX",
        "outputId": "fb99eec3-a257-419e-b73a-d4a4866b92b2"
      },
      "outputs": [
        {
          "data": {
            "text/plain": [
              "'https://console.videodb.io/player?url=https://stream.videodb.io/v3/published/manifests/72baa6ff-2758-49bb-b8d6-237f44e4b6c1.m3u8'"
            ]
          },
          "execution_count": 16,
          "metadata": {},
          "output_type": "execute_result"
        }
      ],
      "source": [
        "# Try with different queries\n",
        "\n",
        "# \"city scene with buses\"\n",
        "query = \"mountains\"\n",
        "\n",
        "result = video.search(query=query, search_type=SearchType.semantic, index_type=IndexType.scene)\n",
        "result.play()"
      ]
    },
    {
      "cell_type": "markdown",
      "metadata": {
        "id": "1ccDyBYm7BvY"
      },
      "source": [
        "##### 📺 View Search Results :\n",
        "\n",
        "`video.search()` will return a SearchResults object, which contains the sections/shots of videos which semantically match your search query\n",
        "\n",
        "* `result.get_shots()` - Returns a list of Shot that matched search query\n",
        "* `result.play()`  - This will open the video in your default browser/notebook"
      ]
    },
    {
      "cell_type": "markdown",
      "metadata": {
        "id": "kP5OJ2WE7BvY"
      },
      "source": [
        "##### 🗑️ Cleanup\n",
        "You can delete the video from database using `video.delete()`"
      ]
    },
    {
      "cell_type": "code",
      "execution_count": null,
      "metadata": {
        "id": "ymKaIdZX7BvY"
      },
      "outputs": [],
      "source": [
        "video.delete()"
      ]
    },
    {
      "cell_type": "markdown",
      "metadata": {
        "id": "wMpk43VV7BvZ"
      },
      "source": [
        "<div style=\"height:40px;\"></div>\n",
        "\n",
        "## RAG: Working with Multiple Videos\n",
        "---\n",
        "`VideoDB` can store and search inside multiple videos with ease.  By default, videos are uploaded to your default collection and you have freedom to create and manage more collections, checkout our [Collections docs](https://docs.videodb.io/collections-68) for more details.\n",
        "\n",
        "If you are an existing llamaIndex user, trying to build RAG pipeline on your video data. You can use VideoDB retriever.\n",
        "Checkout [llama-Index docs](https://docs.llamaindex.ai/en/stable/examples/retrievers/videodb_retriever.html)"
      ]
    },
    {
      "cell_type": "markdown",
      "metadata": {
        "id": "NDTF6lwi7BvZ"
      },
      "source": [
        "<div style=\"height:15px;\"></div>\n",
        "\n",
        "##### 🔄 Using Collection to upload multiple Videos"
      ]
    },
    {
      "cell_type": "code",
      "execution_count": null,
      "metadata": {
        "id": "Z5sJGVbG7BvZ",
        "outputId": "a365227a-1ee0-4a34-c9e7-cb65d2e756f9"
      },
      "outputs": [
        {
          "data": {
            "text/plain": [
              "Video(id=m-6d1b1bf6-a2ba-4786-a3a8-8efbabfee28c, collection_id=c-a2dc1100-1faa-4394-803c-ca808da09c47, stream_url=https://d27qzqw9ehjjni.cloudfront.net/v3/published/manifests/4e41464d-0ca6-40da-86f7-3e803ff8d840.m3u8, player_url=https://console.videodb.io/player?url=https://d27qzqw9ehjjni.cloudfront.net/v3/published/manifests/4e41464d-0ca6-40da-86f7-3e803ff8d840.m3u8, name=AMA #3: Adaptogens, Fasting & Fertility, Bluetooth/EMF Risks, Cognitive Load Limits & More, description=None, thumbnail_url=None, length=1921.2193)"
            ]
          },
          "execution_count": 61,
          "metadata": {},
          "output_type": "execute_result"
        }
      ],
      "source": [
        "# Get a collection\n",
        "coll = conn.get_collection()\n",
        "\n",
        "# Upload Videos to a collection\n",
        "coll.upload(url=\"https://www.youtube.com/watch?v=lsODSDmY4CY\")\n",
        "coll.upload(url=\"https://www.youtube.com/watch?v=vZ4kOr38JhY\")\n",
        "coll.upload(url=\"https://www.youtube.com/watch?v=uak_dXHh6s4\")"
      ]
    },
    {
      "cell_type": "markdown",
      "metadata": {
        "id": "eFiUygmR7BvZ"
      },
      "source": [
        "* `conn.get_collection()` : Returns Collection object, the default collection\n",
        "* `coll.get_videos()` : Returns list of Video, all videos in collections\n",
        "* `coll.get_video(video_id)` : Returns Video, respective video object from given video_id\n",
        "* `coll.delete_video(video_id)` : Deletes the video from Collection"
      ]
    },
    {
      "cell_type": "markdown",
      "metadata": {
        "id": "azWpSXLU7Bva"
      },
      "source": [
        "<div style=\"height:15px;\"></div>\n",
        "\n",
        "### 📂 Search on Multiple Videos from a collection\n",
        "\n",
        "You can simply Index all the videos in a collection and use search method on collection to find relevant results.   \n",
        "Here we are indexing spoken content of a collection for quick experiment.\n",
        "\n",
        "<div style=\"background-color: #ffffcc; color: black; padding: 10px; border-radius: 5px;\">\n",
        "    <strong>Note:</strong> Index may take time for longer videos</div>"
      ]
    },
    {
      "cell_type": "code",
      "execution_count": null,
      "metadata": {
        "id": "Rt_nNCd57Bva",
        "outputId": "4ac852f2-fb04-4dbd-c990-8fd7e22612ed"
      },
      "outputs": [
        {
          "name": "stdout",
          "output_type": "stream",
          "text": [
            "Indexed AMA #3: Adaptogens, Fasting & Fertility, Bluetooth/EMF Risks, Cognitive Load Limits & More\n",
            "Indexed AMA #1: Leveraging Ultradian Cycles, How to Protect Your Brain, Seed Oils Examined and More\n",
            "Indexed AMA #2: Improve Sleep, Reduce Sugar Cravings, Optimal Protein Intake, Stretching Frequency & More\n"
          ]
        }
      ],
      "source": [
        "# for simplicity we are just indexing the spoken content of each video.\n",
        "for video in coll.get_videos():\n",
        "    video.index_spoken_words()\n",
        "    print(f\"Indexed {video.name}\")"
      ]
    },
    {
      "cell_type": "markdown",
      "metadata": {
        "id": "MFArYaY67Bva"
      },
      "source": [
        "<div style=\"height:15px;\"></div>\n",
        "\n",
        "### Search Inside Collection:   \n",
        "  \n",
        "Search can be peformed on a collection using `coll.search()`"
      ]
    },
    {
      "cell_type": "code",
      "execution_count": null,
      "metadata": {
        "id": "40x_-1dC7Bva",
        "outputId": "74b4b257-739e-4a78-8eca-136584a994ab"
      },
      "outputs": [
        {
          "data": {
            "text/plain": [
              "'https://console.videodb.io/player?url=https://d27qzqw9ehjjni.cloudfront.net/v3/published/manifests/fdd420dd-b104-43dd-9a0f-d3f0afd5b718.m3u8'"
            ]
          },
          "execution_count": 66,
          "metadata": {},
          "output_type": "execute_result"
        }
      ],
      "source": [
        "# search in the collection of videos\n",
        "results = coll.search(query = \"Deep sleep\")\n",
        "results.play()"
      ]
    },
    {
      "cell_type": "code",
      "execution_count": null,
      "metadata": {
        "id": "yfjJFm-v7Bvb",
        "outputId": "79ead634-6742-493b-fedc-c333bfaa0cef"
      },
      "outputs": [
        {
          "data": {
            "text/plain": [
              "'https://console.videodb.io/player?url=https://d27qzqw9ehjjni.cloudfront.net/v3/published/manifests/60cc252f-abf9-497d-93db-0a53dbffdcf0.m3u8'"
            ]
          },
          "execution_count": 67,
          "metadata": {},
          "output_type": "execute_result"
        }
      ],
      "source": [
        "results = coll.search(query= \"What are the benifits of morning sunlight?\")\n",
        "results.play()"
      ]
    },
    {
      "cell_type": "code",
      "execution_count": null,
      "metadata": {
        "id": "jn3-p7Y97Bvb",
        "outputId": "28607807-0465-430d-9d84-59c19da52423"
      },
      "outputs": [
        {
          "data": {
            "text/plain": [
              "'https://console.videodb.io/player?url=https://d27qzqw9ehjjni.cloudfront.net/v3/published/manifests/9f690de4-758e-4ac8-9316-916a30e01e72.m3u8'"
            ]
          },
          "execution_count": 68,
          "metadata": {},
          "output_type": "execute_result"
        }
      ],
      "source": [
        "results = coll.search(query= \"What are Adaptogens?\")\n",
        "results.play()"
      ]
    },
    {
      "cell_type": "markdown",
      "metadata": {
        "id": "K02ZNHv17Bvc"
      },
      "source": [
        "#### 📺 View Search Results :\n",
        "\n",
        "`video.search()` will return a SearchResults object, which contains the sections/shots of videos which semantically match your search query\n",
        "\n",
        "* `result.get_shots()` - Returns a list of Shot that matched search query\n",
        "* `result.play()`  - This will open the video in your default browser/notebook"
      ]
    },
    {
      "cell_type": "markdown",
      "metadata": {
        "id": "MQJjBekn7Bvc"
      },
      "source": [
        "<div style=\"background-color: #ffffcc; color: black; padding: 10px; border-radius: 5px;\">\n",
        "As you can see VideoDB fundamentally removes the limitation of files and gives you power to access and stream videos in a very seamless way. Stay tuned for exciting features in our upcoming version and keep building awesome stuff with VideoDB 🤘\n",
        "</div>"
      ]
    },
    {
      "cell_type": "markdown",
      "metadata": {
        "id": "fOq1aFrs7Bvc"
      },
      "source": [
        "<div style=\"height:40px;\"></div>\n",
        "\n",
        "### 🌟 Explore more with Video object\n",
        "There are multiple methods available on a Video Object, that can be helpful for your use-case."
      ]
    },
    {
      "cell_type": "markdown",
      "metadata": {
        "id": "6NKzs5LE7Bvd"
      },
      "source": [
        "#### Access Transcript"
      ]
    },
    {
      "cell_type": "code",
      "execution_count": null,
      "metadata": {
        "id": "GKij77RE7Bvd",
        "outputId": "fd1af189-5c35-4b10-a0d8-86041c3f0e21"
      },
      "outputs": [
        {
          "name": "stdout",
          "output_type": "stream",
          "text": [
            "- If you awaken from this illusion and you understand that black implies white, self implies other, life implies death, or shall I say death implies life, you can feel yourself not as a stranger in the world, not as something here on probation, not as something that has arrived here by fluke, but you can begin to feel your own existence as absolutely fundamental. I'm not trying to sell you on this idea in the sense of converting you to it. I want you to play with it. I want you to think of its possibilities. I'm not trying to prove it. I'm just putting it forward as a possibility of life to think about. So then - let's suppose that you were able every night to dream any dream you wanted to dream and that you could, for example, have the power within one night to dream 75 years of time or any length of time you wanted to have. And you would naturally, as you began on this adventure of dreams, you would fulfill all your wishes. You would have every kind of pleasure conceived. And after several nights of 75 years of total pleasure each, you would say, well, that was pretty great, but now let's. Let's have a surprise. Let's have a dream which isn't under control. Well, something is going to happen to me that I don't know what it's going to be. And you would dig that and come out of that and say, wow, that was a close shave, wasn't it? Then you would get more and more adventurous and you would make further and further out gambles as to what you would dream. And finally you would dream where you are now. You would dream the dream of living the life that you are actually living - today. That would be within the infinite multiplicity of choices you would have of playing that you weren't goddesse. Because the whole nature of the godhead, according to this idea, is to play that hes not. So in this idea, then, everybody is fundamentally the ultimate reality. Not God in a politically kingly sense, but God in the sense of being the self, the deep down basic whatever there is. And you're all that, only you're pretending you're - nothing. -\n"
          ]
        }
      ],
      "source": [
        "# words with timestamps\n",
        "text_json = video.get_transcript()\n",
        "text = video.get_transcript_text()\n",
        "print(text)"
      ]
    },
    {
      "cell_type": "markdown",
      "metadata": {
        "id": "0vXPbkV97Bvd"
      },
      "source": [
        "#### Access Visual Scene Descriptions"
      ]
    },
    {
      "cell_type": "code",
      "execution_count": null,
      "metadata": {
        "id": "VgX33T1S7Bvh",
        "outputId": "7b085314-ed88-4a24-ec39-3e9a1173bfa0"
      },
      "outputs": [
        {
          "data": {
            "text/plain": [
              "[{'description': 'Snow-covered mountain peaks dominate the scene, shrouded in a blanket of ice and snow. The sharp ridges and steep slopes are breathtaking, with one prominent peak in the foreground. The sun shines brightly, casting shadows that accentuate the rugged terrain. In the distance, a series of jagged summits stretch across the horizon, partially obscured by wisps of clouds. The deep blue sky contrasts starkly with the white snow, creating a dramatic and serene landscape. The vastness and majesty of the mountains evoke a sense of awe, showcasing the raw beauty of the natural world.',\n",
              "  'end': 5.8,\n",
              "  'start': 0.0},\n",
              " {'description': 'A vibrant, bustling festival scene filled with bright decorations and lively atmosphere. A diverse crowd of people in colorful outfits enjoys the festivities, some dancing, others taking photos or buying food from various stalls. Flags and streamers adorn the area, and a stage features a lively performance. Children run around playfully, adding to the joyous ambiance. The sky is clear with the sun shining brightly. The scene is spirited and packed with cultural elements, showcasing a blend of tradition and modernity, capturing the essence of a community coming together in celebration, laughter, and shared happiness.',\n",
              "  'end': 10.24,\n",
              "  'start': 5.8},\n",
              " {'description': 'A rocky terrain stretches out towards a calm lake, reflecting the light of the sun, which is set low in the sky, creating a serene atmosphere. The lake is surrounded by tall, rugged mountains partially covered with patches of snow. Dense pine trees border the right side of the scene, casting long shadows across the rocky ground. Near the left edge, fallen trees and branches are scattered, adding to the natural, untouched feel of the landscape. The entire scene evokes a sense of tranquility and isolation, with the wilderness appearing pristine and undisturbed by human presence.',\n",
              "  'end': 17.2,\n",
              "  'start': 10.24},\n",
              " {'description': \"A small white dog, wearing an orange harness, sits calmly in a plush, brown chair. Behind the dog is a dark wooden wall, adding a cozy and rustic atmosphere to the scene. The dog's ears are perked up, and its eyes are focused on something off-camera, giving it an alert and attentive expression. The chair is padded and looks comfortable, with soft cushioning that seems inviting. The scene is well-lit, enhancing the warmth and comfort of the setting. The overall mood is one of relaxation and domestic tranquility, centered around the dog enjoying its comfortable perch.\",\n",
              "  'end': 17.92,\n",
              "  'start': 17.2},\n",
              " {'description': \"A sweeping view of a snowy landscape captures the rugged peaks of mountains covered in a fresh blanket of snow. The scene is enveloped in a soft, overcast light under a heavy grey sky, creating a dramatic contrast. Thick, dark clouds gather ominously above, hinting at impending weather changes. Distant mountain ranges loom in the background, partially obscured by mist and shadows, adding to the serene and isolated atmosphere. The untouched, pristine slopes glisten subtly, reflecting the diffused light, while an air of quiet majesty and solitude permeates the scene, highlighting nature's raw beauty and power.\",\n",
              "  'end': 20.32,\n",
              "  'start': 17.92},\n",
              " {'description': \"Two young women are closely positioned, with one resting her head gently on the other's shoulder. Both have serene, neutral expressions on their faces, gazing slightly off-camera. They wear casual, dark-colored tops and have natural makeup. The background is blurry with soft, muted tones, suggesting an outdoor setting, perhaps near a body of water or an open sky. The overall mood of the scene appears calm and intimate, capturing a quiet, shared moment between the two. The soft lighting adds to the mellow atmosphere, highlighting the companionship and bond between them.\",\n",
              "  'end': 21.2,\n",
              "  'start': 20.32},\n",
              " {'description': 'Two boys with brown hair stand on a sandy beach, arms around each other, smiling at the camera. Both are shirtless, wearing swim trunks— one in blue and the other in white. The background features waves crashing against the shore, with some people swimming in the distant ocean. The scene is bright and sunny, indicating a warm, pleasant day. The boys appear to be enjoying their time at the beach, symbolizing friendship and carefree summer fun. The sky is mostly clear with some scattered clouds, adding to the overall cheerful and relaxed atmosphere of the moment.',\n",
              "  'end': 21.96,\n",
              "  'start': 21.2},\n",
              " {'description': 'A cozy café scene features modern wooden tables and chairs. Large windows let in an abundance of natural light, illuminating patrons enjoying their time. One person reads a newspaper quietly, while another stirs a cup of coffee thoughtfully. Plants in stylish pots add life and color to the space. Behind the counter, a barista steams milk for a cappuccino, adding a layer of froth. Chalkboard menus display an array of beverages and snacks. The sound of chatter and laughter creates a lively yet relaxed atmosphere, punctuated by the occasional clinking of cups and saucers. The scene is warm and inviting.',\n",
              "  'end': 23.28,\n",
              "  'start': 21.96},\n",
              " {'description': 'Beneath the clear blue ocean surface, an underwater scene teems with life. The seabed is covered in vibrant brown and green seaweeds swaying gently with the current. Sunlight filters through the water, creating dappled light patterns. Among the seaweed, patches of colorful coral, predominantly reddish, peek out, adding a burst of brightness to the scene. Marine creatures dart about, their movements quick and graceful. The ambiance is serene, showcasing the beauty and richness of a thriving underwater ecosystem, unmarred by human presence. The gentle sway of the seaweed and play of light make it mesmerizing to watch.',\n",
              "  'end': 24.52,\n",
              "  'start': 23.28},\n",
              " {'description': 'A dense underwater scene showcases a flourishing kelp forest swaying gently with the ocean currents. The water is a vibrant blue, illuminated by sunlight filtering from above. Schools of fish dart playfully between the long, flowing kelp leaves, while larger fish occasionally swim through the scene. The intricate textures and colors of the kelp create a mesmerizing, almost mystical atmosphere. Shadows and light play across the undulating sea plants, highlighting the richness of marine life in this underwater ecosystem. The image captures the peaceful and dynamic beauty of life beneath the ocean’s surface.',\n",
              "  'end': 27.24,\n",
              "  'start': 24.52},\n",
              " {'description': 'A coastal scene at sunset bathed in a golden hue features a sprawling beach where families and pets enjoy the tranquil evening. Calm waves lap against the shore, creating a soothing ambiance. In the background, a vibrant sky painted with shades of orange, pink, and purple frames the silhouette of a distant lighthouse standing resolute on a rocky outcrop. Driftwood and small pebbles pepper the shoreline, while seagulls glide gracefully above, occasionally diving for fish. The serene atmosphere invites a sense of peace and reflection, capturing the simple beauty of nature transitioning from day to night.',\n",
              "  'end': 27.88,\n",
              "  'start': 27.24},\n",
              " {'description': \"A rugged mountainous landscape stretches into the distance, with steep, rocky peaks covered in scattered green patches. The sky above is filled with dramatic, billowing clouds, casting shadows over the valleys below. Sunlight breaks through sporadically, illuminating sections of the terrain and adding depth to the scenery. The peaks are steep and jagged, giving a sense of untamed wilderness. Dense forests of pine trees cling to the slopes, blending the boundary between rock and greenery. The distant mountains fade into a misty blue, suggesting their great height. It is a serene yet powerful depiction of nature's grandeur.\",\n",
              "  'end': 30.28,\n",
              "  'start': 27.88},\n",
              " {'description': 'A lively scene captures the essence of Christmas with vibrant decorations adorning a cozy living room. A towering, beautifully adorned Christmas tree stands by the corner, its lights twinkling softly. Stockings hang above a fireplace with a gentle flame, and the mantel is lined with holiday-themed ornaments. The soft glow of string lights enhances the festive atmosphere. An inviting couch is nestled near the tree, with neatly wrapped presents underneath. On a nearby table, a plate of cookies and a glass of milk await Santa. The room emanates warmth, joy, and the spirit of the holiday season.',\n",
              "  'end': 31.32,\n",
              "  'start': 30.28},\n",
              " {'description': 'A picturesque coastal scene unfolds with a blanket of white daisies adorning the green landscape in the foreground. The ocean stretches out, waves gently lapping against the shore, while the coastline curves gracefully, dotted with rolling hills. The sky is overcast, casting a soft, muted light over the scenery. The distant landmass is covered with patches of greenery interspersed with winding pathways. The overall ambiance is serene and calming, with the harmonious blend of floral beauty and the rhythmic sound of the waves. This harmonious vista encapsulates the tranquil essence of nature in a seaside setting.',\n",
              "  'end': 33.76,\n",
              "  'start': 31.32},\n",
              " {'description': \"A crowd has gathered in front of an imposing cathedral, its intricate architecture illuminated by soft night lighting. The cathedral's large, elaborate rose window becomes the focal point while statues adorn the exterior walls. The people, some holding candles, create a somber, peaceful scene. The entire setting feels solemn yet united, as if attending a significant, perhaps memorial or vigil event. Street lamps add a gentle glow, casting long shadows over the cobblestone street. The atmosphere is both peaceful and reflective, capturing a collective moment of contemplation beneath the grandeur of the cathedral's towering presence.\",\n",
              "  'end': 35.12,\n",
              "  'start': 33.76},\n",
              " {'description': \"A lone hiker in a red jacket and large backpack treks through a lush, green meadow surrounded by dense forest. Mist rises from towering, rocky mountains in the background, enhancing the scene's mystique. The meadow is dotted with fallen logs and patches of tall grass, hinting at recent rainfall. The hiker uses trekking poles to navigate the uneven terrain, stepping carefully to avoid muddy patches. The sky is overcast, casting a diffused light over the landscape. The peaceful, untouched wilderness invites exploration, promising adventure and solitude in nature’s embrace. The only sounds are footsteps and the distant call of wildlife.\",\n",
              "  'end': 38.92,\n",
              "  'start': 35.12},\n",
              " {'description': 'A hiker stands on a large, weathered rock overlooking a misty, mountainous landscape. Clad in outdoor gear, they wear a backpack while carefully navigating the rugged terrain. Surrounding them are tall evergreen trees, their vibrant green contrasting with the muted grey rocks and distant mountains. Low-hanging clouds obscure the higher peaks, creating an ethereal atmosphere. The rocky ground beneath their feet appears wet and slippery, hinting at recent rainfall or morning dew. The scene exudes a sense of solitude and adventure, capturing the raw beauty of nature in a remote and untamed wilderness.',\n",
              "  'end': 40.76,\n",
              "  'start': 38.92},\n",
              " {'description': 'In a bustling cityscape, tall skyscrapers are adorned with bright, colorful advertisements. Neon lights and billboards contribute to the urban glow, while the street is filled with faintly visible blurred vehicles, perhaps taxis. A lone figure, wearing a dark coat, stands in the foreground, gazing towards the horizon. Surrounding streets are lined with various signs and structures, hinting at a busy commercial area. The atmosphere appears lively, despite the dim lighting suggesting either early morning or late evening. The overall scene captures the essence of a vibrant metropolis, with a mixture of stillness and movement.',\n",
              "  'end': 42.96,\n",
              "  'start': 40.76},\n",
              " {'description': 'The bustling city scene captures a busy street with bright billboards and towering buildings. Yellow taxis drive on the road while pedestrians walk along the sidewalks. The advertisements on the billboards contrast against the dusky sky, showcasing vibrant colors and dynamic graphics. People are dressed in casual clothing, portraying a typical day in the city. The wide road splits into several lanes, with a central island where a person stands. This metropolitan setting features urban life, iconic yellow cabs, and a plethora of advertisements, exemplifying the vibrant and dynamic atmosphere of a large urban environment.',\n",
              "  'end': 43.68,\n",
              "  'start': 42.96},\n",
              " {'description': 'A bustling urban scene captures Times Square, New York City, teeming with vibrant billboards and advertisements. A blurred figure walks down a pedestrian path amidst the vivid motion of vehicles and people. The streets are lined with towering buildings adorned with eye-catching neon lights promoting various brands. The \"Disney\" and \"maxell\" signs are prominent among the colorful displays. Directional arrows on the road guide drivers through the congested streets. The weather appears clear with light filtering through the skyscrapers, illuminating the dynamic cityscape filled with energy and movement, embodying the essence of an iconic and busy metropolis.',\n",
              "  'end': 44.92,\n",
              "  'start': 43.68},\n",
              " {'description': \"In the bustling heart of Times Square, a solitary figure sits in the middle of a busy street amidst towering skyscrapers adorned with vibrant billboards and advertisements. Sidewalks flanked by lush plant-filled planters contrast the city's electronic glow. Motion blurs of passing vehicles and people convey the scene's dynamism. Surrounding banners include brands like Disney and Maxell. The intersection's white arrows and lane markers direct the flow, embodying the city's ceaseless energy. The solitary figure, dressed in dark attire, faces away, adding a contrasting stillness to the otherwise kinetic backdrop of one of the world's most iconic urban landscapes.\",\n",
              "  'end': 46.24,\n",
              "  'start': 44.92},\n",
              " {'description': 'A person seated on a small platform on a busy city street watches vehicles whiz by. Tall buildings with colorful billboards and advertisements surround the area, creating a vibrant and bustling atmosphere. The scene includes a large intercultural bus on the left and several yellow taxis in motion on the right. Neon signs and brand logos such as Disney and Maxell light up the background, indicating a commercial district, likely a famous one. The blur of vehicles and activity emphasizes the fast-paced environment, contrasting with the solitary figure in the foreground.',\n",
              "  'end': 47.08,\n",
              "  'start': 46.24},\n",
              " {'description': 'A person sits alone on a small stool in the middle of a bustling Times Square, surrounded by flashing neon lights and towering, colorful billboards. The wide intersection has distinct lane markings, including arrows indicating traffic directions. Pedestrians and vehicles blur past, creating a sense of motion and activity. Iconic brand advertisements fill the skyscrapers, showcasing various products like Disney and Maxell. The urban environment is crowded with modern architecture, and planters with greenery line the sides of the street, adding a touch of nature. The atmosphere is vibrant, energetic, and quintessentially New York City.',\n",
              "  'end': 48.64,\n",
              "  'start': 47.08},\n",
              " {'description': \"A busy city intersection features bright billboards and advertisements lining tall buildings. Yellow taxis are parked along the streets to the left, while a solitary figure sits in the center where the lanes converge. The scene is vibrant with a mix of neon lights and urban hustle. People can be seen walking on the sidewalks amidst the bustling atmosphere. The iconic signage includes recognizable brand names and graphics, contributing to the city's lively and electric ambiance. Skyscrapers tower in the background, emphasizing the grand scale of this metropolis. The overall feel is energetic and vibrant, typical of a bustling cityscape.\",\n",
              "  'end': 49.96,\n",
              "  'start': 48.64},\n",
              " {'description': 'A festive atmosphere fills the bustling square, where people are gathered in celebration. Bright multi-colored lights decorate the trees and buildings. A large crowd stands before a grand stage where performers engage the audience. Children run joyfully, holding balloons, as couples and families take selfies. Food stalls line one side, offering various delectable treats, while a merry-go-round spins nearby. Holiday decorations and garlands adorn the lampposts, adding to the charm. The air is filled with laughter, music, and the aroma of street food. It is a vibrant and joyous event, capturing the spirit of community and festivity.',\n",
              "  'end': 50.92,\n",
              "  'start': 49.96},\n",
              " {'description': 'A close-up image captures the intense gaze of a human eye. The eye is wide open, displaying a rich, deep brown iris with light reflections that add depth to the scene. The surrounding skin appears slightly tense, suggesting focus or emotion. Shadows and highlights around the eye accentuate its shape and the wrinkles at the edges, hinting at a certain age or expression. The high level of detail emphasizes the texture of both the eye and the eyelids, creating a dramatic and intimate moment. The lighting is soft yet focused, bringing out the natural colors vividly.',\n",
              "  'end': 55.52,\n",
              "  'start': 50.92},\n",
              " {'description': 'The close-up image focuses on a human eye. It captures the intricate details of the iris, which is brown with varied hues and radial patterns. The pupil is dark and central, reflecting a bright light source. The wet surface of the eye glistens, adding a glossy texture to the scene. Eyelashes frame the eye, and the surrounding skin shows subtle lines and natural texture. The intensity and clarity of the eye suggest a moment of heightened awareness or deep contemplation, drawing attention to the depth and complexity of human vision. The image evokes a sense of intense focus and curiosity.',\n",
              "  'end': 56.76,\n",
              "  'start': 55.52},\n",
              " {'description': 'A picturesque grassy field stretches towards a range of snowy mountains under a bright blue sky with scattered clouds. In the foreground, lush green grass and wildflowers cover the landscape. A wooden fence runs across the midground, separating the field from the rugged terrain beyond. The snow-capped peaks in the distance contrast sharply against the vivid sky, adding grandeur to the scene. Pine trees dot the landscape, leading up to the mountains. The atmosphere exudes tranquility and natural beauty, with the vast open space inviting viewers to breathe in the fresh air and absorb the serene environment.',\n",
              "  'end': 57.52,\n",
              "  'start': 56.76},\n",
              " {'description': 'In the image, a dense snowstorm envelops a mountainous landscape, obscuring visibility. Tall, dark pine trees line the rugged terrain, their outlines barely visible through the heavy snowfall. The atmosphere is cold, with the snow falling continuously, creating a serene yet harsh environment. The fog blends with the snowfall, adding a mystic, almost otherworldly quality to the scene. The mountains appear steep and foreboding, their edges softened by the thick blanket of snow. The overall mood is quiet and still, with nature in its raw, untouched state dominating the vista. The whiteness of the snow contrasts deeply with the dark trees.',\n",
              "  'end': 62.72,\n",
              "  'start': 57.52},\n",
              " {'description': \"A breathtaking mountain landscape unfolds, showcasing snow-covered peaks under a clear, brilliant blue sky. Majestic mountains, some sharply pointed, others rounded, form a jagged horizon. Below, a sea of clouds or fog blankets the lower slopes, adding a mystic yet tranquil atmosphere. The sun illuminates the snowy summits, creating a dazzling contrast between the white snow and the vivid blue sky. The scene exudes a sense of tranquility and grandeur, evoking the beauty and splendor of high-altitude mountain ranges. Rugged, remote, and pristine, it's an awe-inspiring view of nature’s magnificence.\",\n",
              "  'end': 68.92,\n",
              "  'start': 62.72},\n",
              " {'description': \"Vast snow-capped mountains rise sharply against a bright, partly cloudy sky. At lower elevations, dense clouds sweep horizontally, partially obscuring the rugged terrain. Below, a frozen lake glistens amidst the rocky landscape, covered in ice and snow. Patches of dark earth and jagged rocks contrast with the blanket of white snow. The scene exudes a serene yet majestic beauty, highlighting the vast, untouched wilderness. The distant peaks are shrouded in mist, adding an air of mystique to the pristine, mountainous expanse. The overall atmosphere is tranquil, showcasing nature's breathtaking grandeur in a high-altitude, alpine setting.\",\n",
              "  'end': 74.36,\n",
              "  'start': 68.92},\n",
              " {'description': 'A picturesque coastal scene unfolds as a serene bay rests beneath a cloudy blue sky. Turquoise waters gently lap against the shore, glistening under the soft sunlight. Enclosing the bay, lush green hills dotted with a patchwork of trees and vegetation rise upwards, framing the tranquil waters. In the distance, the horizon merges seamlessly with the sky. Boats, small and scattered, float peacefully, adding a sense of calm to the atmosphere. The landscape exudes a sense of untouched natural beauty, inviting onlookers to bask in the serene and quiet ambiance of this coastal paradise.',\n",
              "  'end': 75.36,\n",
              "  'start': 74.36},\n",
              " {'description': 'A breathtaking view unfolds above the clouds, awash with the golden hue of the setting or rising sun. The sunburst creates a radiating halo, gently illuminating the fluffy white clouds below. The sky, a serene blue, gradually deepens in color as it stretches away from the bright sun. The clouds form an undulating, ethereal landscape, appearing almost tangible as they catch the sun’s light. This majestic, peaceful scene evokes a sense of spacious tranquility, with beams of light piercing through the mist, adding a magical touch to this high-altitude spectacle. The atmosphere feels warm and inviting, despite the altitude.',\n",
              "  'end': 97.28,\n",
              "  'start': 75.36},\n",
              " {'description': \"A thrilling tube ride captures the essence of surfing as a huge wave curls, creating a tunnel of water. The scene is viewed from inside the barrel where vibrant sunlight illuminates the wave's translucent blue and green hues. To the left, soft golden light contrasts with the dark, deep blue of the ocean, emphasizing the natural beauty and power of the sea. The distant coastline is barely visible through the opening, adding depth to this exhilarating moment. The overall scene is dynamic and immersive, showcasing the intense, fleeting nature of riding a perfect wave.\",\n",
              "  'end': 101.0,\n",
              "  'start': 97.28},\n",
              " {'description': 'A kayaker navigates narrow waters flanked by towering canyon walls. Dressed in protective gear, the adventurer extends one arm skyward as sunlight pierces the crevice above. Reflections shimmer on the surface of the vibrant, clear blue water. A paddle rests firmly across his lap, poised for the next stroke through the serene, yet exhilarating journey. The contrast of light from above with the shadowy rock walls adds drama to the scene. The bright red kayak stands out vividly against the dark environment, emphasizing the thrill and solitude of the expedition through this majestic natural passageway.',\n",
              "  'end': 101.6,\n",
              "  'start': 101.0},\n",
              " {'description': \"A lone climber in a red jacket ascends a steep, snow-covered mountain. The rugged terrain is dotted with rocks protruding through the pristine white snow. The individual appears to be equipped for the journey, with climbing gear and a backpack. The mountainous backdrop reveals a stunning vista of snow-clad peaks and sharp ridges, underlining the breathtaking yet treacherous environment. The sky is mostly clear with occasional clouds, providing a sharp contrast to the glistening, icy landscape. The atmosphere feels serene yet demanding, emphasizing the climber's solitary challenge against nature’s formidable beauty and adversity.\",\n",
              "  'end': 103.44,\n",
              "  'start': 101.6},\n",
              " {'description': \"The scene shows a cheerful toddler with dark, curly hair sitting on the floor in a cozy living room. The toddler wears a blue shirt decorated with white hearts. They are holding a smartphone-like device and smiling gleefully. Behind them, there’s a couch with a gray blanket draped over it. A colorful play mat lies beneath, scattered with various toys. Wooden floors and a softly lit ambiance add to the room's warm atmosphere. A house plant in a pot is visible in the background, adding a touch of greenery to the comfortable space.\",\n",
              "  'end': 104.12,\n",
              "  'start': 103.44},\n",
              " {'description': 'The image captures a thrilling moment of a person performing an upside-down skydiving maneuver. The skydiver is seen diving headfirst towards the ground while holding a rectangular board with their feet. The background features an expansive landscape of mountains and valleys bathed in natural sunlight, with a clear blue sky above. The person is dressed in a dark jacket and white pants, creating a stark contrast against the blue sky and rugged terrain below. Thin, wispy clouds stretch across the horizon, emphasizing the altitude and dramatic nature of the skydive. The scene exudes a sense of adventure and exhilaration.',\n",
              "  'end': 104.72,\n",
              "  'start': 104.12},\n",
              " {'description': \"A pilot is flying a jet at high altitude, dressed in a flight suit and wearing a yellow helmet with reflective aviator sunglasses. The pilot's focused expression is framed by the cockpit, with a headset microphone extended near his mouth. Behind him, three parallel contrails stretch across the clear blue sky, suggesting the presence of other aircraft. The landscape below, partially visible, shows vast terrain and hints of coastline. The sunlight reflects off the pilot's helmet and sunglasses, adding a bright glint. The overall scene captures the intensity and precision of high-altitude, high-speed aviation.\",\n",
              "  'end': 105.8,\n",
              "  'start': 104.72},\n",
              " {'description': 'A motorcycle navigates a winding road through a scenic forest. The sun is setting, casting a warm, golden glow on the surrounding trees and the road ahead. Tall trees on either side frame the scene, with branches reaching overhead. The road is two-lane, marked with double yellow lines, indicating a no-passing zone. The rider appears to be moving at a high speed, creating a sense of motion and adventure. Shadows from the trees stretch across the pavement, enhancing the dramatic lighting. The scene evokes a feeling of freedom and excitement as the rider journeys forward into the sunset.',\n",
              "  'end': 106.44,\n",
              "  'start': 105.8},\n",
              " {'description': 'A motorcycle rides down a narrow, winding road flanked by tall trees on either side. The road, bathed in warm, golden sunlight, stretches into the distance where the horizon glows with the setting sun. Shadows of branches dance across the asphalt as the rider navigates through this serene, forested landscape. The handlebars and mirrors of the motorcycle are visible in the foreground, with the trees creating a tunnel-like effect around the road. The overall atmosphere is calm, with the natural beauty of the scenic route amplified by the golden glow of the sun.',\n",
              "  'end': 107.04,\n",
              "  'start': 106.44},\n",
              " {'description': \"A lone motorcyclist rides down a tree-lined road at sunset, the golden light illuminating the path ahead. The two-lane road stretches into the horizon, bordered by tall trees whose leaves are touched by the sun. The rider's helmet and handlebars are visible in the foreground, capturing the sense of speed and adventure. The scene exudes tranquility, with the empty road and the peaceful glow of the setting sun creating a serene atmosphere. Shadows from the trees stretch across the pavement, and the sky is painted with warm hues, signaling the end of a perfect day for a ride.\",\n",
              "  'end': 107.64,\n",
              "  'start': 107.04},\n",
              " {'description': 'A full moon dominates a stark, black night sky. Its luminous surface reveals intricate details of lunar craters, valleys, and plains. Pale gray and white tones create a marbled effect, while darker patches suggest a rugged, uneven landscape. The moon shines brightly, casting a gentle glow, and its edges are clearly defined against the darkness. The scene is tranquil and hauntingly beautiful, evoking a sense of calm and wonder. The absence of stars and other celestial bodies focuses all attention on the moon’s grandeur, highlighting its central position in the celestial canvas.',\n",
              "  'end': 114.44,\n",
              "  'start': 107.64},\n",
              " {'description': 'The scene depicts a nighttime sky filled with a multitude of glittering stars. Leafless tree branches extend upwards from the bottom, creating a stark contrast against the dark blue, star-studded sky. The bare, spindly branches reach out like skeletal fingers, framing the cosmic expanse above. The stars appear to shimmer and twinkle, some brighter than others, providing a sense of depth to the heavenly display. The scene is serene and evokes a sense of wonder and tranquility, highlighting the natural beauty of the night sky and the quiet, haunting presence of the bare trees below.',\n",
              "  'end': 119.12,\n",
              "  'start': 114.44},\n",
              " {'description': 'A dense fog envelops a forested area, allowing only the faintest outlines of trees to be visible. The thick mist creates an eerie and mysterious atmosphere, obscuring the landscape and giving a sense of depth to the scene. Dark foliage appears in shadowy clusters, peeking out from the grey shroud. Light struggles to penetrate the heavy fog, adding to the overall gloom and secrecy of the environment. The muted color palette of greens and grays contributes to the somber and ghostly mood, evoking a feeling of isolation and quiet stillness within the hidden woodland.',\n",
              "  'end': 122.4,\n",
              "  'start': 119.12},\n",
              " {'description': \"A serene landscape unfolds with a blanket of ethereal white mist. The fog rolls gently over lush green treetops, obscuring much of the forest below. In the distance, variably shaded blue-grey mountains emerge faintly through the haze, creating a mystical backdrop. The rising mist suggests early morning, with the promise of a bright day ahead. The play of light and shadow adds depth to the scene, evoking a sense of calm and tranquility. The scene captures nature's beauty and the peacefulness of a high-altitude forest surrounded by thick, enchanting mist.\",\n",
              "  'end': 129.4,\n",
              "  'start': 122.4},\n",
              " {'description': \"A sea of mist envelops the dense forest, with only the towering tops of evergreen trees piercing through the white fog. The mist swirls and shifts gently, creating an ethereal atmosphere. Distant forested hills emerge faintly, blending into the misty horizon. The light is soft and diffused, casting an even, muted glow over the scene. The atmosphere is tranquil and untouched, evoking a sense of serenity and mystery. The vast expanse of greenery peaks through the fog, revealing the lush, rich hues of the forest. It's a harmonious blend of nature's raw beauty and translucent mist.\",\n",
              "  'end': 135.68,\n",
              "  'start': 129.4},\n",
              " {'description': \"A sunset over a vast, tranquil ocean paints the sky in hues of gold, pink, and lavender. Waves gently lap against the shore, mirroring the sky's vibrant colors. A lonely sailboat drifts peacefully on the horizon, silhouetted against the brilliant display. The beach is nearly empty, with smooth, wet sand reflecting the diminishing sunlight. Soaring birds fly low, skimming the water's surface. Tall palm trees stand gracefully along the shoreline, their leaves rustling softly in the breeze. The atmosphere is serene and calming, capturing the essence of nature's beauty at the end of the day.\",\n",
              "  'end': 138.08,\n",
              "  'start': 135.68},\n",
              " {'description': 'A rugged mountain landscape is depicted with towering cliffs on both sides. A winding river flows through the valley, bordered by rocky terrain and patches of greenery. The rocky cliffs are steep and imposing, giving the scene a raw, untouched natural beauty. Snow-capped peaks and distant mountains can be glimpsed in the background, suggesting a higher altitude. The sky is clear, and the lighting suggests late afternoon, casting shadows and highlighting the textures of the cliffs and the flowing water. The serene yet rugged scenery suggests a remote and pristine wilderness, evoking a sense of tranquility and awe.',\n",
              "  'end': 139.52,\n",
              "  'start': 138.08},\n",
              " {'description': 'A high-altitude scene features a narrow, cascading waterfall flowing down a steep, rocky mountainside. Snow patches cling to the rugged cliffs, highlighting the elevation and adding a stark contrast to the dark, jagged rocks. Lush green vegetation clings resiliently to the slopes, hinting at the harsh yet life-sustaining environment. The sky appears clear, with a hint of blue in the distance, suggesting a crisp, sunny day. The valley below is shrouded in shadows, adding depth and mystery to the landscape. The entire scene exudes a sense of awe and natural grandeur, typical of mountainous terrain.',\n",
              "  'end': 140.28,\n",
              "  'start': 139.52},\n",
              " {'description': 'A powerful waterfall cascades down a steep, rocky mountainside. The water rushes down the smooth rock surface with immense force, creating white froth and mist as it descends. The surrounding terrain is rugged and textured, with an array of striations and cracks on the cliff face. Sparse patches of greenery can be seen in the background, contrasting sharply with the stark, gray rocks. The scene captures the raw, untamed beauty of nature, highlighting the dynamic interplay between the solid, unyielding rock and the fluid, ever-moving water. The sheer drop and velocity of the waterfall evoke a sense of awe.',\n",
              "  'end': 144.16,\n",
              "  'start': 140.28},\n",
              " {'description': 'A stunning aerial view captures a powerful waterfall plunging down between rugged mountain cliffs. The white, frothy water contrasts vividly with the dark, jagged rocks. Green vegetation clings precariously to the cliff faces, adding bursts of life to the scene. Far below, a lush, green valley stretches out, dotted with trees and possibly meadows. The sunlight casts sharp shadows, enhancing the dramatic landscape. The scene exudes natural beauty and raw power, showcasing the untamed essence of the wilderness. The waterfall’s roar seems almost audible, creating a sense of serenity and awe in this remote, pristine environment.',\n",
              "  'end': 147.24,\n",
              "  'start': 144.16},\n",
              " {'description': 'A busy urban intersection is crowded with people. Tall skyscrapers, adorned with neon signs and billboards, line the streets. Light poles with traffic signals and advertisements are visible. Pedestrians cross the street in multiple directions on designated crosswalks, while cars and buses wait at the lights. The neon signs create a colorful nighttime glow, casting vibrant reflections on wet pavement. Shops and businesses with bright windows add to the bustling atmosphere. Above, lit-up signs in various languages advertise products and services. The energy and movement in the scene highlight the lively nature of city life at night.',\n",
              "  'end': 151.56,\n",
              "  'start': 147.24},\n",
              " {'description': 'A group of people, predominantly young, are shown in a tightly knit setting with expressions of joy and excitement. They wear uniforms of the same color, possibly indicating they are part of a team or organization. The image is slightly blurred, adding a dynamic quality to it. The lighting is dim, suggesting an indoor environment, perhaps a workspace or recreational area. The central figure is raising an arm, possibly in a celebratory gesture. Overall, the group exudes camaraderie and happiness, seemingly caught up in a moment of shared enthusiasm or accomplishment.',\n",
              "  'end': 152.16,\n",
              "  'start': 151.56},\n",
              " {'description': \"A group of nine people gathers closely together, smiling and laughing in an outdoor café setting, surrounded by greenery. Some are leaning on each other and holding drinks, while one person in the front extends an arm to take a selfie with a phone. The group appears to be having a joyous time, enjoying each other's company and the sunny day. The relaxed and casual atmosphere is highlighted by their cheerful expressions and casual attire. The café's chairs and tables are visible in the background, adding to the lively ambiance of the scene.\",\n",
              "  'end': 153.32,\n",
              "  'start': 152.16},\n",
              " {'description': 'A young child is seen lying on a surfboard, seemingly enjoying a surfing session. The bright sunlight highlights the scene, with the sky appearing clear and blue. Ocean waves splash around the surfboard as the child balances comfortably, their arms extended outward. The golden hue of the surfboard contrasts with the deep blue of the water, indicating a warm day. The scene captures the excitement and joy of surfing, with droplets of water and a sense of movement enhancing the dynamic nature of the moment. The overall atmosphere is vibrant and adventurous.',\n",
              "  'end': 154.08,\n",
              "  'start': 153.32},\n",
              " {'description': 'A person is skydiving, captured mid-air against a backdrop of stunning clouds and blue sky. They wear a parachute and seem positioned to navigate the descent. Their body is slightly tilted forward, arms spread, with legs partially bent. Contrasting the bright clouds on the left, the deep blue sky stretches on the right. The image conveys a sense of freedom and thrill from the high altitude, indicating a possible high-speed drop. The overall scene evokes an adventurous and exhilarating atmosphere as the person experiences the extreme sport of skydiving.',\n",
              "  'end': 154.96,\n",
              "  'start': 154.08},\n",
              " {'description': 'A woman stands amid a vibrant autumn forest. She is dressed casually in a light blue shirt and jeans, her hair partially covered by a white knitted hat. She holds a bright yellow leaf, with other colorful leaves scattered both on the ground and trees around her. Sunlight filters through the branches, illuminating the rich hues of gold, orange, and red. The background displays a dense mix of trees, showcasing the full palette of fall foliage. The woman’s relaxed posture and faint smile suggest she is enjoying the serene beauty of the season, making the scene feel peaceful and reflective.',\n",
              "  'end': 155.76,\n",
              "  'start': 154.96},\n",
              " {'description': 'A young boy, dressed in traditional white Middle Eastern clothing with a headscarf, is smiling brightly. He stands outdoors in a sunlit, open area surrounded by the white, grand architectural structures that resemble a mosque. The background features several large, elegant arches and domes with intricate designs, all very light-colored, giving an impression of purity and serenity. The sky is clear, contributing to the brightness of the scene. The atmosphere seems to be filled with positive energy, and the boy appears to be genuinely happy, possibly in a celebratory or religious context. The setting is calm and peaceful.',\n",
              "  'end': 156.84,\n",
              "  'start': 155.76},\n",
              " {'description': 'A group of children are running enthusiastically down a dusty street. Most wear colorful clothing, and they appear joyful and full of energy. The street is lined with makeshift structures, likely homes, and has a rustic, informal settlement feel. In the background, there are laundry lines with clothes hanging to dry and a parked car. Further back, a few more individuals are visible, casually moving about their daily chores. The scene is bathed in bright sunlight, casting clear shadows. The overall atmosphere appears lively, communal, and vibrant, capturing a moment of carefree childhood in a modest setting.',\n",
              "  'end': 158.32,\n",
              "  'start': 156.84},\n",
              " {'description': 'A narrow, crowded alleyway is bathed in warm sunlight filtering through gaps above. Vibrant, weathered walls line each side with a mix of wooden and metal panels. A child runs ahead, wearing a striped shirt and pants, navigating through the constricted path. Bright yellow barrels and red doors add bursts of color to the scene. Clothes and miscellaneous items hang from above and side walls, creating a sense of daily life. The alleyway feels humid and bustling, capturing a snapshot of a lively, condensed urban area where space is utilized to its fullest potential.',\n",
              "  'end': 158.92,\n",
              "  'start': 158.32},\n",
              " {'description': 'A scene captures people outside a building. A man and a woman embrace warmly in front of revolving doors. A person in a trench coat walks by, looking ahead, while others stroll in the background. The building behind features large windows. The sunlight casts a warm glow over the area, highlighting the joyful reunion. The setting appears to be a public space, possibly an office or a transportation hub. The atmosphere is bustling yet filled with moments of personal connection and happiness. Shadows and light effects suggest it is either early morning or late afternoon.',\n",
              "  'end': 159.72,\n",
              "  'start': 158.92},\n",
              " {'description': \"Four individuals stand on a sliver of sandy beach, with three holding surfboards, facing a colossal wave in the background. The ocean appears intense and powerful, the giant wave towering over the scene, frothy with whitecaps. The sky above is clear and serene, contrasting with the chaotic sea. One person on the right appears to be crouching or digging in the sand, seemingly unaware of the massive wave. The surfboards indicate a readiness to confront or participate in the ocean's turbulence, embodying a sense of adventure and challenge against nature’s fierce beauty. The overall mood is tense and anticipatory.\",\n",
              "  'end': 161.64,\n",
              "  'start': 159.72},\n",
              " {'description': \"The scene captures a misty forest during dawn or dusk. Sunlight filters through the dense canopy, casting ethereal beams across the scene. Tall trees with sprawling branches dominate the view, enveloped in a thick layer of fog. The atmosphere appears serene yet mysterious, with the interplay of light and shadow creating a dramatic effect. The mist gives a sense of depth and tranquility to the forest, suggesting an untouched, pristine environment. There's a mystical quality to the light penetrating through the fog, highlighting the elegance and majesty of the towering trees against a backdrop of diffused sunlight.\",\n",
              "  'end': 172.12,\n",
              "  'start': 161.64},\n",
              " {'description': \"A young child clad in a bright yellow raincoat frolics under low hanging branches and snowy coniferous trees in a lush forest. Leaves carpet the damp ground and a dog follows closely, surrounded by an autumnal palette. Overcast skies hint at more rain, while distant mountains partially covered in mist add depth to the serene woodland. The child and dog are framed by the arching branches, emphasizing their small figures amidst nature's grandeur. The scene exudes a sense of adventure and discovery, with the vibrant raincoat standing out against the muted, earthy tones of the forest setting.\",\n",
              "  'end': 173.76,\n",
              "  'start': 172.12},\n",
              " {'description': 'A dense fog envelops a forest of towering evergreen trees, their dark silhouettes faintly visible through the mist. The scene is serene yet mysterious, with a thick blanket of grayish-white fog obscuring the forest floor and creating an ethereal atmosphere. The sky is a pale, hazy blue, diffusing soft light over the landscape. The tops of the tallest trees pierce through the fog, standing out against the lighter background. The overall mood conveys a sense of quiet stillness and natural beauty, capturing the essence of a foggy morning in the woods.',\n",
              "  'end': 176.6,\n",
              "  'start': 173.76},\n",
              " {'description': \"Thick mist envelopes a dense forest of towering evergreen trees. The scene is serene and slightly mysterious, with the fog creating an ethereal atmosphere. The trees are tall and lush, their deep green foliage partially obscured by the mist. The forest stretches out into the distance, appearing vast and untouched. The mist lends a moist, cool, and tranquil feel to the air. Faint outlines of the more distant trees blend into the grayish-white fog, creating a soft, almost dreamlike boundary between the forest and the sky. It's a peaceful, quiet, and enchanting natural setting.\",\n",
              "  'end': 179.76,\n",
              "  'start': 176.6},\n",
              " {'description': 'A serene landscape is depicted, featuring a vast expanse of lush green grass in the foreground. Beyond the grassy area lies a calm, reflective body of water stretching into the distance. The horizon is adorned with gently rolling hills, or possibly mountains, silhouetted against a sky that is partly clouded, creating a picturesque and tranquil setting. The sky displays a blend of soft colors, suggesting either dawn or dusk, adding to the serenity of the scene. The overall atmosphere is peaceful and untouched, showcasing the beauty of nature in its purest form.',\n",
              "  'end': 186.4,\n",
              "  'start': 179.76},\n",
              " {'description': \"A man stands confidently with arms crossed in front of a well-stocked shoe store. The store, brightly lit, displays a variety of athletic shoes on neatly arranged shelves. Prominent brands and colorful designs dominate the backdrop. He wears dark, casual clothing, blending with the store’s modern ambiance. His demeanor suggests expertise and a welcoming attitude. Shiny tile floors and organized racks reflect a professional retail environment. Above him, a sign reads “RUN WITH CONFIDENCE,” emphasizing the store's focus on running gear. The store appears inviting, ready to assist customers in finding the perfect pair of shoes.\",\n",
              "  'end': 187.08,\n",
              "  'start': 186.4},\n",
              " {'description': 'A close-up image of a human eye dominates the frame. The sclera is dimly lit, enveloped in shadows, creating a sense of mystery. The iris is a mix of muted colors that blend into each other, surrounding a dark, focused pupil. The lighting is low, emphasizing a dramatic contrast between the eye and its darker surroundings. The image evokes a sense of intensity and curiosity, drawing the viewer’s focus straight into the depths of the eye. The surrounding darkness adds an air of suspense and intrigue, making the eye appear to be peering into the unknown.',\n",
              "  'end': 187.8,\n",
              "  'start': 187.08},\n",
              " {'description': \"A close-up eye image reveals intricate details. The iris displays shades of brown and blue, forming a striking contrast. Multicolored reflections, possibly from light or a lens, arc across the scene, creating a rainbow-like effect. The pupil, centrally located, is jet black and surrounded by subtle, radial streaks. The reflection adds depth, featuring a distant, star-like object. The focus on the eye's textures and colors creates an almost surreal, captivating effect. Surrounding the iris and pupil are softer hues and gradients, blending harmoniously. The image evokes mystery and wonder, hinting at the limitless expanse of inner vision.\",\n",
              "  'end': 190.08,\n",
              "  'start': 187.8},\n",
              " {'description': 'A black screen displays white text. The largest text reads \"Edited by TRAGEDYANDHOPE\" in capitalized, bold letters, standing out prominently in the middle. Beneath this, smaller text provides contact references: \"Facebook/TragedyandHopeProductions\" and the website \"TragedyandHopeProductions.org.\" The design is minimalistic, with an emphasis on the editing credit as well as how to find further information or follow the production through social media and a dedicated website. The overall aesthetic is straightforward and professional, using the contrast of white text on a black background for clear readability and striking visual impact.',\n",
              "  'end': 218.44,\n",
              "  'start': 190.08}]"
            ]
          },
          "execution_count": 20,
          "metadata": {},
          "output_type": "execute_result"
        }
      ],
      "source": [
        "# Take a look at the scenes\n",
        "video.get_scene_index(index_id)"
      ]
    },
    {
      "cell_type": "markdown",
      "metadata": {
        "id": "2s39Btz_7Bvh"
      },
      "source": [
        "#### Add Subtitle to a video\n",
        "It returns a new stream instantly with subtitle added into the video. Subtitle functions has many styling parameters like font, size, background color etc. Check the notebook: [Subtitle Styles](https://github.com/video-db/videodb-cookbook/blob/main/guides/Subtitle.ipynb) for details."
      ]
    },
    {
      "cell_type": "code",
      "execution_count": null,
      "metadata": {
        "id": "Se4jgQ2o7Bvh",
        "outputId": "b7698cc3-247d-45b4-d058-d617a2b6b8fc"
      },
      "outputs": [
        {
          "data": {
            "text/plain": [
              "'https://console.videodb.io/player?url=https://stream.videodb.io/v3/published/manifests/c4f9baf4-180e-4cdb-b48d-407c71fe4080.m3u8'"
            ]
          },
          "execution_count": 22,
          "metadata": {},
          "output_type": "execute_result"
        }
      ],
      "source": [
        "new_stream = video.add_subtitle()\n",
        "play_stream(new_stream)"
      ]
    },
    {
      "cell_type": "markdown",
      "metadata": {
        "id": "gSaMjpF-7Bvi"
      },
      "source": [
        "#### Generate Thumbnail of Video :\n",
        "\n",
        "You can use `video.generate_thumbnail(time=)` to generate a thumbnail image of video from any timestamp."
      ]
    },
    {
      "cell_type": "code",
      "execution_count": null,
      "metadata": {
        "id": "ijN_iIYR7Bvi",
        "outputId": "e395ec6e-c210-44cd-eca0-d8078309f868"
      },
      "outputs": [
        {
          "data": {
            "text/html": [
              "<img src=\"https://storage.videodb.io/media/u-c8051655-9342-40d2-b4e9-862631b4a733/img-m-e6a4c001-3ba7-4c29-9ca3-9e3a2e9fcc1b-thumbnail-12.0/image\"/>"
            ],
            "text/plain": [
              "<IPython.core.display.Image object>"
            ]
          },
          "execution_count": 34,
          "metadata": {},
          "output_type": "execute_result"
        }
      ],
      "source": [
        "from IPython.display import Image\n",
        "\n",
        "image = video.generate_thumbnail(time=12.0)\n",
        "Image(url=image.url)"
      ]
    },
    {
      "cell_type": "markdown",
      "metadata": {
        "id": "GapOUkFF7Bvi"
      },
      "source": [
        "##### Delete a video :\n",
        "\n",
        "* `video.delete()` :deletes a video."
      ]
    },
    {
      "cell_type": "code",
      "execution_count": null,
      "metadata": {
        "id": "7ieVU46i7Bvi"
      },
      "outputs": [],
      "source": [
        "video.delete()"
      ]
    },
    {
      "cell_type": "markdown",
      "metadata": {
        "id": "9DBTOycj7Bvi"
      },
      "source": [
        "\n",
        "<div style=\"background-color: #ffffcc; color: black; padding: 10px; border-radius: 5px;\">\n",
        "Checkout more examples and tutorials 👉 <a href=\"https://docs.videodb.io/build-with-videodb-35\"> Build with VideoDB </a> to explore what you can build with VideoDB\n",
        "</div>"
      ]
    }
  ],
  "metadata": {
    "colab": {
      "provenance": []
    },
    "kernelspec": {
      "display_name": "Python 3 (ipykernel)",
      "language": "python",
      "name": "python3"
    },
    "language_info": {
      "codemirror_mode": {
        "name": "ipython",
        "version": 3
      },
      "file_extension": ".py",
      "mimetype": "text/x-python",
      "name": "python",
      "nbconvert_exporter": "python",
      "pygments_lexer": "ipython3",
      "version": "3.12.0"
    }
  },
  "nbformat": 4,
  "nbformat_minor": 0
}
